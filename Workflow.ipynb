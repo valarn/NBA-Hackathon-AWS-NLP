{
 "cells": [
  {
   "cell_type": "code",
   "execution_count": 25,
   "metadata": {},
   "outputs": [],
   "source": [
    "import pandas as pd"
   ]
  },
  {
   "cell_type": "markdown",
   "metadata": {},
   "source": [
    "## Reading in the Data"
   ]
  },
  {
   "cell_type": "code",
   "execution_count": 26,
   "metadata": {},
   "outputs": [
    {
     "data": {
      "text/html": [
       "<div>\n",
       "<style scoped>\n",
       "    .dataframe tbody tr th:only-of-type {\n",
       "        vertical-align: middle;\n",
       "    }\n",
       "\n",
       "    .dataframe tbody tr th {\n",
       "        vertical-align: top;\n",
       "    }\n",
       "\n",
       "    .dataframe thead th {\n",
       "        text-align: right;\n",
       "    }\n",
       "</style>\n",
       "<table border=\"1\" class=\"dataframe\">\n",
       "  <thead>\n",
       "    <tr style=\"text-align: right;\">\n",
       "      <th></th>\n",
       "      <th>Engagements</th>\n",
       "      <th>Followers at Posting</th>\n",
       "      <th>Created</th>\n",
       "      <th>Type</th>\n",
       "      <th>Description</th>\n",
       "    </tr>\n",
       "  </thead>\n",
       "  <tbody>\n",
       "    <tr>\n",
       "      <th>0</th>\n",
       "      <td>502093</td>\n",
       "      <td>36984682</td>\n",
       "      <td>2019-05-21 23:30:51 EDT</td>\n",
       "      <td>Video</td>\n",
       "      <td>The @raptors bench trio of @sergeibaka @norman...</td>\n",
       "    </tr>\n",
       "    <tr>\n",
       "      <th>1</th>\n",
       "      <td>603380</td>\n",
       "      <td>36984682</td>\n",
       "      <td>2019-05-21 22:53:33 EDT</td>\n",
       "      <td>Video</td>\n",
       "      <td>@kyle_lowry7 pulls from deep for the @raptors ...</td>\n",
       "    </tr>\n",
       "    <tr>\n",
       "      <th>2</th>\n",
       "      <td>603380</td>\n",
       "      <td>36984682</td>\n",
       "      <td>2019-05-21 22:19:58 EDT</td>\n",
       "      <td>Video</td>\n",
       "      <td>@k_mid22 with some english on the @bucks dime!</td>\n",
       "    </tr>\n",
       "    <tr>\n",
       "      <th>3</th>\n",
       "      <td>725100</td>\n",
       "      <td>36984682</td>\n",
       "      <td>2019-05-21 22:02:41 EDT</td>\n",
       "      <td>Video</td>\n",
       "      <td>Kawhi punches it home with the left on TNT!</td>\n",
       "    </tr>\n",
       "    <tr>\n",
       "      <th>4</th>\n",
       "      <td>661446</td>\n",
       "      <td>36984682</td>\n",
       "      <td>2019-05-21 20:47:49 EDT</td>\n",
       "      <td>Video</td>\n",
       "      <td>@giannis_an34 goes baseline early to rock the ...</td>\n",
       "    </tr>\n",
       "  </tbody>\n",
       "</table>\n",
       "</div>"
      ],
      "text/plain": [
       "   Engagements  Followers at Posting                  Created   Type  \\\n",
       "0       502093              36984682  2019-05-21 23:30:51 EDT  Video   \n",
       "1       603380              36984682  2019-05-21 22:53:33 EDT  Video   \n",
       "2       603380              36984682  2019-05-21 22:19:58 EDT  Video   \n",
       "3       725100              36984682  2019-05-21 22:02:41 EDT  Video   \n",
       "4       661446              36984682  2019-05-21 20:47:49 EDT  Video   \n",
       "\n",
       "                                         Description  \n",
       "0  The @raptors bench trio of @sergeibaka @norman...  \n",
       "1  @kyle_lowry7 pulls from deep for the @raptors ...  \n",
       "2     @k_mid22 with some english on the @bucks dime!  \n",
       "3        Kawhi punches it home with the left on TNT!  \n",
       "4  @giannis_an34 goes baseline early to rock the ...  "
      ]
     },
     "execution_count": 26,
     "metadata": {},
     "output_type": "execute_result"
    }
   ],
   "source": [
    "df = pd.read_csv('./datasets/training.csv')\n",
    "df.head()"
   ]
  },
  {
   "cell_type": "code",
   "execution_count": 27,
   "metadata": {},
   "outputs": [
    {
     "data": {
      "text/plain": [
       "Engagements              0\n",
       "Followers at Posting     0\n",
       "Created                  0\n",
       "Type                     0\n",
       "Description             14\n",
       "dtype: int64"
      ]
     },
     "execution_count": 27,
     "metadata": {},
     "output_type": "execute_result"
    }
   ],
   "source": [
    "df.isnull().sum()"
   ]
  },
  {
   "cell_type": "code",
   "execution_count": 28,
   "metadata": {},
   "outputs": [
    {
     "data": {
      "text/plain": [
       "(7766, 5)"
      ]
     },
     "execution_count": 28,
     "metadata": {},
     "output_type": "execute_result"
    }
   ],
   "source": [
    "df.shape"
   ]
  },
  {
   "cell_type": "markdown",
   "metadata": {},
   "source": [
    "## Dropping 14 Instagram Posts with No Description \n",
    "- For my modeling, I want to execute NLP; therefore, I'm going to drop the 14 instagrams posts that don't have descriptions. "
   ]
  },
  {
   "cell_type": "code",
   "execution_count": 29,
   "metadata": {},
   "outputs": [],
   "source": [
    "#dropping permanently \n",
    "df.dropna(subset= ['Description'], axis = 0, inplace = True)"
   ]
  },
  {
   "cell_type": "code",
   "execution_count": 30,
   "metadata": {},
   "outputs": [
    {
     "data": {
      "text/plain": [
       "(7752, 5)"
      ]
     },
     "execution_count": 30,
     "metadata": {},
     "output_type": "execute_result"
    }
   ],
   "source": [
    "df.shape"
   ]
  },
  {
   "cell_type": "code",
   "execution_count": 31,
   "metadata": {},
   "outputs": [
    {
     "data": {
      "text/plain": [
       "0"
      ]
     },
     "execution_count": 31,
     "metadata": {},
     "output_type": "execute_result"
    }
   ],
   "source": [
    "df.isnull().sum().sum()"
   ]
  },
  {
   "cell_type": "code",
   "execution_count": 32,
   "metadata": {},
   "outputs": [
    {
     "data": {
      "text/plain": [
       "Engagements              int64\n",
       "Followers at Posting     int64\n",
       "Created                 object\n",
       "Type                    object\n",
       "Description             object\n",
       "dtype: object"
      ]
     },
     "execution_count": 32,
     "metadata": {},
     "output_type": "execute_result"
    }
   ],
   "source": [
    "df.dtypes"
   ]
  },
  {
   "cell_type": "code",
   "execution_count": 33,
   "metadata": {},
   "outputs": [
    {
     "data": {
      "text/plain": [
       "Video    5451\n",
       "Photo    1588\n",
       "Album     713\n",
       "Name: Type, dtype: int64"
      ]
     },
     "execution_count": 33,
     "metadata": {},
     "output_type": "execute_result"
    }
   ],
   "source": [
    "#want to see the frequency of different types \n",
    "df['Type'].value_counts()"
   ]
  },
  {
   "cell_type": "markdown",
   "metadata": {},
   "source": [
    "## Getting Dummy Columns for Type "
   ]
  },
  {
   "cell_type": "code",
   "execution_count": 34,
   "metadata": {},
   "outputs": [],
   "source": [
    "#note how i dropped one of the dummy columns to prevent multicollinearity \n",
    "dataframe = pd.get_dummies(df, columns = ['Type'], drop_first= True )"
   ]
  },
  {
   "cell_type": "code",
   "execution_count": 35,
   "metadata": {},
   "outputs": [
    {
     "data": {
      "text/html": [
       "<div>\n",
       "<style scoped>\n",
       "    .dataframe tbody tr th:only-of-type {\n",
       "        vertical-align: middle;\n",
       "    }\n",
       "\n",
       "    .dataframe tbody tr th {\n",
       "        vertical-align: top;\n",
       "    }\n",
       "\n",
       "    .dataframe thead th {\n",
       "        text-align: right;\n",
       "    }\n",
       "</style>\n",
       "<table border=\"1\" class=\"dataframe\">\n",
       "  <thead>\n",
       "    <tr style=\"text-align: right;\">\n",
       "      <th></th>\n",
       "      <th>Engagements</th>\n",
       "      <th>Followers at Posting</th>\n",
       "      <th>Created</th>\n",
       "      <th>Description</th>\n",
       "      <th>Type_Photo</th>\n",
       "      <th>Type_Video</th>\n",
       "    </tr>\n",
       "  </thead>\n",
       "  <tbody>\n",
       "    <tr>\n",
       "      <th>0</th>\n",
       "      <td>502093</td>\n",
       "      <td>36984682</td>\n",
       "      <td>2019-05-21 23:30:51 EDT</td>\n",
       "      <td>The @raptors bench trio of @sergeibaka @norman...</td>\n",
       "      <td>0</td>\n",
       "      <td>1</td>\n",
       "    </tr>\n",
       "    <tr>\n",
       "      <th>1</th>\n",
       "      <td>603380</td>\n",
       "      <td>36984682</td>\n",
       "      <td>2019-05-21 22:53:33 EDT</td>\n",
       "      <td>@kyle_lowry7 pulls from deep for the @raptors ...</td>\n",
       "      <td>0</td>\n",
       "      <td>1</td>\n",
       "    </tr>\n",
       "    <tr>\n",
       "      <th>2</th>\n",
       "      <td>603380</td>\n",
       "      <td>36984682</td>\n",
       "      <td>2019-05-21 22:19:58 EDT</td>\n",
       "      <td>@k_mid22 with some english on the @bucks dime!</td>\n",
       "      <td>0</td>\n",
       "      <td>1</td>\n",
       "    </tr>\n",
       "    <tr>\n",
       "      <th>3</th>\n",
       "      <td>725100</td>\n",
       "      <td>36984682</td>\n",
       "      <td>2019-05-21 22:02:41 EDT</td>\n",
       "      <td>Kawhi punches it home with the left on TNT!</td>\n",
       "      <td>0</td>\n",
       "      <td>1</td>\n",
       "    </tr>\n",
       "    <tr>\n",
       "      <th>4</th>\n",
       "      <td>661446</td>\n",
       "      <td>36984682</td>\n",
       "      <td>2019-05-21 20:47:49 EDT</td>\n",
       "      <td>@giannis_an34 goes baseline early to rock the ...</td>\n",
       "      <td>0</td>\n",
       "      <td>1</td>\n",
       "    </tr>\n",
       "  </tbody>\n",
       "</table>\n",
       "</div>"
      ],
      "text/plain": [
       "   Engagements  Followers at Posting                  Created  \\\n",
       "0       502093              36984682  2019-05-21 23:30:51 EDT   \n",
       "1       603380              36984682  2019-05-21 22:53:33 EDT   \n",
       "2       603380              36984682  2019-05-21 22:19:58 EDT   \n",
       "3       725100              36984682  2019-05-21 22:02:41 EDT   \n",
       "4       661446              36984682  2019-05-21 20:47:49 EDT   \n",
       "\n",
       "                                         Description  Type_Photo  Type_Video  \n",
       "0  The @raptors bench trio of @sergeibaka @norman...           0           1  \n",
       "1  @kyle_lowry7 pulls from deep for the @raptors ...           0           1  \n",
       "2     @k_mid22 with some english on the @bucks dime!           0           1  \n",
       "3        Kawhi punches it home with the left on TNT!           0           1  \n",
       "4  @giannis_an34 goes baseline early to rock the ...           0           1  "
      ]
     },
     "execution_count": 35,
     "metadata": {},
     "output_type": "execute_result"
    }
   ],
   "source": [
    "dataframe.head()"
   ]
  },
  {
   "cell_type": "code",
   "execution_count": 36,
   "metadata": {},
   "outputs": [],
   "source": [
    "import seaborn as sns"
   ]
  },
  {
   "cell_type": "code",
   "execution_count": 37,
   "metadata": {},
   "outputs": [],
   "source": [
    "from sklearn.model_selection import train_test_split"
   ]
  },
  {
   "cell_type": "markdown",
   "metadata": {},
   "source": [
    "**The following code shows the following features I want to keep (note after the train test split, Im going to separate `Description` for both train and test in order to execute nlp to ultimately vectorize).**\n",
    "\n",
    "\n",
    "\n",
    "**My target variable is `Engagements`**"
   ]
  },
  {
   "cell_type": "code",
   "execution_count": 38,
   "metadata": {},
   "outputs": [],
   "source": [
    "features = ['Followers at Posting', 'Description', 'Type_Photo', 'Type_Video']\n",
    "X = dataframe[features]\n",
    "y = dataframe['Engagements']"
   ]
  },
  {
   "cell_type": "code",
   "execution_count": 39,
   "metadata": {},
   "outputs": [],
   "source": [
    "X_train, X_test, y_train, y_test = train_test_split(X, y, test_size=0.33, random_state=42)"
   ]
  },
  {
   "cell_type": "markdown",
   "metadata": {},
   "source": [
    "**Separating `Description` from other features in order to clean text data for vectorization**"
   ]
  },
  {
   "cell_type": "code",
   "execution_count": 40,
   "metadata": {},
   "outputs": [],
   "source": [
    "X_train_nlp = X_train[['Description']]\n",
    "X_test_nlp = X_test[['Description']]"
   ]
  },
  {
   "cell_type": "markdown",
   "metadata": {},
   "source": [
    "# Cleaning Up Train Data\n",
    "- At this point, I have two text dataframes (train and test)\n",
    "- The following code will demonstrate my process for cleaning each dataframe. "
   ]
  },
  {
   "cell_type": "code",
   "execution_count": 41,
   "metadata": {},
   "outputs": [
    {
     "data": {
      "text/html": [
       "<div>\n",
       "<style scoped>\n",
       "    .dataframe tbody tr th:only-of-type {\n",
       "        vertical-align: middle;\n",
       "    }\n",
       "\n",
       "    .dataframe tbody tr th {\n",
       "        vertical-align: top;\n",
       "    }\n",
       "\n",
       "    .dataframe thead th {\n",
       "        text-align: right;\n",
       "    }\n",
       "</style>\n",
       "<table border=\"1\" class=\"dataframe\">\n",
       "  <thead>\n",
       "    <tr style=\"text-align: right;\">\n",
       "      <th></th>\n",
       "      <th>Description</th>\n",
       "    </tr>\n",
       "  </thead>\n",
       "  <tbody>\n",
       "    <tr>\n",
       "      <th>6709</th>\n",
       "      <td>A new career-high &amp; @pelicansnba franchise-hig...</td>\n",
       "    </tr>\n",
       "    <tr>\n",
       "      <th>1615</th>\n",
       "      <td>Swipe through to recap Wednesday’s seven games!</td>\n",
       "    </tr>\n",
       "    <tr>\n",
       "      <th>980</th>\n",
       "      <td>@dloading breaks out an array of moves!</td>\n",
       "    </tr>\n",
       "    <tr>\n",
       "      <th>3759</th>\n",
       "      <td>No. 2??...@giannis_an34 ELECTRIFIES The Garden...</td>\n",
       "    </tr>\n",
       "    <tr>\n",
       "      <th>6991</th>\n",
       "      <td>@dwighthoward takes it coast to coast for the ...</td>\n",
       "    </tr>\n",
       "  </tbody>\n",
       "</table>\n",
       "</div>"
      ],
      "text/plain": [
       "                                            Description\n",
       "6709  A new career-high & @pelicansnba franchise-hig...\n",
       "1615    Swipe through to recap Wednesday’s seven games!\n",
       "980             @dloading breaks out an array of moves!\n",
       "3759  No. 2??...@giannis_an34 ELECTRIFIES The Garden...\n",
       "6991  @dwighthoward takes it coast to coast for the ..."
      ]
     },
     "execution_count": 41,
     "metadata": {},
     "output_type": "execute_result"
    }
   ],
   "source": [
    "#sanity check\n",
    "X_train_nlp.head()"
   ]
  },
  {
   "cell_type": "code",
   "execution_count": 42,
   "metadata": {},
   "outputs": [
    {
     "data": {
      "text/plain": [
       "'A new career-high & @pelicansnba franchise-high 25 assists for @rajonrondo tonight!'"
      ]
     },
     "execution_count": 42,
     "metadata": {},
     "output_type": "execute_result"
    }
   ],
   "source": [
    "#sanity check\n",
    "X_train_nlp['Description'][6709]"
   ]
  },
  {
   "cell_type": "code",
   "execution_count": 43,
   "metadata": {},
   "outputs": [],
   "source": [
    "import string "
   ]
  },
  {
   "cell_type": "markdown",
   "metadata": {},
   "source": [
    "## Step 1: Removing Punctuations and Numbers"
   ]
  },
  {
   "cell_type": "code",
   "execution_count": 44,
   "metadata": {},
   "outputs": [
    {
     "data": {
      "text/plain": [
       "'!\"#$%&\\'()*+,-./:;<=>?@[\\\\]^_`{|}~'"
      ]
     },
     "execution_count": 44,
     "metadata": {},
     "output_type": "execute_result"
    }
   ],
   "source": [
    "#viewing all punctuations \n",
    "string.punctuation"
   ]
  },
  {
   "cell_type": "code",
   "execution_count": 45,
   "metadata": {},
   "outputs": [],
   "source": [
    "#creating a list of all punctuations\n",
    "remove = list(string.punctuation)"
   ]
  },
  {
   "cell_type": "code",
   "execution_count": 46,
   "metadata": {},
   "outputs": [],
   "source": [
    "#adding all digits to the remove list \n",
    "remove.extend(['0','1','2','3','4','5','6','7','8','9'])"
   ]
  },
  {
   "cell_type": "code",
   "execution_count": 47,
   "metadata": {},
   "outputs": [],
   "source": [
    "#creating a function that will remove all punctuations and numbers \n",
    "from string import punctuation\n",
    "def strip_punctuation(s):\n",
    "    return ''.join(c for c in s if c not in remove)"
   ]
  },
  {
   "cell_type": "code",
   "execution_count": 48,
   "metadata": {},
   "outputs": [
    {
     "name": "stderr",
     "output_type": "stream",
     "text": [
      "/Users/valamani/anaconda3/lib/python3.7/site-packages/ipykernel_launcher.py:2: SettingWithCopyWarning: \n",
      "A value is trying to be set on a copy of a slice from a DataFrame.\n",
      "Try using .loc[row_indexer,col_indexer] = value instead\n",
      "\n",
      "See the caveats in the documentation: http://pandas.pydata.org/pandas-docs/stable/indexing.html#indexing-view-versus-copy\n",
      "  \n",
      "/Users/valamani/anaconda3/lib/python3.7/site-packages/ipykernel_launcher.py:3: SettingWithCopyWarning: \n",
      "A value is trying to be set on a copy of a slice from a DataFrame.\n",
      "Try using .loc[row_indexer,col_indexer] = value instead\n",
      "\n",
      "See the caveats in the documentation: http://pandas.pydata.org/pandas-docs/stable/indexing.html#indexing-view-versus-copy\n",
      "  This is separate from the ipykernel package so we can avoid doing imports until\n"
     ]
    }
   ],
   "source": [
    "#apply the function to both test and train data \n",
    "X_train_nlp['no punctuation and numbers'] = X_train_nlp['Description'].apply(strip_punctuation)\n",
    "X_test_nlp['no punctuation and numbers'] = X_test_nlp['Description'].apply(strip_punctuation)"
   ]
  },
  {
   "cell_type": "code",
   "execution_count": 49,
   "metadata": {},
   "outputs": [
    {
     "data": {
      "text/html": [
       "<div>\n",
       "<style scoped>\n",
       "    .dataframe tbody tr th:only-of-type {\n",
       "        vertical-align: middle;\n",
       "    }\n",
       "\n",
       "    .dataframe tbody tr th {\n",
       "        vertical-align: top;\n",
       "    }\n",
       "\n",
       "    .dataframe thead th {\n",
       "        text-align: right;\n",
       "    }\n",
       "</style>\n",
       "<table border=\"1\" class=\"dataframe\">\n",
       "  <thead>\n",
       "    <tr style=\"text-align: right;\">\n",
       "      <th></th>\n",
       "      <th>Description</th>\n",
       "      <th>no punctuation and numbers</th>\n",
       "    </tr>\n",
       "  </thead>\n",
       "  <tbody>\n",
       "    <tr>\n",
       "      <th>6709</th>\n",
       "      <td>A new career-high &amp; @pelicansnba franchise-hig...</td>\n",
       "      <td>A new careerhigh  pelicansnba franchisehigh  a...</td>\n",
       "    </tr>\n",
       "    <tr>\n",
       "      <th>1615</th>\n",
       "      <td>Swipe through to recap Wednesday’s seven games!</td>\n",
       "      <td>Swipe through to recap Wednesday’s seven games</td>\n",
       "    </tr>\n",
       "    <tr>\n",
       "      <th>980</th>\n",
       "      <td>@dloading breaks out an array of moves!</td>\n",
       "      <td>dloading breaks out an array of moves</td>\n",
       "    </tr>\n",
       "    <tr>\n",
       "      <th>3759</th>\n",
       "      <td>No. 2??...@giannis_an34 ELECTRIFIES The Garden...</td>\n",
       "      <td>No giannisan ELECTRIFIES The Garden  BESTofNBA</td>\n",
       "    </tr>\n",
       "    <tr>\n",
       "      <th>6991</th>\n",
       "      <td>@dwighthoward takes it coast to coast for the ...</td>\n",
       "      <td>dwighthoward takes it coast to coast for the N...</td>\n",
       "    </tr>\n",
       "  </tbody>\n",
       "</table>\n",
       "</div>"
      ],
      "text/plain": [
       "                                            Description  \\\n",
       "6709  A new career-high & @pelicansnba franchise-hig...   \n",
       "1615    Swipe through to recap Wednesday’s seven games!   \n",
       "980             @dloading breaks out an array of moves!   \n",
       "3759  No. 2??...@giannis_an34 ELECTRIFIES The Garden...   \n",
       "6991  @dwighthoward takes it coast to coast for the ...   \n",
       "\n",
       "                             no punctuation and numbers  \n",
       "6709  A new careerhigh  pelicansnba franchisehigh  a...  \n",
       "1615     Swipe through to recap Wednesday’s seven games  \n",
       "980               dloading breaks out an array of moves  \n",
       "3759     No giannisan ELECTRIFIES The Garden  BESTofNBA  \n",
       "6991  dwighthoward takes it coast to coast for the N...  "
      ]
     },
     "execution_count": 49,
     "metadata": {},
     "output_type": "execute_result"
    }
   ],
   "source": [
    "#sanity check\n",
    "X_train_nlp.head()"
   ]
  },
  {
   "cell_type": "code",
   "execution_count": 50,
   "metadata": {},
   "outputs": [
    {
     "data": {
      "text/html": [
       "<div>\n",
       "<style scoped>\n",
       "    .dataframe tbody tr th:only-of-type {\n",
       "        vertical-align: middle;\n",
       "    }\n",
       "\n",
       "    .dataframe tbody tr th {\n",
       "        vertical-align: top;\n",
       "    }\n",
       "\n",
       "    .dataframe thead th {\n",
       "        text-align: right;\n",
       "    }\n",
       "</style>\n",
       "<table border=\"1\" class=\"dataframe\">\n",
       "  <thead>\n",
       "    <tr style=\"text-align: right;\">\n",
       "      <th></th>\n",
       "      <th>Description</th>\n",
       "      <th>no punctuation and numbers</th>\n",
       "    </tr>\n",
       "  </thead>\n",
       "  <tbody>\n",
       "    <tr>\n",
       "      <th>5087</th>\n",
       "      <td>?? “Ain’t no time better than this” ...listen ...</td>\n",
       "      <td>“Ain’t no time better than this” listen in to...</td>\n",
       "    </tr>\n",
       "    <tr>\n",
       "      <th>5603</th>\n",
       "      <td>How’d @spidadmitchell do that!?</td>\n",
       "      <td>How’d spidadmitchell do that</td>\n",
       "    </tr>\n",
       "    <tr>\n",
       "      <th>1626</th>\n",
       "      <td>@giannis_an34 finds @malcolmbrogdon for the @b...</td>\n",
       "      <td>giannisan finds malcolmbrogdon for the bucks t...</td>\n",
       "    </tr>\n",
       "    <tr>\n",
       "      <th>6832</th>\n",
       "      <td>@pushat305 in traffic!</td>\n",
       "      <td>pushat in traffic</td>\n",
       "    </tr>\n",
       "    <tr>\n",
       "      <th>3896</th>\n",
       "      <td>10-year-old Phoenix Johnson shows off CRAZY ha...</td>\n",
       "      <td>yearold Phoenix Johnson shows off CRAZY handle...</td>\n",
       "    </tr>\n",
       "  </tbody>\n",
       "</table>\n",
       "</div>"
      ],
      "text/plain": [
       "                                            Description  \\\n",
       "5087  ?? “Ain’t no time better than this” ...listen ...   \n",
       "5603                    How’d @spidadmitchell do that!?   \n",
       "1626  @giannis_an34 finds @malcolmbrogdon for the @b...   \n",
       "6832                             @pushat305 in traffic!   \n",
       "3896  10-year-old Phoenix Johnson shows off CRAZY ha...   \n",
       "\n",
       "                             no punctuation and numbers  \n",
       "5087   “Ain’t no time better than this” listen in to...  \n",
       "5603                       How’d spidadmitchell do that  \n",
       "1626  giannisan finds malcolmbrogdon for the bucks t...  \n",
       "6832                                  pushat in traffic  \n",
       "3896  yearold Phoenix Johnson shows off CRAZY handle...  "
      ]
     },
     "execution_count": 50,
     "metadata": {},
     "output_type": "execute_result"
    }
   ],
   "source": [
    "#sanity check\n",
    "X_test_nlp.head()"
   ]
  },
  {
   "cell_type": "markdown",
   "metadata": {},
   "source": [
    "## Step 2: Adding Vader Polarity Scores"
   ]
  },
  {
   "cell_type": "code",
   "execution_count": 56,
   "metadata": {},
   "outputs": [],
   "source": [
    "#import and instantiate vader\n",
    "from nltk.sentiment.vader import SentimentIntensityAnalyzer\n",
    "analyser = SentimentIntensityAnalyzer()"
   ]
  },
  {
   "cell_type": "code",
   "execution_count": 57,
   "metadata": {},
   "outputs": [
    {
     "name": "stderr",
     "output_type": "stream",
     "text": [
      "/Users/valamani/anaconda3/lib/python3.7/site-packages/ipykernel_launcher.py:2: SettingWithCopyWarning: \n",
      "A value is trying to be set on a copy of a slice from a DataFrame.\n",
      "Try using .loc[row_indexer,col_indexer] = value instead\n",
      "\n",
      "See the caveats in the documentation: http://pandas.pydata.org/pandas-docs/stable/indexing.html#indexing-view-versus-copy\n",
      "  \n",
      "/Users/valamani/anaconda3/lib/python3.7/site-packages/ipykernel_launcher.py:3: SettingWithCopyWarning: \n",
      "A value is trying to be set on a copy of a slice from a DataFrame.\n",
      "Try using .loc[row_indexer,col_indexer] = value instead\n",
      "\n",
      "See the caveats in the documentation: http://pandas.pydata.org/pandas-docs/stable/indexing.html#indexing-view-versus-copy\n",
      "  This is separate from the ipykernel package so we can avoid doing imports until\n"
     ]
    }
   ],
   "source": [
    "#applying vader scores to the text without punctuations and numbers \n",
    "X_train_nlp['vader'] = [analyser.polarity_scores(text) for text in X_train_nlp['no punctuation and numbers']]\n",
    "X_test_nlp['vader'] = [analyser.polarity_scores(text) for text in X_test_nlp['no punctuation and numbers']]"
   ]
  },
  {
   "cell_type": "code",
   "execution_count": 58,
   "metadata": {},
   "outputs": [
    {
     "data": {
      "text/html": [
       "<div>\n",
       "<style scoped>\n",
       "    .dataframe tbody tr th:only-of-type {\n",
       "        vertical-align: middle;\n",
       "    }\n",
       "\n",
       "    .dataframe tbody tr th {\n",
       "        vertical-align: top;\n",
       "    }\n",
       "\n",
       "    .dataframe thead th {\n",
       "        text-align: right;\n",
       "    }\n",
       "</style>\n",
       "<table border=\"1\" class=\"dataframe\">\n",
       "  <thead>\n",
       "    <tr style=\"text-align: right;\">\n",
       "      <th></th>\n",
       "      <th>Description</th>\n",
       "      <th>no punctuation and numbers</th>\n",
       "      <th>vader</th>\n",
       "    </tr>\n",
       "  </thead>\n",
       "  <tbody>\n",
       "    <tr>\n",
       "      <th>6709</th>\n",
       "      <td>A new career-high &amp; @pelicansnba franchise-hig...</td>\n",
       "      <td>A new careerhigh  pelicansnba franchisehigh  a...</td>\n",
       "      <td>{'neg': 0.0, 'neu': 1.0, 'pos': 0.0, 'compound...</td>\n",
       "    </tr>\n",
       "    <tr>\n",
       "      <th>1615</th>\n",
       "      <td>Swipe through to recap Wednesday’s seven games!</td>\n",
       "      <td>Swipe through to recap Wednesday’s seven games</td>\n",
       "      <td>{'neg': 0.0, 'neu': 1.0, 'pos': 0.0, 'compound...</td>\n",
       "    </tr>\n",
       "    <tr>\n",
       "      <th>980</th>\n",
       "      <td>@dloading breaks out an array of moves!</td>\n",
       "      <td>dloading breaks out an array of moves</td>\n",
       "      <td>{'neg': 0.0, 'neu': 1.0, 'pos': 0.0, 'compound...</td>\n",
       "    </tr>\n",
       "    <tr>\n",
       "      <th>3759</th>\n",
       "      <td>No. 2??...@giannis_an34 ELECTRIFIES The Garden...</td>\n",
       "      <td>No giannisan ELECTRIFIES The Garden  BESTofNBA</td>\n",
       "      <td>{'neg': 0.306, 'neu': 0.694, 'pos': 0.0, 'comp...</td>\n",
       "    </tr>\n",
       "    <tr>\n",
       "      <th>6991</th>\n",
       "      <td>@dwighthoward takes it coast to coast for the ...</td>\n",
       "      <td>dwighthoward takes it coast to coast for the N...</td>\n",
       "      <td>{'neg': 0.27, 'neu': 0.73, 'pos': 0.0, 'compou...</td>\n",
       "    </tr>\n",
       "  </tbody>\n",
       "</table>\n",
       "</div>"
      ],
      "text/plain": [
       "                                            Description  \\\n",
       "6709  A new career-high & @pelicansnba franchise-hig...   \n",
       "1615    Swipe through to recap Wednesday’s seven games!   \n",
       "980             @dloading breaks out an array of moves!   \n",
       "3759  No. 2??...@giannis_an34 ELECTRIFIES The Garden...   \n",
       "6991  @dwighthoward takes it coast to coast for the ...   \n",
       "\n",
       "                             no punctuation and numbers  \\\n",
       "6709  A new careerhigh  pelicansnba franchisehigh  a...   \n",
       "1615     Swipe through to recap Wednesday’s seven games   \n",
       "980               dloading breaks out an array of moves   \n",
       "3759     No giannisan ELECTRIFIES The Garden  BESTofNBA   \n",
       "6991  dwighthoward takes it coast to coast for the N...   \n",
       "\n",
       "                                                  vader  \n",
       "6709  {'neg': 0.0, 'neu': 1.0, 'pos': 0.0, 'compound...  \n",
       "1615  {'neg': 0.0, 'neu': 1.0, 'pos': 0.0, 'compound...  \n",
       "980   {'neg': 0.0, 'neu': 1.0, 'pos': 0.0, 'compound...  \n",
       "3759  {'neg': 0.306, 'neu': 0.694, 'pos': 0.0, 'comp...  \n",
       "6991  {'neg': 0.27, 'neu': 0.73, 'pos': 0.0, 'compou...  "
      ]
     },
     "execution_count": 58,
     "metadata": {},
     "output_type": "execute_result"
    }
   ],
   "source": [
    "#sanity check\n",
    "X_train_nlp.head()"
   ]
  },
  {
   "cell_type": "code",
   "execution_count": 59,
   "metadata": {},
   "outputs": [
    {
     "data": {
      "text/html": [
       "<div>\n",
       "<style scoped>\n",
       "    .dataframe tbody tr th:only-of-type {\n",
       "        vertical-align: middle;\n",
       "    }\n",
       "\n",
       "    .dataframe tbody tr th {\n",
       "        vertical-align: top;\n",
       "    }\n",
       "\n",
       "    .dataframe thead th {\n",
       "        text-align: right;\n",
       "    }\n",
       "</style>\n",
       "<table border=\"1\" class=\"dataframe\">\n",
       "  <thead>\n",
       "    <tr style=\"text-align: right;\">\n",
       "      <th></th>\n",
       "      <th>Description</th>\n",
       "      <th>no punctuation and numbers</th>\n",
       "      <th>vader</th>\n",
       "    </tr>\n",
       "  </thead>\n",
       "  <tbody>\n",
       "    <tr>\n",
       "      <th>5087</th>\n",
       "      <td>?? “Ain’t no time better than this” ...listen ...</td>\n",
       "      <td>“Ain’t no time better than this” listen in to...</td>\n",
       "      <td>{'neg': 0.078, 'neu': 0.642, 'pos': 0.279, 'co...</td>\n",
       "    </tr>\n",
       "    <tr>\n",
       "      <th>5603</th>\n",
       "      <td>How’d @spidadmitchell do that!?</td>\n",
       "      <td>How’d spidadmitchell do that</td>\n",
       "      <td>{'neg': 0.0, 'neu': 1.0, 'pos': 0.0, 'compound...</td>\n",
       "    </tr>\n",
       "    <tr>\n",
       "      <th>1626</th>\n",
       "      <td>@giannis_an34 finds @malcolmbrogdon for the @b...</td>\n",
       "      <td>giannisan finds malcolmbrogdon for the bucks t...</td>\n",
       "      <td>{'neg': 0.0, 'neu': 1.0, 'pos': 0.0, 'compound...</td>\n",
       "    </tr>\n",
       "    <tr>\n",
       "      <th>6832</th>\n",
       "      <td>@pushat305 in traffic!</td>\n",
       "      <td>pushat in traffic</td>\n",
       "      <td>{'neg': 0.0, 'neu': 1.0, 'pos': 0.0, 'compound...</td>\n",
       "    </tr>\n",
       "    <tr>\n",
       "      <th>3896</th>\n",
       "      <td>10-year-old Phoenix Johnson shows off CRAZY ha...</td>\n",
       "      <td>yearold Phoenix Johnson shows off CRAZY handle...</td>\n",
       "      <td>{'neg': 0.18, 'neu': 0.688, 'pos': 0.132, 'com...</td>\n",
       "    </tr>\n",
       "  </tbody>\n",
       "</table>\n",
       "</div>"
      ],
      "text/plain": [
       "                                            Description  \\\n",
       "5087  ?? “Ain’t no time better than this” ...listen ...   \n",
       "5603                    How’d @spidadmitchell do that!?   \n",
       "1626  @giannis_an34 finds @malcolmbrogdon for the @b...   \n",
       "6832                             @pushat305 in traffic!   \n",
       "3896  10-year-old Phoenix Johnson shows off CRAZY ha...   \n",
       "\n",
       "                             no punctuation and numbers  \\\n",
       "5087   “Ain’t no time better than this” listen in to...   \n",
       "5603                       How’d spidadmitchell do that   \n",
       "1626  giannisan finds malcolmbrogdon for the bucks t...   \n",
       "6832                                  pushat in traffic   \n",
       "3896  yearold Phoenix Johnson shows off CRAZY handle...   \n",
       "\n",
       "                                                  vader  \n",
       "5087  {'neg': 0.078, 'neu': 0.642, 'pos': 0.279, 'co...  \n",
       "5603  {'neg': 0.0, 'neu': 1.0, 'pos': 0.0, 'compound...  \n",
       "1626  {'neg': 0.0, 'neu': 1.0, 'pos': 0.0, 'compound...  \n",
       "6832  {'neg': 0.0, 'neu': 1.0, 'pos': 0.0, 'compound...  \n",
       "3896  {'neg': 0.18, 'neu': 0.688, 'pos': 0.132, 'com...  "
      ]
     },
     "execution_count": 59,
     "metadata": {},
     "output_type": "execute_result"
    }
   ],
   "source": [
    "#sanity check\n",
    "X_test_nlp.head()"
   ]
  },
  {
   "cell_type": "markdown",
   "metadata": {},
   "source": [
    "## Step 3: Pull out all Vader Scores"
   ]
  },
  {
   "cell_type": "code",
   "execution_count": 60,
   "metadata": {},
   "outputs": [],
   "source": [
    "#this code creates new columns of vader scores for train\n",
    "X_train_nlp['neg'] = X_train_nlp['vader'].apply(lambda x: x.get('neg'))\n",
    "X_train_nlp['neu'] = X_train_nlp['vader'].apply(lambda x: x.get('neu'))\n",
    "X_train_nlp['pos'] = X_train_nlp['vader'].apply(lambda x: x.get('pos'))\n",
    "X_train_nlp['compound'] = X_train_nlp['vader'].apply(lambda x: x.get('compound'))"
   ]
  },
  {
   "cell_type": "code",
   "execution_count": 61,
   "metadata": {},
   "outputs": [],
   "source": [
    "#this code creates new columns of vader scores for test\n",
    "X_test_nlp['neg'] = X_test_nlp['vader'].apply(lambda x: x.get('neg'))\n",
    "X_test_nlp['neu'] = X_test_nlp['vader'].apply(lambda x: x.get('neu'))\n",
    "X_test_nlp['pos'] = X_test_nlp['vader'].apply(lambda x: x.get('pos'))\n",
    "X_test_nlp['compound'] = X_test_nlp['vader'].apply(lambda x: x.get('compound'))"
   ]
  },
  {
   "cell_type": "code",
   "execution_count": 63,
   "metadata": {},
   "outputs": [
    {
     "data": {
      "text/html": [
       "<div>\n",
       "<style scoped>\n",
       "    .dataframe tbody tr th:only-of-type {\n",
       "        vertical-align: middle;\n",
       "    }\n",
       "\n",
       "    .dataframe tbody tr th {\n",
       "        vertical-align: top;\n",
       "    }\n",
       "\n",
       "    .dataframe thead th {\n",
       "        text-align: right;\n",
       "    }\n",
       "</style>\n",
       "<table border=\"1\" class=\"dataframe\">\n",
       "  <thead>\n",
       "    <tr style=\"text-align: right;\">\n",
       "      <th></th>\n",
       "      <th>Description</th>\n",
       "      <th>no punctuation and numbers</th>\n",
       "      <th>vader</th>\n",
       "      <th>neg</th>\n",
       "      <th>neu</th>\n",
       "      <th>pos</th>\n",
       "      <th>compound</th>\n",
       "    </tr>\n",
       "  </thead>\n",
       "  <tbody>\n",
       "    <tr>\n",
       "      <th>6709</th>\n",
       "      <td>A new career-high &amp; @pelicansnba franchise-hig...</td>\n",
       "      <td>A new careerhigh  pelicansnba franchisehigh  a...</td>\n",
       "      <td>{'neg': 0.0, 'neu': 1.0, 'pos': 0.0, 'compound...</td>\n",
       "      <td>0.000</td>\n",
       "      <td>1.000</td>\n",
       "      <td>0.0</td>\n",
       "      <td>0.000</td>\n",
       "    </tr>\n",
       "    <tr>\n",
       "      <th>1615</th>\n",
       "      <td>Swipe through to recap Wednesday’s seven games!</td>\n",
       "      <td>Swipe through to recap Wednesday’s seven games</td>\n",
       "      <td>{'neg': 0.0, 'neu': 1.0, 'pos': 0.0, 'compound...</td>\n",
       "      <td>0.000</td>\n",
       "      <td>1.000</td>\n",
       "      <td>0.0</td>\n",
       "      <td>0.000</td>\n",
       "    </tr>\n",
       "    <tr>\n",
       "      <th>980</th>\n",
       "      <td>@dloading breaks out an array of moves!</td>\n",
       "      <td>dloading breaks out an array of moves</td>\n",
       "      <td>{'neg': 0.0, 'neu': 1.0, 'pos': 0.0, 'compound...</td>\n",
       "      <td>0.000</td>\n",
       "      <td>1.000</td>\n",
       "      <td>0.0</td>\n",
       "      <td>0.000</td>\n",
       "    </tr>\n",
       "    <tr>\n",
       "      <th>3759</th>\n",
       "      <td>No. 2??...@giannis_an34 ELECTRIFIES The Garden...</td>\n",
       "      <td>No giannisan ELECTRIFIES The Garden  BESTofNBA</td>\n",
       "      <td>{'neg': 0.306, 'neu': 0.694, 'pos': 0.0, 'comp...</td>\n",
       "      <td>0.306</td>\n",
       "      <td>0.694</td>\n",
       "      <td>0.0</td>\n",
       "      <td>-0.296</td>\n",
       "    </tr>\n",
       "    <tr>\n",
       "      <th>6991</th>\n",
       "      <td>@dwighthoward takes it coast to coast for the ...</td>\n",
       "      <td>dwighthoward takes it coast to coast for the N...</td>\n",
       "      <td>{'neg': 0.27, 'neu': 0.73, 'pos': 0.0, 'compou...</td>\n",
       "      <td>0.270</td>\n",
       "      <td>0.730</td>\n",
       "      <td>0.0</td>\n",
       "      <td>-0.516</td>\n",
       "    </tr>\n",
       "  </tbody>\n",
       "</table>\n",
       "</div>"
      ],
      "text/plain": [
       "                                            Description  \\\n",
       "6709  A new career-high & @pelicansnba franchise-hig...   \n",
       "1615    Swipe through to recap Wednesday’s seven games!   \n",
       "980             @dloading breaks out an array of moves!   \n",
       "3759  No. 2??...@giannis_an34 ELECTRIFIES The Garden...   \n",
       "6991  @dwighthoward takes it coast to coast for the ...   \n",
       "\n",
       "                             no punctuation and numbers  \\\n",
       "6709  A new careerhigh  pelicansnba franchisehigh  a...   \n",
       "1615     Swipe through to recap Wednesday’s seven games   \n",
       "980               dloading breaks out an array of moves   \n",
       "3759     No giannisan ELECTRIFIES The Garden  BESTofNBA   \n",
       "6991  dwighthoward takes it coast to coast for the N...   \n",
       "\n",
       "                                                  vader    neg    neu  pos  \\\n",
       "6709  {'neg': 0.0, 'neu': 1.0, 'pos': 0.0, 'compound...  0.000  1.000  0.0   \n",
       "1615  {'neg': 0.0, 'neu': 1.0, 'pos': 0.0, 'compound...  0.000  1.000  0.0   \n",
       "980   {'neg': 0.0, 'neu': 1.0, 'pos': 0.0, 'compound...  0.000  1.000  0.0   \n",
       "3759  {'neg': 0.306, 'neu': 0.694, 'pos': 0.0, 'comp...  0.306  0.694  0.0   \n",
       "6991  {'neg': 0.27, 'neu': 0.73, 'pos': 0.0, 'compou...  0.270  0.730  0.0   \n",
       "\n",
       "      compound  \n",
       "6709     0.000  \n",
       "1615     0.000  \n",
       "980      0.000  \n",
       "3759    -0.296  \n",
       "6991    -0.516  "
      ]
     },
     "execution_count": 63,
     "metadata": {},
     "output_type": "execute_result"
    }
   ],
   "source": [
    "#sanity check\n",
    "X_train_nlp.head()"
   ]
  },
  {
   "cell_type": "code",
   "execution_count": 64,
   "metadata": {},
   "outputs": [
    {
     "data": {
      "text/html": [
       "<div>\n",
       "<style scoped>\n",
       "    .dataframe tbody tr th:only-of-type {\n",
       "        vertical-align: middle;\n",
       "    }\n",
       "\n",
       "    .dataframe tbody tr th {\n",
       "        vertical-align: top;\n",
       "    }\n",
       "\n",
       "    .dataframe thead th {\n",
       "        text-align: right;\n",
       "    }\n",
       "</style>\n",
       "<table border=\"1\" class=\"dataframe\">\n",
       "  <thead>\n",
       "    <tr style=\"text-align: right;\">\n",
       "      <th></th>\n",
       "      <th>Description</th>\n",
       "      <th>no punctuation and numbers</th>\n",
       "      <th>vader</th>\n",
       "      <th>neg</th>\n",
       "      <th>neu</th>\n",
       "      <th>pos</th>\n",
       "      <th>compound</th>\n",
       "    </tr>\n",
       "  </thead>\n",
       "  <tbody>\n",
       "    <tr>\n",
       "      <th>5087</th>\n",
       "      <td>?? “Ain’t no time better than this” ...listen ...</td>\n",
       "      <td>“Ain’t no time better than this” listen in to...</td>\n",
       "      <td>{'neg': 0.078, 'neu': 0.642, 'pos': 0.279, 'co...</td>\n",
       "      <td>0.078</td>\n",
       "      <td>0.642</td>\n",
       "      <td>0.279</td>\n",
       "      <td>0.7672</td>\n",
       "    </tr>\n",
       "    <tr>\n",
       "      <th>5603</th>\n",
       "      <td>How’d @spidadmitchell do that!?</td>\n",
       "      <td>How’d spidadmitchell do that</td>\n",
       "      <td>{'neg': 0.0, 'neu': 1.0, 'pos': 0.0, 'compound...</td>\n",
       "      <td>0.000</td>\n",
       "      <td>1.000</td>\n",
       "      <td>0.000</td>\n",
       "      <td>0.0000</td>\n",
       "    </tr>\n",
       "    <tr>\n",
       "      <th>1626</th>\n",
       "      <td>@giannis_an34 finds @malcolmbrogdon for the @b...</td>\n",
       "      <td>giannisan finds malcolmbrogdon for the bucks t...</td>\n",
       "      <td>{'neg': 0.0, 'neu': 1.0, 'pos': 0.0, 'compound...</td>\n",
       "      <td>0.000</td>\n",
       "      <td>1.000</td>\n",
       "      <td>0.000</td>\n",
       "      <td>0.0000</td>\n",
       "    </tr>\n",
       "    <tr>\n",
       "      <th>6832</th>\n",
       "      <td>@pushat305 in traffic!</td>\n",
       "      <td>pushat in traffic</td>\n",
       "      <td>{'neg': 0.0, 'neu': 1.0, 'pos': 0.0, 'compound...</td>\n",
       "      <td>0.000</td>\n",
       "      <td>1.000</td>\n",
       "      <td>0.000</td>\n",
       "      <td>0.0000</td>\n",
       "    </tr>\n",
       "    <tr>\n",
       "      <th>3896</th>\n",
       "      <td>10-year-old Phoenix Johnson shows off CRAZY ha...</td>\n",
       "      <td>yearold Phoenix Johnson shows off CRAZY handle...</td>\n",
       "      <td>{'neg': 0.18, 'neu': 0.688, 'pos': 0.132, 'com...</td>\n",
       "      <td>0.180</td>\n",
       "      <td>0.688</td>\n",
       "      <td>0.132</td>\n",
       "      <td>-0.2103</td>\n",
       "    </tr>\n",
       "  </tbody>\n",
       "</table>\n",
       "</div>"
      ],
      "text/plain": [
       "                                            Description  \\\n",
       "5087  ?? “Ain’t no time better than this” ...listen ...   \n",
       "5603                    How’d @spidadmitchell do that!?   \n",
       "1626  @giannis_an34 finds @malcolmbrogdon for the @b...   \n",
       "6832                             @pushat305 in traffic!   \n",
       "3896  10-year-old Phoenix Johnson shows off CRAZY ha...   \n",
       "\n",
       "                             no punctuation and numbers  \\\n",
       "5087   “Ain’t no time better than this” listen in to...   \n",
       "5603                       How’d spidadmitchell do that   \n",
       "1626  giannisan finds malcolmbrogdon for the bucks t...   \n",
       "6832                                  pushat in traffic   \n",
       "3896  yearold Phoenix Johnson shows off CRAZY handle...   \n",
       "\n",
       "                                                  vader    neg    neu    pos  \\\n",
       "5087  {'neg': 0.078, 'neu': 0.642, 'pos': 0.279, 'co...  0.078  0.642  0.279   \n",
       "5603  {'neg': 0.0, 'neu': 1.0, 'pos': 0.0, 'compound...  0.000  1.000  0.000   \n",
       "1626  {'neg': 0.0, 'neu': 1.0, 'pos': 0.0, 'compound...  0.000  1.000  0.000   \n",
       "6832  {'neg': 0.0, 'neu': 1.0, 'pos': 0.0, 'compound...  0.000  1.000  0.000   \n",
       "3896  {'neg': 0.18, 'neu': 0.688, 'pos': 0.132, 'com...  0.180  0.688  0.132   \n",
       "\n",
       "      compound  \n",
       "5087    0.7672  \n",
       "5603    0.0000  \n",
       "1626    0.0000  \n",
       "6832    0.0000  \n",
       "3896   -0.2103  "
      ]
     },
     "execution_count": 64,
     "metadata": {},
     "output_type": "execute_result"
    }
   ],
   "source": [
    "#sanity check\n",
    "X_test_nlp.head()"
   ]
  },
  {
   "cell_type": "markdown",
   "metadata": {},
   "source": [
    "## Step 4: Tokenize then Lemmatize \n",
    "- I decided to proceed with lemmatizing since it spits out the base or dictionary form of the word. "
   ]
  },
  {
   "cell_type": "code",
   "execution_count": 65,
   "metadata": {},
   "outputs": [],
   "source": [
    "import nltk"
   ]
  },
  {
   "cell_type": "code",
   "execution_count": 66,
   "metadata": {},
   "outputs": [],
   "source": [
    "from nltk.tokenize import RegexpTokenizer\n",
    "from nltk.stem import WordNetLemmatizer"
   ]
  },
  {
   "cell_type": "code",
   "execution_count": 67,
   "metadata": {},
   "outputs": [],
   "source": [
    "#instntiate tokenizer\n",
    "tokenizer = RegexpTokenizer(r'\\w+')\n",
    "lem = WordNetLemmatizer()"
   ]
  },
  {
   "cell_type": "code",
   "execution_count": 68,
   "metadata": {},
   "outputs": [],
   "source": [
    "#creating a lemmatize function that tokenizes then lemmatize the test\n",
    "def lemmatize(text):\n",
    "    return [lem.lemmatize(w.lower()) for w in tokenizer.tokenize(text)]  \n",
    "\n"
   ]
  },
  {
   "cell_type": "code",
   "execution_count": 69,
   "metadata": {},
   "outputs": [],
   "source": [
    "#let's apply that function to both train and test \n",
    "X_train_nlp['lemmatized'] = X_train_nlp['no punctuation and numbers'].apply(lemmatize)\n",
    "X_test_nlp['lemmatized'] = X_test_nlp['no punctuation and numbers'].apply(lemmatize)"
   ]
  },
  {
   "cell_type": "code",
   "execution_count": 70,
   "metadata": {},
   "outputs": [
    {
     "data": {
      "text/html": [
       "<div>\n",
       "<style scoped>\n",
       "    .dataframe tbody tr th:only-of-type {\n",
       "        vertical-align: middle;\n",
       "    }\n",
       "\n",
       "    .dataframe tbody tr th {\n",
       "        vertical-align: top;\n",
       "    }\n",
       "\n",
       "    .dataframe thead th {\n",
       "        text-align: right;\n",
       "    }\n",
       "</style>\n",
       "<table border=\"1\" class=\"dataframe\">\n",
       "  <thead>\n",
       "    <tr style=\"text-align: right;\">\n",
       "      <th></th>\n",
       "      <th>Description</th>\n",
       "      <th>no punctuation and numbers</th>\n",
       "      <th>vader</th>\n",
       "      <th>neg</th>\n",
       "      <th>neu</th>\n",
       "      <th>pos</th>\n",
       "      <th>compound</th>\n",
       "      <th>lemmatized</th>\n",
       "    </tr>\n",
       "  </thead>\n",
       "  <tbody>\n",
       "    <tr>\n",
       "      <th>6709</th>\n",
       "      <td>A new career-high &amp; @pelicansnba franchise-hig...</td>\n",
       "      <td>A new careerhigh  pelicansnba franchisehigh  a...</td>\n",
       "      <td>{'neg': 0.0, 'neu': 1.0, 'pos': 0.0, 'compound...</td>\n",
       "      <td>0.000</td>\n",
       "      <td>1.000</td>\n",
       "      <td>0.0</td>\n",
       "      <td>0.000</td>\n",
       "      <td>[a, new, careerhigh, pelicansnba, franchisehig...</td>\n",
       "    </tr>\n",
       "    <tr>\n",
       "      <th>1615</th>\n",
       "      <td>Swipe through to recap Wednesday’s seven games!</td>\n",
       "      <td>Swipe through to recap Wednesday’s seven games</td>\n",
       "      <td>{'neg': 0.0, 'neu': 1.0, 'pos': 0.0, 'compound...</td>\n",
       "      <td>0.000</td>\n",
       "      <td>1.000</td>\n",
       "      <td>0.0</td>\n",
       "      <td>0.000</td>\n",
       "      <td>[swipe, through, to, recap, wednesday, s, seve...</td>\n",
       "    </tr>\n",
       "    <tr>\n",
       "      <th>980</th>\n",
       "      <td>@dloading breaks out an array of moves!</td>\n",
       "      <td>dloading breaks out an array of moves</td>\n",
       "      <td>{'neg': 0.0, 'neu': 1.0, 'pos': 0.0, 'compound...</td>\n",
       "      <td>0.000</td>\n",
       "      <td>1.000</td>\n",
       "      <td>0.0</td>\n",
       "      <td>0.000</td>\n",
       "      <td>[dloading, break, out, an, array, of, move]</td>\n",
       "    </tr>\n",
       "    <tr>\n",
       "      <th>3759</th>\n",
       "      <td>No. 2??...@giannis_an34 ELECTRIFIES The Garden...</td>\n",
       "      <td>No giannisan ELECTRIFIES The Garden  BESTofNBA</td>\n",
       "      <td>{'neg': 0.306, 'neu': 0.694, 'pos': 0.0, 'comp...</td>\n",
       "      <td>0.306</td>\n",
       "      <td>0.694</td>\n",
       "      <td>0.0</td>\n",
       "      <td>-0.296</td>\n",
       "      <td>[no, giannisan, electrifies, the, garden, best...</td>\n",
       "    </tr>\n",
       "    <tr>\n",
       "      <th>6991</th>\n",
       "      <td>@dwighthoward takes it coast to coast for the ...</td>\n",
       "      <td>dwighthoward takes it coast to coast for the N...</td>\n",
       "      <td>{'neg': 0.27, 'neu': 0.73, 'pos': 0.0, 'compou...</td>\n",
       "      <td>0.270</td>\n",
       "      <td>0.730</td>\n",
       "      <td>0.0</td>\n",
       "      <td>-0.516</td>\n",
       "      <td>[dwighthoward, take, it, coast, to, coast, for...</td>\n",
       "    </tr>\n",
       "  </tbody>\n",
       "</table>\n",
       "</div>"
      ],
      "text/plain": [
       "                                            Description  \\\n",
       "6709  A new career-high & @pelicansnba franchise-hig...   \n",
       "1615    Swipe through to recap Wednesday’s seven games!   \n",
       "980             @dloading breaks out an array of moves!   \n",
       "3759  No. 2??...@giannis_an34 ELECTRIFIES The Garden...   \n",
       "6991  @dwighthoward takes it coast to coast for the ...   \n",
       "\n",
       "                             no punctuation and numbers  \\\n",
       "6709  A new careerhigh  pelicansnba franchisehigh  a...   \n",
       "1615     Swipe through to recap Wednesday’s seven games   \n",
       "980               dloading breaks out an array of moves   \n",
       "3759     No giannisan ELECTRIFIES The Garden  BESTofNBA   \n",
       "6991  dwighthoward takes it coast to coast for the N...   \n",
       "\n",
       "                                                  vader    neg    neu  pos  \\\n",
       "6709  {'neg': 0.0, 'neu': 1.0, 'pos': 0.0, 'compound...  0.000  1.000  0.0   \n",
       "1615  {'neg': 0.0, 'neu': 1.0, 'pos': 0.0, 'compound...  0.000  1.000  0.0   \n",
       "980   {'neg': 0.0, 'neu': 1.0, 'pos': 0.0, 'compound...  0.000  1.000  0.0   \n",
       "3759  {'neg': 0.306, 'neu': 0.694, 'pos': 0.0, 'comp...  0.306  0.694  0.0   \n",
       "6991  {'neg': 0.27, 'neu': 0.73, 'pos': 0.0, 'compou...  0.270  0.730  0.0   \n",
       "\n",
       "      compound                                         lemmatized  \n",
       "6709     0.000  [a, new, careerhigh, pelicansnba, franchisehig...  \n",
       "1615     0.000  [swipe, through, to, recap, wednesday, s, seve...  \n",
       "980      0.000        [dloading, break, out, an, array, of, move]  \n",
       "3759    -0.296  [no, giannisan, electrifies, the, garden, best...  \n",
       "6991    -0.516  [dwighthoward, take, it, coast, to, coast, for...  "
      ]
     },
     "execution_count": 70,
     "metadata": {},
     "output_type": "execute_result"
    }
   ],
   "source": [
    "#sanity check\n",
    "X_train_nlp.head()"
   ]
  },
  {
   "cell_type": "code",
   "execution_count": 71,
   "metadata": {},
   "outputs": [
    {
     "data": {
      "text/html": [
       "<div>\n",
       "<style scoped>\n",
       "    .dataframe tbody tr th:only-of-type {\n",
       "        vertical-align: middle;\n",
       "    }\n",
       "\n",
       "    .dataframe tbody tr th {\n",
       "        vertical-align: top;\n",
       "    }\n",
       "\n",
       "    .dataframe thead th {\n",
       "        text-align: right;\n",
       "    }\n",
       "</style>\n",
       "<table border=\"1\" class=\"dataframe\">\n",
       "  <thead>\n",
       "    <tr style=\"text-align: right;\">\n",
       "      <th></th>\n",
       "      <th>Description</th>\n",
       "      <th>no punctuation and numbers</th>\n",
       "      <th>vader</th>\n",
       "      <th>neg</th>\n",
       "      <th>neu</th>\n",
       "      <th>pos</th>\n",
       "      <th>compound</th>\n",
       "      <th>lemmatized</th>\n",
       "    </tr>\n",
       "  </thead>\n",
       "  <tbody>\n",
       "    <tr>\n",
       "      <th>5087</th>\n",
       "      <td>?? “Ain’t no time better than this” ...listen ...</td>\n",
       "      <td>“Ain’t no time better than this” listen in to...</td>\n",
       "      <td>{'neg': 0.078, 'neu': 0.642, 'pos': 0.279, 'co...</td>\n",
       "      <td>0.078</td>\n",
       "      <td>0.642</td>\n",
       "      <td>0.279</td>\n",
       "      <td>0.7672</td>\n",
       "      <td>[ain, t, no, time, better, than, this, listen,...</td>\n",
       "    </tr>\n",
       "    <tr>\n",
       "      <th>5603</th>\n",
       "      <td>How’d @spidadmitchell do that!?</td>\n",
       "      <td>How’d spidadmitchell do that</td>\n",
       "      <td>{'neg': 0.0, 'neu': 1.0, 'pos': 0.0, 'compound...</td>\n",
       "      <td>0.000</td>\n",
       "      <td>1.000</td>\n",
       "      <td>0.000</td>\n",
       "      <td>0.0000</td>\n",
       "      <td>[how, d, spidadmitchell, do, that]</td>\n",
       "    </tr>\n",
       "    <tr>\n",
       "      <th>1626</th>\n",
       "      <td>@giannis_an34 finds @malcolmbrogdon for the @b...</td>\n",
       "      <td>giannisan finds malcolmbrogdon for the bucks t...</td>\n",
       "      <td>{'neg': 0.0, 'neu': 1.0, 'pos': 0.0, 'compound...</td>\n",
       "      <td>0.000</td>\n",
       "      <td>1.000</td>\n",
       "      <td>0.000</td>\n",
       "      <td>0.0000</td>\n",
       "      <td>[giannisan, find, malcolmbrogdon, for, the, bu...</td>\n",
       "    </tr>\n",
       "    <tr>\n",
       "      <th>6832</th>\n",
       "      <td>@pushat305 in traffic!</td>\n",
       "      <td>pushat in traffic</td>\n",
       "      <td>{'neg': 0.0, 'neu': 1.0, 'pos': 0.0, 'compound...</td>\n",
       "      <td>0.000</td>\n",
       "      <td>1.000</td>\n",
       "      <td>0.000</td>\n",
       "      <td>0.0000</td>\n",
       "      <td>[pushat, in, traffic]</td>\n",
       "    </tr>\n",
       "    <tr>\n",
       "      <th>3896</th>\n",
       "      <td>10-year-old Phoenix Johnson shows off CRAZY ha...</td>\n",
       "      <td>yearold Phoenix Johnson shows off CRAZY handle...</td>\n",
       "      <td>{'neg': 0.18, 'neu': 0.688, 'pos': 0.132, 'com...</td>\n",
       "      <td>0.180</td>\n",
       "      <td>0.688</td>\n",
       "      <td>0.132</td>\n",
       "      <td>-0.2103</td>\n",
       "      <td>[yearold, phoenix, johnson, show, off, crazy, ...</td>\n",
       "    </tr>\n",
       "  </tbody>\n",
       "</table>\n",
       "</div>"
      ],
      "text/plain": [
       "                                            Description  \\\n",
       "5087  ?? “Ain’t no time better than this” ...listen ...   \n",
       "5603                    How’d @spidadmitchell do that!?   \n",
       "1626  @giannis_an34 finds @malcolmbrogdon for the @b...   \n",
       "6832                             @pushat305 in traffic!   \n",
       "3896  10-year-old Phoenix Johnson shows off CRAZY ha...   \n",
       "\n",
       "                             no punctuation and numbers  \\\n",
       "5087   “Ain’t no time better than this” listen in to...   \n",
       "5603                       How’d spidadmitchell do that   \n",
       "1626  giannisan finds malcolmbrogdon for the bucks t...   \n",
       "6832                                  pushat in traffic   \n",
       "3896  yearold Phoenix Johnson shows off CRAZY handle...   \n",
       "\n",
       "                                                  vader    neg    neu    pos  \\\n",
       "5087  {'neg': 0.078, 'neu': 0.642, 'pos': 0.279, 'co...  0.078  0.642  0.279   \n",
       "5603  {'neg': 0.0, 'neu': 1.0, 'pos': 0.0, 'compound...  0.000  1.000  0.000   \n",
       "1626  {'neg': 0.0, 'neu': 1.0, 'pos': 0.0, 'compound...  0.000  1.000  0.000   \n",
       "6832  {'neg': 0.0, 'neu': 1.0, 'pos': 0.0, 'compound...  0.000  1.000  0.000   \n",
       "3896  {'neg': 0.18, 'neu': 0.688, 'pos': 0.132, 'com...  0.180  0.688  0.132   \n",
       "\n",
       "      compound                                         lemmatized  \n",
       "5087    0.7672  [ain, t, no, time, better, than, this, listen,...  \n",
       "5603    0.0000                 [how, d, spidadmitchell, do, that]  \n",
       "1626    0.0000  [giannisan, find, malcolmbrogdon, for, the, bu...  \n",
       "6832    0.0000                              [pushat, in, traffic]  \n",
       "3896   -0.2103  [yearold, phoenix, johnson, show, off, crazy, ...  "
      ]
     },
     "execution_count": 71,
     "metadata": {},
     "output_type": "execute_result"
    }
   ],
   "source": [
    "#sanity check\n",
    "X_test_nlp.head()"
   ]
  },
  {
   "cell_type": "markdown",
   "metadata": {},
   "source": [
    "**As you can see above, the lemmatize function returns a list of words separated by commas.**\n",
    "\n",
    "**In order to vectorize properly, we must change the lemmatize column to a string without any brackets or commas.** \n",
    "\n",
    "### The following code will execute the transformation to string for both test and train. \n",
    "- The final string we will use to vectorize will be called `stringOG`"
   ]
  },
  {
   "cell_type": "code",
   "execution_count": 72,
   "metadata": {},
   "outputs": [],
   "source": [
    "\n",
    "X_train_nlp['texty'] = [[' '.join(i)] for i in X_train_nlp['lemmatized']]\n",
    "X_train_nlp['string'] = [str(i) for i in X_train_nlp['texty']]\n",
    "X_train_nlp['stringOG'] = [i.replace('[', '').replace(']', '').replace(\"'\", '') for i in X_train_nlp['string']]\n",
    "\n",
    "X_test_nlp['texty'] = [[' '.join(i)] for i in X_test_nlp['lemmatized']]\n",
    "X_test_nlp['string'] = [str(i) for i in X_test_nlp['texty']]\n",
    "X_test_nlp['stringOG'] = [i.replace('[', '').replace(']', '').replace(\"'\", '') for i in X_test_nlp['string']]\n"
   ]
  },
  {
   "cell_type": "code",
   "execution_count": 73,
   "metadata": {},
   "outputs": [
    {
     "data": {
      "text/html": [
       "<div>\n",
       "<style scoped>\n",
       "    .dataframe tbody tr th:only-of-type {\n",
       "        vertical-align: middle;\n",
       "    }\n",
       "\n",
       "    .dataframe tbody tr th {\n",
       "        vertical-align: top;\n",
       "    }\n",
       "\n",
       "    .dataframe thead th {\n",
       "        text-align: right;\n",
       "    }\n",
       "</style>\n",
       "<table border=\"1\" class=\"dataframe\">\n",
       "  <thead>\n",
       "    <tr style=\"text-align: right;\">\n",
       "      <th></th>\n",
       "      <th>Description</th>\n",
       "      <th>no punctuation and numbers</th>\n",
       "      <th>vader</th>\n",
       "      <th>neg</th>\n",
       "      <th>neu</th>\n",
       "      <th>pos</th>\n",
       "      <th>compound</th>\n",
       "      <th>lemmatized</th>\n",
       "      <th>texty</th>\n",
       "      <th>string</th>\n",
       "      <th>stringOG</th>\n",
       "    </tr>\n",
       "  </thead>\n",
       "  <tbody>\n",
       "    <tr>\n",
       "      <th>6709</th>\n",
       "      <td>A new career-high &amp; @pelicansnba franchise-hig...</td>\n",
       "      <td>A new careerhigh  pelicansnba franchisehigh  a...</td>\n",
       "      <td>{'neg': 0.0, 'neu': 1.0, 'pos': 0.0, 'compound...</td>\n",
       "      <td>0.000</td>\n",
       "      <td>1.000</td>\n",
       "      <td>0.0</td>\n",
       "      <td>0.000</td>\n",
       "      <td>[a, new, careerhigh, pelicansnba, franchisehig...</td>\n",
       "      <td>[a new careerhigh pelicansnba franchisehigh as...</td>\n",
       "      <td>['a new careerhigh pelicansnba franchisehigh a...</td>\n",
       "      <td>a new careerhigh pelicansnba franchisehigh ass...</td>\n",
       "    </tr>\n",
       "    <tr>\n",
       "      <th>1615</th>\n",
       "      <td>Swipe through to recap Wednesday’s seven games!</td>\n",
       "      <td>Swipe through to recap Wednesday’s seven games</td>\n",
       "      <td>{'neg': 0.0, 'neu': 1.0, 'pos': 0.0, 'compound...</td>\n",
       "      <td>0.000</td>\n",
       "      <td>1.000</td>\n",
       "      <td>0.0</td>\n",
       "      <td>0.000</td>\n",
       "      <td>[swipe, through, to, recap, wednesday, s, seve...</td>\n",
       "      <td>[swipe through to recap wednesday s seven game]</td>\n",
       "      <td>['swipe through to recap wednesday s seven game']</td>\n",
       "      <td>swipe through to recap wednesday s seven game</td>\n",
       "    </tr>\n",
       "    <tr>\n",
       "      <th>980</th>\n",
       "      <td>@dloading breaks out an array of moves!</td>\n",
       "      <td>dloading breaks out an array of moves</td>\n",
       "      <td>{'neg': 0.0, 'neu': 1.0, 'pos': 0.0, 'compound...</td>\n",
       "      <td>0.000</td>\n",
       "      <td>1.000</td>\n",
       "      <td>0.0</td>\n",
       "      <td>0.000</td>\n",
       "      <td>[dloading, break, out, an, array, of, move]</td>\n",
       "      <td>[dloading break out an array of move]</td>\n",
       "      <td>['dloading break out an array of move']</td>\n",
       "      <td>dloading break out an array of move</td>\n",
       "    </tr>\n",
       "    <tr>\n",
       "      <th>3759</th>\n",
       "      <td>No. 2??...@giannis_an34 ELECTRIFIES The Garden...</td>\n",
       "      <td>No giannisan ELECTRIFIES The Garden  BESTofNBA</td>\n",
       "      <td>{'neg': 0.306, 'neu': 0.694, 'pos': 0.0, 'comp...</td>\n",
       "      <td>0.306</td>\n",
       "      <td>0.694</td>\n",
       "      <td>0.0</td>\n",
       "      <td>-0.296</td>\n",
       "      <td>[no, giannisan, electrifies, the, garden, best...</td>\n",
       "      <td>[no giannisan electrifies the garden bestofnba]</td>\n",
       "      <td>['no giannisan electrifies the garden bestofnba']</td>\n",
       "      <td>no giannisan electrifies the garden bestofnba</td>\n",
       "    </tr>\n",
       "    <tr>\n",
       "      <th>6991</th>\n",
       "      <td>@dwighthoward takes it coast to coast for the ...</td>\n",
       "      <td>dwighthoward takes it coast to coast for the N...</td>\n",
       "      <td>{'neg': 0.27, 'neu': 0.73, 'pos': 0.0, 'compou...</td>\n",
       "      <td>0.270</td>\n",
       "      <td>0.730</td>\n",
       "      <td>0.0</td>\n",
       "      <td>-0.516</td>\n",
       "      <td>[dwighthoward, take, it, coast, to, coast, for...</td>\n",
       "      <td>[dwighthoward take it coast to coast for the n...</td>\n",
       "      <td>['dwighthoward take it coast to coast for the ...</td>\n",
       "      <td>dwighthoward take it coast to coast for the nb...</td>\n",
       "    </tr>\n",
       "  </tbody>\n",
       "</table>\n",
       "</div>"
      ],
      "text/plain": [
       "                                            Description  \\\n",
       "6709  A new career-high & @pelicansnba franchise-hig...   \n",
       "1615    Swipe through to recap Wednesday’s seven games!   \n",
       "980             @dloading breaks out an array of moves!   \n",
       "3759  No. 2??...@giannis_an34 ELECTRIFIES The Garden...   \n",
       "6991  @dwighthoward takes it coast to coast for the ...   \n",
       "\n",
       "                             no punctuation and numbers  \\\n",
       "6709  A new careerhigh  pelicansnba franchisehigh  a...   \n",
       "1615     Swipe through to recap Wednesday’s seven games   \n",
       "980               dloading breaks out an array of moves   \n",
       "3759     No giannisan ELECTRIFIES The Garden  BESTofNBA   \n",
       "6991  dwighthoward takes it coast to coast for the N...   \n",
       "\n",
       "                                                  vader    neg    neu  pos  \\\n",
       "6709  {'neg': 0.0, 'neu': 1.0, 'pos': 0.0, 'compound...  0.000  1.000  0.0   \n",
       "1615  {'neg': 0.0, 'neu': 1.0, 'pos': 0.0, 'compound...  0.000  1.000  0.0   \n",
       "980   {'neg': 0.0, 'neu': 1.0, 'pos': 0.0, 'compound...  0.000  1.000  0.0   \n",
       "3759  {'neg': 0.306, 'neu': 0.694, 'pos': 0.0, 'comp...  0.306  0.694  0.0   \n",
       "6991  {'neg': 0.27, 'neu': 0.73, 'pos': 0.0, 'compou...  0.270  0.730  0.0   \n",
       "\n",
       "      compound                                         lemmatized  \\\n",
       "6709     0.000  [a, new, careerhigh, pelicansnba, franchisehig...   \n",
       "1615     0.000  [swipe, through, to, recap, wednesday, s, seve...   \n",
       "980      0.000        [dloading, break, out, an, array, of, move]   \n",
       "3759    -0.296  [no, giannisan, electrifies, the, garden, best...   \n",
       "6991    -0.516  [dwighthoward, take, it, coast, to, coast, for...   \n",
       "\n",
       "                                                  texty  \\\n",
       "6709  [a new careerhigh pelicansnba franchisehigh as...   \n",
       "1615    [swipe through to recap wednesday s seven game]   \n",
       "980               [dloading break out an array of move]   \n",
       "3759    [no giannisan electrifies the garden bestofnba]   \n",
       "6991  [dwighthoward take it coast to coast for the n...   \n",
       "\n",
       "                                                 string  \\\n",
       "6709  ['a new careerhigh pelicansnba franchisehigh a...   \n",
       "1615  ['swipe through to recap wednesday s seven game']   \n",
       "980             ['dloading break out an array of move']   \n",
       "3759  ['no giannisan electrifies the garden bestofnba']   \n",
       "6991  ['dwighthoward take it coast to coast for the ...   \n",
       "\n",
       "                                               stringOG  \n",
       "6709  a new careerhigh pelicansnba franchisehigh ass...  \n",
       "1615      swipe through to recap wednesday s seven game  \n",
       "980                 dloading break out an array of move  \n",
       "3759      no giannisan electrifies the garden bestofnba  \n",
       "6991  dwighthoward take it coast to coast for the nb...  "
      ]
     },
     "execution_count": 73,
     "metadata": {},
     "output_type": "execute_result"
    }
   ],
   "source": [
    "#sanity check\n",
    "X_train_nlp.head()"
   ]
  },
  {
   "cell_type": "code",
   "execution_count": 74,
   "metadata": {},
   "outputs": [
    {
     "data": {
      "text/html": [
       "<div>\n",
       "<style scoped>\n",
       "    .dataframe tbody tr th:only-of-type {\n",
       "        vertical-align: middle;\n",
       "    }\n",
       "\n",
       "    .dataframe tbody tr th {\n",
       "        vertical-align: top;\n",
       "    }\n",
       "\n",
       "    .dataframe thead th {\n",
       "        text-align: right;\n",
       "    }\n",
       "</style>\n",
       "<table border=\"1\" class=\"dataframe\">\n",
       "  <thead>\n",
       "    <tr style=\"text-align: right;\">\n",
       "      <th></th>\n",
       "      <th>Description</th>\n",
       "      <th>no punctuation and numbers</th>\n",
       "      <th>vader</th>\n",
       "      <th>neg</th>\n",
       "      <th>neu</th>\n",
       "      <th>pos</th>\n",
       "      <th>compound</th>\n",
       "      <th>lemmatized</th>\n",
       "      <th>texty</th>\n",
       "      <th>string</th>\n",
       "      <th>stringOG</th>\n",
       "    </tr>\n",
       "  </thead>\n",
       "  <tbody>\n",
       "    <tr>\n",
       "      <th>5087</th>\n",
       "      <td>?? “Ain’t no time better than this” ...listen ...</td>\n",
       "      <td>“Ain’t no time better than this” listen in to...</td>\n",
       "      <td>{'neg': 0.078, 'neu': 0.642, 'pos': 0.279, 'co...</td>\n",
       "      <td>0.078</td>\n",
       "      <td>0.642</td>\n",
       "      <td>0.279</td>\n",
       "      <td>0.7672</td>\n",
       "      <td>[ain, t, no, time, better, than, this, listen,...</td>\n",
       "      <td>[ain t no time better than this listen in to t...</td>\n",
       "      <td>['ain t no time better than this listen in to ...</td>\n",
       "      <td>ain t no time better than this listen in to th...</td>\n",
       "    </tr>\n",
       "    <tr>\n",
       "      <th>5603</th>\n",
       "      <td>How’d @spidadmitchell do that!?</td>\n",
       "      <td>How’d spidadmitchell do that</td>\n",
       "      <td>{'neg': 0.0, 'neu': 1.0, 'pos': 0.0, 'compound...</td>\n",
       "      <td>0.000</td>\n",
       "      <td>1.000</td>\n",
       "      <td>0.000</td>\n",
       "      <td>0.0000</td>\n",
       "      <td>[how, d, spidadmitchell, do, that]</td>\n",
       "      <td>[how d spidadmitchell do that]</td>\n",
       "      <td>['how d spidadmitchell do that']</td>\n",
       "      <td>how d spidadmitchell do that</td>\n",
       "    </tr>\n",
       "    <tr>\n",
       "      <th>1626</th>\n",
       "      <td>@giannis_an34 finds @malcolmbrogdon for the @b...</td>\n",
       "      <td>giannisan finds malcolmbrogdon for the bucks t...</td>\n",
       "      <td>{'neg': 0.0, 'neu': 1.0, 'pos': 0.0, 'compound...</td>\n",
       "      <td>0.000</td>\n",
       "      <td>1.000</td>\n",
       "      <td>0.000</td>\n",
       "      <td>0.0000</td>\n",
       "      <td>[giannisan, find, malcolmbrogdon, for, the, bu...</td>\n",
       "      <td>[giannisan find malcolmbrogdon for the buck tr...</td>\n",
       "      <td>['giannisan find malcolmbrogdon for the buck t...</td>\n",
       "      <td>giannisan find malcolmbrogdon for the buck tri...</td>\n",
       "    </tr>\n",
       "    <tr>\n",
       "      <th>6832</th>\n",
       "      <td>@pushat305 in traffic!</td>\n",
       "      <td>pushat in traffic</td>\n",
       "      <td>{'neg': 0.0, 'neu': 1.0, 'pos': 0.0, 'compound...</td>\n",
       "      <td>0.000</td>\n",
       "      <td>1.000</td>\n",
       "      <td>0.000</td>\n",
       "      <td>0.0000</td>\n",
       "      <td>[pushat, in, traffic]</td>\n",
       "      <td>[pushat in traffic]</td>\n",
       "      <td>['pushat in traffic']</td>\n",
       "      <td>pushat in traffic</td>\n",
       "    </tr>\n",
       "    <tr>\n",
       "      <th>3896</th>\n",
       "      <td>10-year-old Phoenix Johnson shows off CRAZY ha...</td>\n",
       "      <td>yearold Phoenix Johnson shows off CRAZY handle...</td>\n",
       "      <td>{'neg': 0.18, 'neu': 0.688, 'pos': 0.132, 'com...</td>\n",
       "      <td>0.180</td>\n",
       "      <td>0.688</td>\n",
       "      <td>0.132</td>\n",
       "      <td>-0.2103</td>\n",
       "      <td>[yearold, phoenix, johnson, show, off, crazy, ...</td>\n",
       "      <td>[yearold phoenix johnson show off crazy handle...</td>\n",
       "      <td>['yearold phoenix johnson show off crazy handl...</td>\n",
       "      <td>yearold phoenix johnson show off crazy handle ...</td>\n",
       "    </tr>\n",
       "  </tbody>\n",
       "</table>\n",
       "</div>"
      ],
      "text/plain": [
       "                                            Description  \\\n",
       "5087  ?? “Ain’t no time better than this” ...listen ...   \n",
       "5603                    How’d @spidadmitchell do that!?   \n",
       "1626  @giannis_an34 finds @malcolmbrogdon for the @b...   \n",
       "6832                             @pushat305 in traffic!   \n",
       "3896  10-year-old Phoenix Johnson shows off CRAZY ha...   \n",
       "\n",
       "                             no punctuation and numbers  \\\n",
       "5087   “Ain’t no time better than this” listen in to...   \n",
       "5603                       How’d spidadmitchell do that   \n",
       "1626  giannisan finds malcolmbrogdon for the bucks t...   \n",
       "6832                                  pushat in traffic   \n",
       "3896  yearold Phoenix Johnson shows off CRAZY handle...   \n",
       "\n",
       "                                                  vader    neg    neu    pos  \\\n",
       "5087  {'neg': 0.078, 'neu': 0.642, 'pos': 0.279, 'co...  0.078  0.642  0.279   \n",
       "5603  {'neg': 0.0, 'neu': 1.0, 'pos': 0.0, 'compound...  0.000  1.000  0.000   \n",
       "1626  {'neg': 0.0, 'neu': 1.0, 'pos': 0.0, 'compound...  0.000  1.000  0.000   \n",
       "6832  {'neg': 0.0, 'neu': 1.0, 'pos': 0.0, 'compound...  0.000  1.000  0.000   \n",
       "3896  {'neg': 0.18, 'neu': 0.688, 'pos': 0.132, 'com...  0.180  0.688  0.132   \n",
       "\n",
       "      compound                                         lemmatized  \\\n",
       "5087    0.7672  [ain, t, no, time, better, than, this, listen,...   \n",
       "5603    0.0000                 [how, d, spidadmitchell, do, that]   \n",
       "1626    0.0000  [giannisan, find, malcolmbrogdon, for, the, bu...   \n",
       "6832    0.0000                              [pushat, in, traffic]   \n",
       "3896   -0.2103  [yearold, phoenix, johnson, show, off, crazy, ...   \n",
       "\n",
       "                                                  texty  \\\n",
       "5087  [ain t no time better than this listen in to t...   \n",
       "5603                     [how d spidadmitchell do that]   \n",
       "1626  [giannisan find malcolmbrogdon for the buck tr...   \n",
       "6832                                [pushat in traffic]   \n",
       "3896  [yearold phoenix johnson show off crazy handle...   \n",
       "\n",
       "                                                 string  \\\n",
       "5087  ['ain t no time better than this listen in to ...   \n",
       "5603                   ['how d spidadmitchell do that']   \n",
       "1626  ['giannisan find malcolmbrogdon for the buck t...   \n",
       "6832                              ['pushat in traffic']   \n",
       "3896  ['yearold phoenix johnson show off crazy handl...   \n",
       "\n",
       "                                               stringOG  \n",
       "5087  ain t no time better than this listen in to th...  \n",
       "5603                       how d spidadmitchell do that  \n",
       "1626  giannisan find malcolmbrogdon for the buck tri...  \n",
       "6832                                  pushat in traffic  \n",
       "3896  yearold phoenix johnson show off crazy handle ...  "
      ]
     },
     "execution_count": 74,
     "metadata": {},
     "output_type": "execute_result"
    }
   ],
   "source": [
    "#sanity check\n",
    "X_test_nlp.head()"
   ]
  },
  {
   "cell_type": "markdown",
   "metadata": {},
   "source": [
    "## Step 5: Vectorizer Time "
   ]
  },
  {
   "cell_type": "markdown",
   "metadata": {},
   "source": [
    "Let's only get `stringOG` from both test and train in order to vectorize. \n",
    "\n",
    "**Note:** I decided to use tfidf vectorizer and remove english stopwords"
   ]
  },
  {
   "cell_type": "code",
   "execution_count": 76,
   "metadata": {},
   "outputs": [],
   "source": [
    "X_train_vec = X_train_nlp['stringOG']\n",
    "X_test_vec = X_test_nlp['stringOG']"
   ]
  },
  {
   "cell_type": "code",
   "execution_count": 77,
   "metadata": {},
   "outputs": [],
   "source": [
    "from sklearn.feature_extraction.text import TfidfVectorizer"
   ]
  },
  {
   "cell_type": "code",
   "execution_count": 78,
   "metadata": {},
   "outputs": [
    {
     "data": {
      "text/plain": [
       "TfidfVectorizer(analyzer='word', binary=False, decode_error='strict',\n",
       "        dtype=<class 'numpy.float64'>, encoding='utf-8', input='content',\n",
       "        lowercase=True, max_df=1.0, max_features=None, min_df=1,\n",
       "        ngram_range=(1, 1), norm='l2', preprocessor=None, smooth_idf=True,\n",
       "        stop_words='english', strip_accents=None, sublinear_tf=False,\n",
       "        token_pattern='(?u)\\\\b\\\\w\\\\w+\\\\b', tokenizer=None, use_idf=True,\n",
       "        vocabulary=None)"
      ]
     },
     "execution_count": 78,
     "metadata": {},
     "output_type": "execute_result"
    }
   ],
   "source": [
    "#instantiate then fit tfidf\n",
    "tfidf = TfidfVectorizer(stop_words= 'english')\n",
    "tfidf.fit(X_train_vec)"
   ]
  },
  {
   "cell_type": "markdown",
   "metadata": {},
   "source": [
    "## Transformation Time!\n",
    "- Note how I transformed my test data based on .fit(train) in order to prevent data leakage from occuring "
   ]
  },
  {
   "cell_type": "code",
   "execution_count": 79,
   "metadata": {},
   "outputs": [],
   "source": [
    "# transoforming \n",
    "train_transform = tfidf.transform(X_train_vec)\n",
    "test_transform = tfidf.transform(X_test_vec)"
   ]
  },
  {
   "cell_type": "code",
   "execution_count": 80,
   "metadata": {},
   "outputs": [],
   "source": [
    "#creating df of transformed data\n",
    "train_transform_df = pd.DataFrame(train_transform.toarray(),\n",
    "                   columns= tfidf.get_feature_names())\n",
    "\n",
    "test_transform_df = pd.DataFrame(test_transform.toarray(),\n",
    "                   columns= tfidf.get_feature_names())"
   ]
  },
  {
   "cell_type": "code",
   "execution_count": 81,
   "metadata": {},
   "outputs": [
    {
     "data": {
      "text/plain": [
       "(5193, 3400)"
      ]
     },
     "execution_count": 81,
     "metadata": {},
     "output_type": "execute_result"
    }
   ],
   "source": [
    "#sanity check\n",
    "train_transform_df.shape"
   ]
  },
  {
   "cell_type": "markdown",
   "metadata": {},
   "source": [
    "## We finally made our train and test!\n",
    "- Now let's append all the important features together\n",
    "- The main features for both train and test are: vectorized df, vader sentiment scores, `Followers at Posting`, `Type_Photo`, and `Type_Video`. "
   ]
  },
  {
   "cell_type": "code",
   "execution_count": 82,
   "metadata": {},
   "outputs": [],
   "source": [
    "vader = ['neg', 'neu', 'pos', 'compound']\n",
    "X_train_df = pd.concat(objs = [train_transform_df,\n",
    "                       X_train_nlp.reset_index()[vader],\n",
    "                       X_train.reset_index()[['Followers at Posting', 'Type_Photo', 'Type_Video']]], \n",
    "                       axis = 1)"
   ]
  },
  {
   "cell_type": "code",
   "execution_count": 83,
   "metadata": {},
   "outputs": [
    {
     "data": {
      "text/plain": [
       "0"
      ]
     },
     "execution_count": 83,
     "metadata": {},
     "output_type": "execute_result"
    }
   ],
   "source": [
    "#sanity check\n",
    "X_train_df.isnull().sum().sum()"
   ]
  },
  {
   "cell_type": "code",
   "execution_count": 84,
   "metadata": {},
   "outputs": [],
   "source": [
    "vader = ['neg', 'neu', 'pos', 'compound']\n",
    "X_test_df = pd.concat(objs = [test_transform_df,\n",
    "                       X_test_nlp.reset_index()[vader],\n",
    "                       X_test.reset_index()[['Followers at Posting', 'Type_Photo', 'Type_Video']]], \n",
    "                       axis = 1)"
   ]
  },
  {
   "cell_type": "code",
   "execution_count": 85,
   "metadata": {},
   "outputs": [
    {
     "data": {
      "text/plain": [
       "0"
      ]
     },
     "execution_count": 85,
     "metadata": {},
     "output_type": "execute_result"
    }
   ],
   "source": [
    "#sanity check\n",
    "X_test_df.isnull().sum().sum()"
   ]
  },
  {
   "cell_type": "markdown",
   "metadata": {},
   "source": [
    "# Notice!\n",
    "- At this point, I duplicated my notebook (called `ApplyingTEST`) in order to transform my holdout data the exact same way as the train and test data. \n",
    "- The holdout data should have 3407 columns (just like train and test). \n",
    "- Eventually after I find the best model, I will bring in the holdout data in order to predict `Engagements`"
   ]
  },
  {
   "cell_type": "markdown",
   "metadata": {},
   "source": [
    "# Modeling Time!\n",
    "- We finally have our dataframes for train and test\n",
    "- The following is a list of models I will perform on my train and test data\n",
    "\n",
    "## Attempting to model using multiple regressions\n",
    "- Linear Regression\n",
    "- Lasso\n",
    "- Ridge\n",
    "- Elastic\n",
    "- Random Forest\n",
    "- Gradient Booster\n",
    "- Bernoulli\n",
    "- Gaussian \n",
    "- SVR"
   ]
  },
  {
   "cell_type": "code",
   "execution_count": 86,
   "metadata": {},
   "outputs": [],
   "source": [
    "from sklearn.linear_model import LinearRegression, Lasso, Ridge, ElasticNet\n",
    "from sklearn.ensemble import GradientBoostingClassifier\n",
    "from sklearn.model_selection import cross_val_score"
   ]
  },
  {
   "cell_type": "code",
   "execution_count": 87,
   "metadata": {},
   "outputs": [],
   "source": [
    "lr = LinearRegression()\n",
    "lasso = Lasso()\n",
    "ridge = Ridge()\n",
    "elastic = ElasticNet()"
   ]
  },
  {
   "cell_type": "markdown",
   "metadata": {},
   "source": [
    "**I am computing the cross val scores of each model to in order to pick the best performing models to ultimately perform a GridSearch.**"
   ]
  },
  {
   "cell_type": "code",
   "execution_count": 88,
   "metadata": {},
   "outputs": [
    {
     "name": "stdout",
     "output_type": "stream",
     "text": [
      "-353488.27279168036\n"
     ]
    },
    {
     "name": "stderr",
     "output_type": "stream",
     "text": [
      "/Users/valamani/anaconda3/lib/python3.7/site-packages/sklearn/linear_model/coordinate_descent.py:492: ConvergenceWarning: Objective did not converge. You might want to increase the number of iterations. Fitting data with very small alpha may cause precision problems.\n",
      "  ConvergenceWarning)\n"
     ]
    },
    {
     "name": "stdout",
     "output_type": "stream",
     "text": [
      "0.8612494302840685\n"
     ]
    },
    {
     "name": "stderr",
     "output_type": "stream",
     "text": [
      "/Users/valamani/anaconda3/lib/python3.7/site-packages/sklearn/linear_model/ridge.py:125: LinAlgWarning: Ill-conditioned matrix (rcond=3.09316e-18): result may not be accurate.\n",
      "  overwrite_a=True).T\n",
      "/Users/valamani/anaconda3/lib/python3.7/site-packages/sklearn/linear_model/ridge.py:125: LinAlgWarning: Ill-conditioned matrix (rcond=3.0621e-18): result may not be accurate.\n",
      "  overwrite_a=True).T\n",
      "/Users/valamani/anaconda3/lib/python3.7/site-packages/sklearn/linear_model/ridge.py:125: LinAlgWarning: Ill-conditioned matrix (rcond=3.08454e-18): result may not be accurate.\n",
      "  overwrite_a=True).T\n",
      "/Users/valamani/anaconda3/lib/python3.7/site-packages/sklearn/linear_model/ridge.py:125: LinAlgWarning: Ill-conditioned matrix (rcond=3.13301e-18): result may not be accurate.\n",
      "  overwrite_a=True).T\n",
      "/Users/valamani/anaconda3/lib/python3.7/site-packages/sklearn/linear_model/ridge.py:125: LinAlgWarning: Ill-conditioned matrix (rcond=3.01971e-18): result may not be accurate.\n",
      "  overwrite_a=True).T\n"
     ]
    },
    {
     "name": "stdout",
     "output_type": "stream",
     "text": [
      "0.8929670880868089\n",
      "0.4524421300197375\n"
     ]
    }
   ],
   "source": [
    "print(cross_val_score(lr, X_train_df, y_train, cv = 5).mean()) #linear regression\n",
    "print(cross_val_score(lasso, X_train_df, y_train, cv = 5).mean()) #lasso\n",
    "print(cross_val_score(ridge, X_train_df, y_train, cv = 5).mean()) #ridge\n",
    "print(cross_val_score(elastic, X_train_df, y_train, cv = 5).mean()) #elastic"
   ]
  },
  {
   "cell_type": "code",
   "execution_count": 89,
   "metadata": {},
   "outputs": [
    {
     "data": {
      "text/plain": [
       "(2559, 3407)"
      ]
     },
     "execution_count": 89,
     "metadata": {},
     "output_type": "execute_result"
    }
   ],
   "source": [
    "#sanity check\n",
    "X_test_df.shape"
   ]
  },
  {
   "cell_type": "code",
   "execution_count": 90,
   "metadata": {},
   "outputs": [
    {
     "data": {
      "text/html": [
       "<div>\n",
       "<style scoped>\n",
       "    .dataframe tbody tr th:only-of-type {\n",
       "        vertical-align: middle;\n",
       "    }\n",
       "\n",
       "    .dataframe tbody tr th {\n",
       "        vertical-align: top;\n",
       "    }\n",
       "\n",
       "    .dataframe thead th {\n",
       "        text-align: right;\n",
       "    }\n",
       "</style>\n",
       "<table border=\"1\" class=\"dataframe\">\n",
       "  <thead>\n",
       "    <tr style=\"text-align: right;\">\n",
       "      <th></th>\n",
       "      <th>aarontaosunitedmasters</th>\n",
       "      <th>abc</th>\n",
       "      <th>abcespn</th>\n",
       "      <th>ability</th>\n",
       "      <th>able</th>\n",
       "      <th>academy</th>\n",
       "      <th>acfresh</th>\n",
       "      <th>achievement</th>\n",
       "      <th>acknowledges</th>\n",
       "      <th>acl</th>\n",
       "      <th>...</th>\n",
       "      <th>zhuri</th>\n",
       "      <th>zmane</th>\n",
       "      <th>zo</th>\n",
       "      <th>neg</th>\n",
       "      <th>neu</th>\n",
       "      <th>pos</th>\n",
       "      <th>compound</th>\n",
       "      <th>Followers at Posting</th>\n",
       "      <th>Type_Photo</th>\n",
       "      <th>Type_Video</th>\n",
       "    </tr>\n",
       "  </thead>\n",
       "  <tbody>\n",
       "    <tr>\n",
       "      <th>0</th>\n",
       "      <td>0.0</td>\n",
       "      <td>0.0</td>\n",
       "      <td>0.0</td>\n",
       "      <td>0.0</td>\n",
       "      <td>0.0</td>\n",
       "      <td>0.0</td>\n",
       "      <td>0.0</td>\n",
       "      <td>0.0</td>\n",
       "      <td>0.0</td>\n",
       "      <td>0.0</td>\n",
       "      <td>...</td>\n",
       "      <td>0.0</td>\n",
       "      <td>0.0</td>\n",
       "      <td>0.0</td>\n",
       "      <td>0.000</td>\n",
       "      <td>1.000</td>\n",
       "      <td>0.0</td>\n",
       "      <td>0.000</td>\n",
       "      <td>26083495</td>\n",
       "      <td>0</td>\n",
       "      <td>1</td>\n",
       "    </tr>\n",
       "    <tr>\n",
       "      <th>1</th>\n",
       "      <td>0.0</td>\n",
       "      <td>0.0</td>\n",
       "      <td>0.0</td>\n",
       "      <td>0.0</td>\n",
       "      <td>0.0</td>\n",
       "      <td>0.0</td>\n",
       "      <td>0.0</td>\n",
       "      <td>0.0</td>\n",
       "      <td>0.0</td>\n",
       "      <td>0.0</td>\n",
       "      <td>...</td>\n",
       "      <td>0.0</td>\n",
       "      <td>0.0</td>\n",
       "      <td>0.0</td>\n",
       "      <td>0.000</td>\n",
       "      <td>1.000</td>\n",
       "      <td>0.0</td>\n",
       "      <td>0.000</td>\n",
       "      <td>34492470</td>\n",
       "      <td>0</td>\n",
       "      <td>0</td>\n",
       "    </tr>\n",
       "    <tr>\n",
       "      <th>2</th>\n",
       "      <td>0.0</td>\n",
       "      <td>0.0</td>\n",
       "      <td>0.0</td>\n",
       "      <td>0.0</td>\n",
       "      <td>0.0</td>\n",
       "      <td>0.0</td>\n",
       "      <td>0.0</td>\n",
       "      <td>0.0</td>\n",
       "      <td>0.0</td>\n",
       "      <td>0.0</td>\n",
       "      <td>...</td>\n",
       "      <td>0.0</td>\n",
       "      <td>0.0</td>\n",
       "      <td>0.0</td>\n",
       "      <td>0.000</td>\n",
       "      <td>1.000</td>\n",
       "      <td>0.0</td>\n",
       "      <td>0.000</td>\n",
       "      <td>35454842</td>\n",
       "      <td>0</td>\n",
       "      <td>1</td>\n",
       "    </tr>\n",
       "    <tr>\n",
       "      <th>3</th>\n",
       "      <td>0.0</td>\n",
       "      <td>0.0</td>\n",
       "      <td>0.0</td>\n",
       "      <td>0.0</td>\n",
       "      <td>0.0</td>\n",
       "      <td>0.0</td>\n",
       "      <td>0.0</td>\n",
       "      <td>0.0</td>\n",
       "      <td>0.0</td>\n",
       "      <td>0.0</td>\n",
       "      <td>...</td>\n",
       "      <td>0.0</td>\n",
       "      <td>0.0</td>\n",
       "      <td>0.0</td>\n",
       "      <td>0.306</td>\n",
       "      <td>0.694</td>\n",
       "      <td>0.0</td>\n",
       "      <td>-0.296</td>\n",
       "      <td>30442523</td>\n",
       "      <td>0</td>\n",
       "      <td>1</td>\n",
       "    </tr>\n",
       "    <tr>\n",
       "      <th>4</th>\n",
       "      <td>0.0</td>\n",
       "      <td>0.0</td>\n",
       "      <td>0.0</td>\n",
       "      <td>0.0</td>\n",
       "      <td>0.0</td>\n",
       "      <td>0.0</td>\n",
       "      <td>0.0</td>\n",
       "      <td>0.0</td>\n",
       "      <td>0.0</td>\n",
       "      <td>0.0</td>\n",
       "      <td>...</td>\n",
       "      <td>0.0</td>\n",
       "      <td>0.0</td>\n",
       "      <td>0.0</td>\n",
       "      <td>0.270</td>\n",
       "      <td>0.730</td>\n",
       "      <td>0.0</td>\n",
       "      <td>-0.516</td>\n",
       "      <td>25826105</td>\n",
       "      <td>0</td>\n",
       "      <td>1</td>\n",
       "    </tr>\n",
       "  </tbody>\n",
       "</table>\n",
       "<p>5 rows × 3407 columns</p>\n",
       "</div>"
      ],
      "text/plain": [
       "   aarontaosunitedmasters  abc  abcespn  ability  able  academy  acfresh  \\\n",
       "0                     0.0  0.0      0.0      0.0   0.0      0.0      0.0   \n",
       "1                     0.0  0.0      0.0      0.0   0.0      0.0      0.0   \n",
       "2                     0.0  0.0      0.0      0.0   0.0      0.0      0.0   \n",
       "3                     0.0  0.0      0.0      0.0   0.0      0.0      0.0   \n",
       "4                     0.0  0.0      0.0      0.0   0.0      0.0      0.0   \n",
       "\n",
       "   achievement  acknowledges  acl  ...  zhuri  zmane   zo    neg    neu  pos  \\\n",
       "0          0.0           0.0  0.0  ...    0.0    0.0  0.0  0.000  1.000  0.0   \n",
       "1          0.0           0.0  0.0  ...    0.0    0.0  0.0  0.000  1.000  0.0   \n",
       "2          0.0           0.0  0.0  ...    0.0    0.0  0.0  0.000  1.000  0.0   \n",
       "3          0.0           0.0  0.0  ...    0.0    0.0  0.0  0.306  0.694  0.0   \n",
       "4          0.0           0.0  0.0  ...    0.0    0.0  0.0  0.270  0.730  0.0   \n",
       "\n",
       "   compound  Followers at Posting  Type_Photo  Type_Video  \n",
       "0     0.000              26083495           0           1  \n",
       "1     0.000              34492470           0           0  \n",
       "2     0.000              35454842           0           1  \n",
       "3    -0.296              30442523           0           1  \n",
       "4    -0.516              25826105           0           1  \n",
       "\n",
       "[5 rows x 3407 columns]"
      ]
     },
     "execution_count": 90,
     "metadata": {},
     "output_type": "execute_result"
    }
   ],
   "source": [
    "#sanity check\n",
    "X_train_df.head()"
   ]
  },
  {
   "cell_type": "code",
   "execution_count": 91,
   "metadata": {},
   "outputs": [],
   "source": [
    "from sklearn.ensemble import RandomForestRegressor, GradientBoostingRegressor\n",
    "from sklearn.naive_bayes import BernoulliNB, GaussianNB"
   ]
  },
  {
   "cell_type": "code",
   "execution_count": 92,
   "metadata": {},
   "outputs": [],
   "source": [
    "rf = RandomForestRegressor()\n",
    "gb = GradientBoostingRegressor()\n",
    "b = BernoulliNB()\n",
    "g = GaussianNB()"
   ]
  },
  {
   "cell_type": "code",
   "execution_count": 93,
   "metadata": {},
   "outputs": [
    {
     "name": "stderr",
     "output_type": "stream",
     "text": [
      "/Users/valamani/anaconda3/lib/python3.7/site-packages/sklearn/ensemble/forest.py:246: FutureWarning: The default value of n_estimators will change from 10 in version 0.20 to 100 in 0.22.\n",
      "  \"10 in version 0.20 to 100 in 0.22.\", FutureWarning)\n",
      "/Users/valamani/anaconda3/lib/python3.7/site-packages/sklearn/ensemble/forest.py:246: FutureWarning: The default value of n_estimators will change from 10 in version 0.20 to 100 in 0.22.\n",
      "  \"10 in version 0.20 to 100 in 0.22.\", FutureWarning)\n",
      "/Users/valamani/anaconda3/lib/python3.7/site-packages/sklearn/ensemble/forest.py:246: FutureWarning: The default value of n_estimators will change from 10 in version 0.20 to 100 in 0.22.\n",
      "  \"10 in version 0.20 to 100 in 0.22.\", FutureWarning)\n",
      "/Users/valamani/anaconda3/lib/python3.7/site-packages/sklearn/ensemble/forest.py:246: FutureWarning: The default value of n_estimators will change from 10 in version 0.20 to 100 in 0.22.\n",
      "  \"10 in version 0.20 to 100 in 0.22.\", FutureWarning)\n",
      "/Users/valamani/anaconda3/lib/python3.7/site-packages/sklearn/ensemble/forest.py:246: FutureWarning: The default value of n_estimators will change from 10 in version 0.20 to 100 in 0.22.\n",
      "  \"10 in version 0.20 to 100 in 0.22.\", FutureWarning)\n"
     ]
    },
    {
     "name": "stdout",
     "output_type": "stream",
     "text": [
      "0.9040687256164937\n",
      "0.883443259116367\n"
     ]
    },
    {
     "name": "stderr",
     "output_type": "stream",
     "text": [
      "/Users/valamani/anaconda3/lib/python3.7/site-packages/sklearn/model_selection/_split.py:652: Warning: The least populated class in y has only 1 members, which is too few. The minimum number of members in any class cannot be less than n_splits=5.\n",
      "  % (min_groups, self.n_splits)), Warning)\n"
     ]
    },
    {
     "name": "stdout",
     "output_type": "stream",
     "text": [
      "0.03139350042523398\n"
     ]
    },
    {
     "name": "stderr",
     "output_type": "stream",
     "text": [
      "/Users/valamani/anaconda3/lib/python3.7/site-packages/sklearn/model_selection/_split.py:652: Warning: The least populated class in y has only 1 members, which is too few. The minimum number of members in any class cannot be less than n_splits=5.\n",
      "  % (min_groups, self.n_splits)), Warning)\n"
     ]
    },
    {
     "name": "stdout",
     "output_type": "stream",
     "text": [
      "0.6240993283219586\n"
     ]
    }
   ],
   "source": [
    "print(cross_val_score(rf, X_train_df, y_train, cv = 5).mean())  #random forest\n",
    "print(cross_val_score(gb, X_train_df, y_train, cv = 5).mean())   #gradient boost\n",
    "print(cross_val_score(b, X_train_df, y_train, cv = 5).mean())  #bernoulli\n",
    "print(cross_val_score(g, X_train_df, y_train, cv = 5).mean())   #gaussian "
   ]
  },
  {
   "cell_type": "code",
   "execution_count": 94,
   "metadata": {},
   "outputs": [],
   "source": [
    "from sklearn.svm import SVR"
   ]
  },
  {
   "cell_type": "code",
   "execution_count": 95,
   "metadata": {},
   "outputs": [],
   "source": [
    "svr = SVR()"
   ]
  },
  {
   "cell_type": "code",
   "execution_count": 96,
   "metadata": {},
   "outputs": [
    {
     "name": "stderr",
     "output_type": "stream",
     "text": [
      "/Users/valamani/anaconda3/lib/python3.7/site-packages/sklearn/svm/base.py:196: FutureWarning: The default value of gamma will change from 'auto' to 'scale' in version 0.22 to account better for unscaled features. Set gamma explicitly to 'auto' or 'scale' to avoid this warning.\n",
      "  \"avoid this warning.\", FutureWarning)\n",
      "/Users/valamani/anaconda3/lib/python3.7/site-packages/sklearn/svm/base.py:196: FutureWarning: The default value of gamma will change from 'auto' to 'scale' in version 0.22 to account better for unscaled features. Set gamma explicitly to 'auto' or 'scale' to avoid this warning.\n",
      "  \"avoid this warning.\", FutureWarning)\n",
      "/Users/valamani/anaconda3/lib/python3.7/site-packages/sklearn/svm/base.py:196: FutureWarning: The default value of gamma will change from 'auto' to 'scale' in version 0.22 to account better for unscaled features. Set gamma explicitly to 'auto' or 'scale' to avoid this warning.\n",
      "  \"avoid this warning.\", FutureWarning)\n",
      "/Users/valamani/anaconda3/lib/python3.7/site-packages/sklearn/svm/base.py:196: FutureWarning: The default value of gamma will change from 'auto' to 'scale' in version 0.22 to account better for unscaled features. Set gamma explicitly to 'auto' or 'scale' to avoid this warning.\n",
      "  \"avoid this warning.\", FutureWarning)\n",
      "/Users/valamani/anaconda3/lib/python3.7/site-packages/sklearn/svm/base.py:196: FutureWarning: The default value of gamma will change from 'auto' to 'scale' in version 0.22 to account better for unscaled features. Set gamma explicitly to 'auto' or 'scale' to avoid this warning.\n",
      "  \"avoid this warning.\", FutureWarning)\n"
     ]
    },
    {
     "data": {
      "text/plain": [
       "-0.0738795111886684"
      ]
     },
     "execution_count": 96,
     "metadata": {},
     "output_type": "execute_result"
    }
   ],
   "source": [
    "cross_val_score(svr, X_train_df, y_train, cv = 5).mean() #support vector regression "
   ]
  },
  {
   "cell_type": "markdown",
   "metadata": {},
   "source": [
    "## The following models that I picked based on the cross val score are: \n",
    "|Model|Cross Val Score|\n",
    "|--|--|\n",
    "|Lasso|.8612|\n",
    "|Ridge|.8929|\n",
    "|Random Forest|.9028|\n",
    "|Gradient Boosting|.8833|"
   ]
  },
  {
   "cell_type": "code",
   "execution_count": 97,
   "metadata": {},
   "outputs": [],
   "source": [
    "l = Lasso()\n",
    "r = Ridge()\n",
    "rf = RandomForestRegressor()\n",
    "gb = GradientBoostingRegressor()"
   ]
  },
  {
   "cell_type": "markdown",
   "metadata": {},
   "source": [
    "## Since this competition is based on the MAPE metric, I will create a function that computes MAPE"
   ]
  },
  {
   "cell_type": "code",
   "execution_count": 98,
   "metadata": {},
   "outputs": [],
   "source": [
    "#creating a mape function \n",
    "import numpy as np\n",
    "\n",
    "def mean_absolute_percentage_error(y_true, y_pred): \n",
    "    y_true, y_pred = np.array(y_true), np.array(y_pred)\n",
    "    return np.mean(np.abs((y_true - y_pred) / y_true)) * 100"
   ]
  },
  {
   "cell_type": "markdown",
   "metadata": {},
   "source": [
    "## The following tests are modeled based on the default parameters"
   ]
  },
  {
   "cell_type": "markdown",
   "metadata": {},
   "source": [
    "### Lasso"
   ]
  },
  {
   "cell_type": "code",
   "execution_count": 99,
   "metadata": {},
   "outputs": [
    {
     "name": "stdout",
     "output_type": "stream",
     "text": [
      "0.9638518751396787\n",
      "0.8736697336135539\n"
     ]
    }
   ],
   "source": [
    "l.fit(X_train_df, y_train)\n",
    "print(l.score(X_train_df, y_train))\n",
    "print(l.score(X_test_df, y_test))"
   ]
  },
  {
   "cell_type": "code",
   "execution_count": 100,
   "metadata": {},
   "outputs": [],
   "source": [
    "l_pred = l.predict(X_test_df)\n",
    "#.predict spits out pandas series "
   ]
  },
  {
   "cell_type": "code",
   "execution_count": 101,
   "metadata": {},
   "outputs": [
    {
     "data": {
      "text/plain": [
       "8.748390118207164"
      ]
     },
     "execution_count": 101,
     "metadata": {},
     "output_type": "execute_result"
    }
   ],
   "source": [
    "mean_absolute_percentage_error(y_test, l_pred)"
   ]
  },
  {
   "cell_type": "markdown",
   "metadata": {},
   "source": [
    "### Ridge"
   ]
  },
  {
   "cell_type": "code",
   "execution_count": 102,
   "metadata": {},
   "outputs": [
    {
     "name": "stderr",
     "output_type": "stream",
     "text": [
      "/Users/valamani/anaconda3/lib/python3.7/site-packages/sklearn/linear_model/ridge.py:125: LinAlgWarning: Ill-conditioned matrix (rcond=2.5934e-18): result may not be accurate.\n",
      "  overwrite_a=True).T\n"
     ]
    },
    {
     "name": "stdout",
     "output_type": "stream",
     "text": [
      "0.9384067055012029\n",
      "0.8949212583548198\n"
     ]
    }
   ],
   "source": [
    "r.fit(X_train_df, y_train)\n",
    "print(r.score(X_train_df, y_train))\n",
    "print(r.score(X_test_df, y_test))"
   ]
  },
  {
   "cell_type": "code",
   "execution_count": 103,
   "metadata": {},
   "outputs": [],
   "source": [
    "r_pred = r.predict(X_test_df)"
   ]
  },
  {
   "cell_type": "code",
   "execution_count": 104,
   "metadata": {},
   "outputs": [
    {
     "data": {
      "text/plain": [
       "8.079756724145264"
      ]
     },
     "execution_count": 104,
     "metadata": {},
     "output_type": "execute_result"
    }
   ],
   "source": [
    "mean_absolute_percentage_error(y_test, r_pred)"
   ]
  },
  {
   "cell_type": "markdown",
   "metadata": {},
   "source": [
    "### Random Forest "
   ]
  },
  {
   "cell_type": "code",
   "execution_count": 105,
   "metadata": {},
   "outputs": [
    {
     "name": "stderr",
     "output_type": "stream",
     "text": [
      "/Users/valamani/anaconda3/lib/python3.7/site-packages/sklearn/ensemble/forest.py:246: FutureWarning: The default value of n_estimators will change from 10 in version 0.20 to 100 in 0.22.\n",
      "  \"10 in version 0.20 to 100 in 0.22.\", FutureWarning)\n"
     ]
    },
    {
     "name": "stdout",
     "output_type": "stream",
     "text": [
      "0.9840765384886367\n",
      "0.9060100190483985\n"
     ]
    }
   ],
   "source": [
    "rf.fit(X_train_df, y_train)\n",
    "print(rf.score(X_train_df, y_train))\n",
    "print(rf.score(X_test_df, y_test))"
   ]
  },
  {
   "cell_type": "code",
   "execution_count": 106,
   "metadata": {},
   "outputs": [],
   "source": [
    "rf_pred = rf.predict(X_test_df)"
   ]
  },
  {
   "cell_type": "code",
   "execution_count": 107,
   "metadata": {},
   "outputs": [
    {
     "data": {
      "text/plain": [
       "7.334314874977286"
      ]
     },
     "execution_count": 107,
     "metadata": {},
     "output_type": "execute_result"
    }
   ],
   "source": [
    "mean_absolute_percentage_error(y_test, rf_pred)"
   ]
  },
  {
   "cell_type": "markdown",
   "metadata": {},
   "source": [
    "### Gradient Boosting"
   ]
  },
  {
   "cell_type": "code",
   "execution_count": 108,
   "metadata": {},
   "outputs": [
    {
     "name": "stdout",
     "output_type": "stream",
     "text": [
      "0.8982712487876601\n",
      "0.8829435261664901\n"
     ]
    }
   ],
   "source": [
    "gb.fit(X_train_df, y_train)\n",
    "print(gb.score(X_train_df, y_train))\n",
    "print(gb.score(X_test_df, y_test))"
   ]
  },
  {
   "cell_type": "code",
   "execution_count": 109,
   "metadata": {},
   "outputs": [],
   "source": [
    "gb_pred = gb.predict(X_test_df)"
   ]
  },
  {
   "cell_type": "code",
   "execution_count": 110,
   "metadata": {},
   "outputs": [
    {
     "data": {
      "text/plain": [
       "8.725065765957362"
      ]
     },
     "execution_count": 110,
     "metadata": {},
     "output_type": "execute_result"
    }
   ],
   "source": [
    "mean_absolute_percentage_error(y_test, gb_pred)"
   ]
  },
  {
   "cell_type": "markdown",
   "metadata": {},
   "source": [
    "**The following table shows each models train, test, and MAPE score (based on default parameters)**\n",
    "\n",
    "|Model|Train Score|Test Score|Mape Score|\n",
    "|--|--|--|--|\n",
    "|Lasso|.9638|.8736|8.749|\n",
    "|Ridge|.9384|.8949|8.08|\n",
    "|Random Forest|.983|.907|**7.292**|\n",
    "|Gradient Boosting|.898|.882|8.719|\n",
    "\n",
    "**Note:** My best MAPE score is 7.292\n",
    "\n",
    "## The following code will perform GridSearch Pipeline to determine if we can get a better MAPE score. \n",
    "- Note: I didn't GridSearch Gradient Boosting since it took to long to execute. Therefore, I added ElasticNet for GridSearching. \n",
    "\n",
    "**The following models I performed on GridSearch are:**\n",
    "- Random Forest\n",
    "- Lasso\n",
    "- Ridge \n",
    "- ELastic Net "
   ]
  },
  {
   "cell_type": "markdown",
   "metadata": {},
   "source": [
    "## GridSearch Pipeline Random Forest"
   ]
  },
  {
   "cell_type": "code",
   "execution_count": 111,
   "metadata": {},
   "outputs": [],
   "source": [
    "from sklearn.pipeline import Pipeline\n",
    "from sklearn.model_selection import GridSearchCV"
   ]
  },
  {
   "cell_type": "code",
   "execution_count": 116,
   "metadata": {},
   "outputs": [
    {
     "name": "stdout",
     "output_type": "stream",
     "text": [
      "Fitting 3 folds for each of 3 candidates, totalling 9 fits\n"
     ]
    },
    {
     "name": "stderr",
     "output_type": "stream",
     "text": [
      "[Parallel(n_jobs=-1)]: Using backend LokyBackend with 8 concurrent workers.\n",
      "[Parallel(n_jobs=-1)]: Done   4 out of   9 | elapsed:    4.4s remaining:    5.4s\n",
      "[Parallel(n_jobs=-1)]: Done   9 out of   9 | elapsed:   47.9s finished\n"
     ]
    },
    {
     "name": "stdout",
     "output_type": "stream",
     "text": [
      "0.8696463770492735\n"
     ]
    },
    {
     "data": {
      "text/plain": [
       "{'rf__max_depth': None, 'rf__max_features': 'sqrt', 'rf__n_estimators': 500}"
      ]
     },
     "execution_count": 116,
     "metadata": {},
     "output_type": "execute_result"
    }
   ],
   "source": [
    "pipe = Pipeline([\n",
    "    ('rf', RandomForestRegressor())\n",
    "])\n",
    "pipe_params = {\n",
    "    'rf__n_estimators': [500],\n",
    "    'rf__max_depth': [None],\n",
    "    'rf__max_features': ['auto','sqrt']\n",
    "    #can add C parameter for logisitic regression\n",
    "}\n",
    "\n",
    "\n",
    "gs = GridSearchCV(pipe, param_grid=pipe_params, cv=3,verbose=1,n_jobs=-1)\n",
    "\n",
    "\n",
    "gs.fit(X_train_df, y_train)\n",
    "\n",
    "\n",
    "print(gs.best_score_)\n",
    "print(f'Best Params for the Random forest are :{gs.best_params_}')"
   ]
  },
  {
   "cell_type": "code",
   "execution_count": 118,
   "metadata": {},
   "outputs": [
    {
     "name": "stdout",
     "output_type": "stream",
     "text": [
      "The train score for the gradient booster is: 0.9837459879517173\n",
      "The test score for the gradient booster is: 0.878005583524015\n",
      "The MAPE score for the gradient booster is: 7.334314874977286\n"
     ]
    }
   ],
   "source": [
    "print(f'The train score for the gradient booster is: {gs.score(X_train_df, y_train)}')\n",
    "print(f'The test score for the gradient booster is: {gs.score(X_test_df, y_test)}')\n",
    "gbc_pred =gs.predict(X_test_df)\n",
    "print(f'The MAPE score for the gradient booster is: {mean_absolute_percentage_error(y_test, rf_pred)}')"
   ]
  },
  {
   "cell_type": "code",
   "execution_count": 121,
   "metadata": {},
   "outputs": [],
   "source": [
    "last_score = 'rf__max_depth: None, rf__max_features: sqrt, rf__n_estimators: 500 with MAPE 7.33'"
   ]
  },
  {
   "cell_type": "code",
   "execution_count": null,
   "metadata": {},
   "outputs": [],
   "source": [
    "rf_pred = gs.predict(X_test_df)"
   ]
  },
  {
   "cell_type": "code",
   "execution_count": null,
   "metadata": {},
   "outputs": [],
   "source": [
    "mean_absolute_percentage_error(y_test, rf_pred)"
   ]
  },
  {
   "cell_type": "markdown",
   "metadata": {},
   "source": [
    "## GridSearch Pipeline LASSO"
   ]
  },
  {
   "cell_type": "code",
   "execution_count": null,
   "metadata": {},
   "outputs": [],
   "source": [
    "pipe = Pipeline([\n",
    "    ('l', Lasso())\n",
    "])\n",
    "pipe_params = {\n",
    "    'l__alpha': [0.2, 0.5, 1],\n",
    "    'l__max_iter': [200, 500, 1200],\n",
    "    #'rf__max_features': ['auto', None]\n",
    "    #can add C parameter for logisitic regression\n",
    "}\n",
    "\n",
    "\n",
    "gs2 = GridSearchCV(pipe, param_grid=pipe_params, cv=3)\n",
    "\n",
    "\n",
    "gs2.fit(X_train_df, y_train)\n",
    "\n",
    "\n",
    "print(gs2.best_score_)\n",
    "gs2.best_params_"
   ]
  },
  {
   "cell_type": "code",
   "execution_count": null,
   "metadata": {},
   "outputs": [],
   "source": [
    "gs2.score(X_train_df, y_train)"
   ]
  },
  {
   "cell_type": "code",
   "execution_count": null,
   "metadata": {},
   "outputs": [],
   "source": [
    "gs2.score(X_test_df, y_test)"
   ]
  },
  {
   "cell_type": "code",
   "execution_count": null,
   "metadata": {},
   "outputs": [],
   "source": [
    "lasso_pred = gs2.predict(X_test_df)"
   ]
  },
  {
   "cell_type": "code",
   "execution_count": null,
   "metadata": {},
   "outputs": [],
   "source": [
    "\n",
    "mean_absolute_percentage_error(y_test, lasso_pred)"
   ]
  },
  {
   "cell_type": "markdown",
   "metadata": {},
   "source": [
    "## GridSearch Pipeline Ridge "
   ]
  },
  {
   "cell_type": "code",
   "execution_count": null,
   "metadata": {},
   "outputs": [],
   "source": [
    "pipe = Pipeline([\n",
    "    ('r', Ridge())\n",
    "])\n",
    "pipe_params = {\n",
    "    'r__alpha': [0.2, 0.5, 1],\n",
    "    'r__max_iter': [200, 500, 1200],\n",
    "    #'rf__max_features': ['auto', None]\n",
    "    #can add C parameter for logisitic regression\n",
    "}\n",
    "\n",
    "\n",
    "gs3 = GridSearchCV(pipe, param_grid=pipe_params, cv=3)\n",
    "\n",
    "\n",
    "gs3.fit(X_train_df, y_train)\n",
    "\n",
    "\n",
    "print(gs3.best_score_)\n",
    "gs3.best_params_"
   ]
  },
  {
   "cell_type": "code",
   "execution_count": null,
   "metadata": {},
   "outputs": [],
   "source": []
  },
  {
   "cell_type": "code",
   "execution_count": null,
   "metadata": {},
   "outputs": [],
   "source": [
    "gs3.score(X_train_df, y_train)"
   ]
  },
  {
   "cell_type": "code",
   "execution_count": null,
   "metadata": {},
   "outputs": [],
   "source": [
    "gs3.score(X_test_df, y_test)"
   ]
  },
  {
   "cell_type": "code",
   "execution_count": null,
   "metadata": {},
   "outputs": [],
   "source": [
    "ridge_pred = gs3.predict(X_test_df)\n",
    "mean_absolute_percentage_error(y_test, ridge_pred)"
   ]
  },
  {
   "cell_type": "markdown",
   "metadata": {},
   "source": [
    "## GridSearch ElasticNet\n"
   ]
  },
  {
   "cell_type": "code",
   "execution_count": null,
   "metadata": {},
   "outputs": [],
   "source": [
    "pipe = Pipeline([\n",
    "    ('e', ElasticNet())\n",
    "])\n",
    "pipe_params = {\n",
    "    #'gb__learning_rate': [0.1],\n",
    "    'e__l1_ratio': [0.9, 0.95, 1],\n",
    "    #'gb__n_estimators': [100, 200, 500]\n",
    "    #can add C parameter for logisitic regression\n",
    "}\n",
    "\n",
    "\n",
    "gs4 = GridSearchCV(pipe, param_grid=pipe_params, cv=3, n_jobs = 3)\n",
    "\n",
    "\n",
    "gs4.fit(X_train_df, y_train)\n",
    "\n",
    "\n",
    "print(gs4.best_score_)\n",
    "gs4.best_params_"
   ]
  },
  {
   "cell_type": "code",
   "execution_count": null,
   "metadata": {},
   "outputs": [],
   "source": [
    "print(f'The train score for the ElasticNet is: {gs4.score(X_train_df, y_train)}')\n",
    "print(f'The test score for the ElasticNet is: {gs4.score(X_test_df, y_test)}')\n",
    "gbc_pred =gs4.predict(X_test_df)\n",
    "print(f'The MAPE score for the ElasticNet is: {mean_absolute_percentage_error(y_test, e_pred)}')"
   ]
  },
  {
   "cell_type": "code",
   "execution_count": null,
   "metadata": {},
   "outputs": [],
   "source": []
  },
  {
   "cell_type": "code",
   "execution_count": null,
   "metadata": {},
   "outputs": [],
   "source": []
  },
  {
   "cell_type": "markdown",
   "metadata": {},
   "source": [
    "## GridSearch Gradient Booster"
   ]
  },
  {
   "cell_type": "code",
   "execution_count": 136,
   "metadata": {},
   "outputs": [
    {
     "name": "stdout",
     "output_type": "stream",
     "text": [
      "Fitting 3 folds for each of 36 candidates, totalling 108 fits\n"
     ]
    },
    {
     "name": "stderr",
     "output_type": "stream",
     "text": [
      "[Parallel(n_jobs=-1)]: Using backend LokyBackend with 8 concurrent workers.\n",
      "[Parallel(n_jobs=-1)]: Done  34 tasks      | elapsed: 16.0min\n"
     ]
    },
    {
     "ename": "KeyboardInterrupt",
     "evalue": "",
     "output_type": "error",
     "traceback": [
      "\u001b[0;31m---------------------------------------------------------------------------\u001b[0m",
      "\u001b[0;31mKeyboardInterrupt\u001b[0m                         Traceback (most recent call last)",
      "\u001b[0;32m<ipython-input-136-aacf9a634856>\u001b[0m in \u001b[0;36m<module>\u001b[0;34m\u001b[0m\n\u001b[1;32m     10\u001b[0m \u001b[0;34m\u001b[0m\u001b[0m\n\u001b[1;32m     11\u001b[0m \u001b[0mgs5\u001b[0m \u001b[0;34m=\u001b[0m \u001b[0mGridSearchCV\u001b[0m\u001b[0;34m(\u001b[0m\u001b[0mpipe\u001b[0m\u001b[0;34m,\u001b[0m \u001b[0mparam_grid\u001b[0m \u001b[0;34m=\u001b[0m \u001b[0mpipe_params\u001b[0m\u001b[0;34m,\u001b[0m \u001b[0mcv\u001b[0m\u001b[0;34m=\u001b[0m\u001b[0;36m3\u001b[0m\u001b[0;34m,\u001b[0m \u001b[0mn_jobs\u001b[0m\u001b[0;34m=\u001b[0m\u001b[0;34m-\u001b[0m\u001b[0;36m1\u001b[0m\u001b[0;34m,\u001b[0m \u001b[0mverbose\u001b[0m \u001b[0;34m=\u001b[0m \u001b[0;36m1\u001b[0m\u001b[0;34m)\u001b[0m\u001b[0;34m\u001b[0m\u001b[0;34m\u001b[0m\u001b[0m\n\u001b[0;32m---> 12\u001b[0;31m \u001b[0mgs5\u001b[0m\u001b[0;34m.\u001b[0m\u001b[0mfit\u001b[0m\u001b[0;34m(\u001b[0m\u001b[0mX_train_df\u001b[0m\u001b[0;34m,\u001b[0m\u001b[0my_train\u001b[0m\u001b[0;34m)\u001b[0m\u001b[0;34m\u001b[0m\u001b[0;34m\u001b[0m\u001b[0m\n\u001b[0m\u001b[1;32m     13\u001b[0m \u001b[0mprint\u001b[0m\u001b[0;34m(\u001b[0m\u001b[0;34mf'The best score for the gradient booster is {gs5.best_score_}'\u001b[0m\u001b[0;34m)\u001b[0m\u001b[0;34m\u001b[0m\u001b[0;34m\u001b[0m\u001b[0m\n",
      "\u001b[0;32m~/anaconda3/lib/python3.7/site-packages/sklearn/model_selection/_search.py\u001b[0m in \u001b[0;36mfit\u001b[0;34m(self, X, y, groups, **fit_params)\u001b[0m\n\u001b[1;32m    720\u001b[0m                 \u001b[0;32mreturn\u001b[0m \u001b[0mresults_container\u001b[0m\u001b[0;34m[\u001b[0m\u001b[0;36m0\u001b[0m\u001b[0;34m]\u001b[0m\u001b[0;34m\u001b[0m\u001b[0;34m\u001b[0m\u001b[0m\n\u001b[1;32m    721\u001b[0m \u001b[0;34m\u001b[0m\u001b[0m\n\u001b[0;32m--> 722\u001b[0;31m             \u001b[0mself\u001b[0m\u001b[0;34m.\u001b[0m\u001b[0m_run_search\u001b[0m\u001b[0;34m(\u001b[0m\u001b[0mevaluate_candidates\u001b[0m\u001b[0;34m)\u001b[0m\u001b[0;34m\u001b[0m\u001b[0;34m\u001b[0m\u001b[0m\n\u001b[0m\u001b[1;32m    723\u001b[0m \u001b[0;34m\u001b[0m\u001b[0m\n\u001b[1;32m    724\u001b[0m         \u001b[0mresults\u001b[0m \u001b[0;34m=\u001b[0m \u001b[0mresults_container\u001b[0m\u001b[0;34m[\u001b[0m\u001b[0;36m0\u001b[0m\u001b[0;34m]\u001b[0m\u001b[0;34m\u001b[0m\u001b[0;34m\u001b[0m\u001b[0m\n",
      "\u001b[0;32m~/anaconda3/lib/python3.7/site-packages/sklearn/model_selection/_search.py\u001b[0m in \u001b[0;36m_run_search\u001b[0;34m(self, evaluate_candidates)\u001b[0m\n\u001b[1;32m   1189\u001b[0m     \u001b[0;32mdef\u001b[0m \u001b[0m_run_search\u001b[0m\u001b[0;34m(\u001b[0m\u001b[0mself\u001b[0m\u001b[0;34m,\u001b[0m \u001b[0mevaluate_candidates\u001b[0m\u001b[0;34m)\u001b[0m\u001b[0;34m:\u001b[0m\u001b[0;34m\u001b[0m\u001b[0;34m\u001b[0m\u001b[0m\n\u001b[1;32m   1190\u001b[0m         \u001b[0;34m\"\"\"Search all candidates in param_grid\"\"\"\u001b[0m\u001b[0;34m\u001b[0m\u001b[0;34m\u001b[0m\u001b[0m\n\u001b[0;32m-> 1191\u001b[0;31m         \u001b[0mevaluate_candidates\u001b[0m\u001b[0;34m(\u001b[0m\u001b[0mParameterGrid\u001b[0m\u001b[0;34m(\u001b[0m\u001b[0mself\u001b[0m\u001b[0;34m.\u001b[0m\u001b[0mparam_grid\u001b[0m\u001b[0;34m)\u001b[0m\u001b[0;34m)\u001b[0m\u001b[0;34m\u001b[0m\u001b[0;34m\u001b[0m\u001b[0m\n\u001b[0m\u001b[1;32m   1192\u001b[0m \u001b[0;34m\u001b[0m\u001b[0m\n\u001b[1;32m   1193\u001b[0m \u001b[0;34m\u001b[0m\u001b[0m\n",
      "\u001b[0;32m~/anaconda3/lib/python3.7/site-packages/sklearn/model_selection/_search.py\u001b[0m in \u001b[0;36mevaluate_candidates\u001b[0;34m(candidate_params)\u001b[0m\n\u001b[1;32m    709\u001b[0m                                \u001b[0;32mfor\u001b[0m \u001b[0mparameters\u001b[0m\u001b[0;34m,\u001b[0m \u001b[0;34m(\u001b[0m\u001b[0mtrain\u001b[0m\u001b[0;34m,\u001b[0m \u001b[0mtest\u001b[0m\u001b[0;34m)\u001b[0m\u001b[0;34m\u001b[0m\u001b[0;34m\u001b[0m\u001b[0m\n\u001b[1;32m    710\u001b[0m                                in product(candidate_params,\n\u001b[0;32m--> 711\u001b[0;31m                                           cv.split(X, y, groups)))\n\u001b[0m\u001b[1;32m    712\u001b[0m \u001b[0;34m\u001b[0m\u001b[0m\n\u001b[1;32m    713\u001b[0m                 \u001b[0mall_candidate_params\u001b[0m\u001b[0;34m.\u001b[0m\u001b[0mextend\u001b[0m\u001b[0;34m(\u001b[0m\u001b[0mcandidate_params\u001b[0m\u001b[0;34m)\u001b[0m\u001b[0;34m\u001b[0m\u001b[0;34m\u001b[0m\u001b[0m\n",
      "\u001b[0;32m~/anaconda3/lib/python3.7/site-packages/sklearn/externals/joblib/parallel.py\u001b[0m in \u001b[0;36m__call__\u001b[0;34m(self, iterable)\u001b[0m\n\u001b[1;32m    928\u001b[0m \u001b[0;34m\u001b[0m\u001b[0m\n\u001b[1;32m    929\u001b[0m             \u001b[0;32mwith\u001b[0m \u001b[0mself\u001b[0m\u001b[0;34m.\u001b[0m\u001b[0m_backend\u001b[0m\u001b[0;34m.\u001b[0m\u001b[0mretrieval_context\u001b[0m\u001b[0;34m(\u001b[0m\u001b[0;34m)\u001b[0m\u001b[0;34m:\u001b[0m\u001b[0;34m\u001b[0m\u001b[0;34m\u001b[0m\u001b[0m\n\u001b[0;32m--> 930\u001b[0;31m                 \u001b[0mself\u001b[0m\u001b[0;34m.\u001b[0m\u001b[0mretrieve\u001b[0m\u001b[0;34m(\u001b[0m\u001b[0;34m)\u001b[0m\u001b[0;34m\u001b[0m\u001b[0;34m\u001b[0m\u001b[0m\n\u001b[0m\u001b[1;32m    931\u001b[0m             \u001b[0;31m# Make sure that we get a last message telling us we are done\u001b[0m\u001b[0;34m\u001b[0m\u001b[0;34m\u001b[0m\u001b[0;34m\u001b[0m\u001b[0m\n\u001b[1;32m    932\u001b[0m             \u001b[0melapsed_time\u001b[0m \u001b[0;34m=\u001b[0m \u001b[0mtime\u001b[0m\u001b[0;34m.\u001b[0m\u001b[0mtime\u001b[0m\u001b[0;34m(\u001b[0m\u001b[0;34m)\u001b[0m \u001b[0;34m-\u001b[0m \u001b[0mself\u001b[0m\u001b[0;34m.\u001b[0m\u001b[0m_start_time\u001b[0m\u001b[0;34m\u001b[0m\u001b[0;34m\u001b[0m\u001b[0m\n",
      "\u001b[0;32m~/anaconda3/lib/python3.7/site-packages/sklearn/externals/joblib/parallel.py\u001b[0m in \u001b[0;36mretrieve\u001b[0;34m(self)\u001b[0m\n\u001b[1;32m    831\u001b[0m             \u001b[0;32mtry\u001b[0m\u001b[0;34m:\u001b[0m\u001b[0;34m\u001b[0m\u001b[0;34m\u001b[0m\u001b[0m\n\u001b[1;32m    832\u001b[0m                 \u001b[0;32mif\u001b[0m \u001b[0mgetattr\u001b[0m\u001b[0;34m(\u001b[0m\u001b[0mself\u001b[0m\u001b[0;34m.\u001b[0m\u001b[0m_backend\u001b[0m\u001b[0;34m,\u001b[0m \u001b[0;34m'supports_timeout'\u001b[0m\u001b[0;34m,\u001b[0m \u001b[0;32mFalse\u001b[0m\u001b[0;34m)\u001b[0m\u001b[0;34m:\u001b[0m\u001b[0;34m\u001b[0m\u001b[0;34m\u001b[0m\u001b[0m\n\u001b[0;32m--> 833\u001b[0;31m                     \u001b[0mself\u001b[0m\u001b[0;34m.\u001b[0m\u001b[0m_output\u001b[0m\u001b[0;34m.\u001b[0m\u001b[0mextend\u001b[0m\u001b[0;34m(\u001b[0m\u001b[0mjob\u001b[0m\u001b[0;34m.\u001b[0m\u001b[0mget\u001b[0m\u001b[0;34m(\u001b[0m\u001b[0mtimeout\u001b[0m\u001b[0;34m=\u001b[0m\u001b[0mself\u001b[0m\u001b[0;34m.\u001b[0m\u001b[0mtimeout\u001b[0m\u001b[0;34m)\u001b[0m\u001b[0;34m)\u001b[0m\u001b[0;34m\u001b[0m\u001b[0;34m\u001b[0m\u001b[0m\n\u001b[0m\u001b[1;32m    834\u001b[0m                 \u001b[0;32melse\u001b[0m\u001b[0;34m:\u001b[0m\u001b[0;34m\u001b[0m\u001b[0;34m\u001b[0m\u001b[0m\n\u001b[1;32m    835\u001b[0m                     \u001b[0mself\u001b[0m\u001b[0;34m.\u001b[0m\u001b[0m_output\u001b[0m\u001b[0;34m.\u001b[0m\u001b[0mextend\u001b[0m\u001b[0;34m(\u001b[0m\u001b[0mjob\u001b[0m\u001b[0;34m.\u001b[0m\u001b[0mget\u001b[0m\u001b[0;34m(\u001b[0m\u001b[0;34m)\u001b[0m\u001b[0;34m)\u001b[0m\u001b[0;34m\u001b[0m\u001b[0;34m\u001b[0m\u001b[0m\n",
      "\u001b[0;32m~/anaconda3/lib/python3.7/site-packages/sklearn/externals/joblib/_parallel_backends.py\u001b[0m in \u001b[0;36mwrap_future_result\u001b[0;34m(future, timeout)\u001b[0m\n\u001b[1;32m    519\u001b[0m         AsyncResults.get from multiprocessing.\"\"\"\n\u001b[1;32m    520\u001b[0m         \u001b[0;32mtry\u001b[0m\u001b[0;34m:\u001b[0m\u001b[0;34m\u001b[0m\u001b[0;34m\u001b[0m\u001b[0m\n\u001b[0;32m--> 521\u001b[0;31m             \u001b[0;32mreturn\u001b[0m \u001b[0mfuture\u001b[0m\u001b[0;34m.\u001b[0m\u001b[0mresult\u001b[0m\u001b[0;34m(\u001b[0m\u001b[0mtimeout\u001b[0m\u001b[0;34m=\u001b[0m\u001b[0mtimeout\u001b[0m\u001b[0;34m)\u001b[0m\u001b[0;34m\u001b[0m\u001b[0;34m\u001b[0m\u001b[0m\n\u001b[0m\u001b[1;32m    522\u001b[0m         \u001b[0;32mexcept\u001b[0m \u001b[0mLokyTimeoutError\u001b[0m\u001b[0;34m:\u001b[0m\u001b[0;34m\u001b[0m\u001b[0;34m\u001b[0m\u001b[0m\n\u001b[1;32m    523\u001b[0m             \u001b[0;32mraise\u001b[0m \u001b[0mTimeoutError\u001b[0m\u001b[0;34m(\u001b[0m\u001b[0;34m)\u001b[0m\u001b[0;34m\u001b[0m\u001b[0;34m\u001b[0m\u001b[0m\n",
      "\u001b[0;32m~/anaconda3/lib/python3.7/concurrent/futures/_base.py\u001b[0m in \u001b[0;36mresult\u001b[0;34m(self, timeout)\u001b[0m\n\u001b[1;32m    425\u001b[0m                 \u001b[0;32mreturn\u001b[0m \u001b[0mself\u001b[0m\u001b[0;34m.\u001b[0m\u001b[0m__get_result\u001b[0m\u001b[0;34m(\u001b[0m\u001b[0;34m)\u001b[0m\u001b[0;34m\u001b[0m\u001b[0;34m\u001b[0m\u001b[0m\n\u001b[1;32m    426\u001b[0m \u001b[0;34m\u001b[0m\u001b[0m\n\u001b[0;32m--> 427\u001b[0;31m             \u001b[0mself\u001b[0m\u001b[0;34m.\u001b[0m\u001b[0m_condition\u001b[0m\u001b[0;34m.\u001b[0m\u001b[0mwait\u001b[0m\u001b[0;34m(\u001b[0m\u001b[0mtimeout\u001b[0m\u001b[0;34m)\u001b[0m\u001b[0;34m\u001b[0m\u001b[0;34m\u001b[0m\u001b[0m\n\u001b[0m\u001b[1;32m    428\u001b[0m \u001b[0;34m\u001b[0m\u001b[0m\n\u001b[1;32m    429\u001b[0m             \u001b[0;32mif\u001b[0m \u001b[0mself\u001b[0m\u001b[0;34m.\u001b[0m\u001b[0m_state\u001b[0m \u001b[0;32min\u001b[0m \u001b[0;34m[\u001b[0m\u001b[0mCANCELLED\u001b[0m\u001b[0;34m,\u001b[0m \u001b[0mCANCELLED_AND_NOTIFIED\u001b[0m\u001b[0;34m]\u001b[0m\u001b[0;34m:\u001b[0m\u001b[0;34m\u001b[0m\u001b[0;34m\u001b[0m\u001b[0m\n",
      "\u001b[0;32m~/anaconda3/lib/python3.7/threading.py\u001b[0m in \u001b[0;36mwait\u001b[0;34m(self, timeout)\u001b[0m\n\u001b[1;32m    294\u001b[0m         \u001b[0;32mtry\u001b[0m\u001b[0;34m:\u001b[0m    \u001b[0;31m# restore state no matter what (e.g., KeyboardInterrupt)\u001b[0m\u001b[0;34m\u001b[0m\u001b[0;34m\u001b[0m\u001b[0m\n\u001b[1;32m    295\u001b[0m             \u001b[0;32mif\u001b[0m \u001b[0mtimeout\u001b[0m \u001b[0;32mis\u001b[0m \u001b[0;32mNone\u001b[0m\u001b[0;34m:\u001b[0m\u001b[0;34m\u001b[0m\u001b[0;34m\u001b[0m\u001b[0m\n\u001b[0;32m--> 296\u001b[0;31m                 \u001b[0mwaiter\u001b[0m\u001b[0;34m.\u001b[0m\u001b[0macquire\u001b[0m\u001b[0;34m(\u001b[0m\u001b[0;34m)\u001b[0m\u001b[0;34m\u001b[0m\u001b[0;34m\u001b[0m\u001b[0m\n\u001b[0m\u001b[1;32m    297\u001b[0m                 \u001b[0mgotit\u001b[0m \u001b[0;34m=\u001b[0m \u001b[0;32mTrue\u001b[0m\u001b[0;34m\u001b[0m\u001b[0;34m\u001b[0m\u001b[0m\n\u001b[1;32m    298\u001b[0m             \u001b[0;32melse\u001b[0m\u001b[0;34m:\u001b[0m\u001b[0;34m\u001b[0m\u001b[0;34m\u001b[0m\u001b[0m\n",
      "\u001b[0;31mKeyboardInterrupt\u001b[0m: "
     ]
    }
   ],
   "source": [
    "pipe = Pipeline([\n",
    "    ('gbc',GradientBoostingRegressor())\n",
    "])\n",
    "pipe_params = {\n",
    "    'gbc__n_estimators': [120,140,200],\n",
    "    'gbc__max_depth': [50,80,100,200],\n",
    "    'gbc__max_features': ['sqrt','log2',None]\n",
    "    \n",
    "}\n",
    "\n",
    "gs5 = GridSearchCV(pipe, param_grid = pipe_params, cv=3, n_jobs=-1, verbose = 1)\n",
    "gs5.fit(X_train_df,y_train)\n",
    "print(f'The best score for the gradient booster is {gs5.best_score_}')"
   ]
  },
  {
   "cell_type": "code",
   "execution_count": 135,
   "metadata": {},
   "outputs": [
    {
     "name": "stdout",
     "output_type": "stream",
     "text": [
      "The train score for the gradient booster is: 0.9981267666325299\n",
      "The test score for the gradient booster is: 0.8790808456570381\n",
      "The MAPE score for the gradient booster is: 8.906126800617233\n"
     ]
    }
   ],
   "source": [
    "print(f'The best params for the gradient booster: {gs5.best_params_}')\n",
    "print(f'The train score for the gradient booster is: {gs5.score(X_train_df, y_train)}')\n",
    "print(f'The test score for the gradient booster is: {gs5.score(X_test_df, y_test)}')\n",
    "gbc_pred =gs5.predict(X_test_df)\n",
    "print(f'The MAPE score for the gradient booster is: {mean_absolute_percentage_error(y_test, gbc_pred)}')"
   ]
  },
  {
   "cell_type": "code",
   "execution_count": 132,
   "metadata": {},
   "outputs": [],
   "source": [
    "lastbestgbs = ['MAPE 9.55, best score .844, max_features,sqrt,n_estimators 60,maxdepth 20',\n",
    "'MAPE 8.9, best score ., max_features: sqrt,n_estimators:120,maxdepth:50']"
   ]
  },
  {
   "cell_type": "markdown",
   "metadata": {},
   "source": [
    "## Conclusion\n",
    "- Random Forest had the best overall train, test, and MAPE score when GridSearching for optimal paramters. \n",
    "\n",
    "Here is a table of our results when GridSearching for optimal parameters:\n",
    "\n",
    "|Model|Train Score|Test Score|Mape Score|GridSearch Name|\n",
    "|--|--|--|--|--|\n",
    "|Lasso|.9638|.8736|8.749|gs2|\n",
    "|Ridge|.9384|.8949|8.08|gs3|\n",
    "|Random Forest|.988|.9127|**7.0428**|gs|\n",
    "|Elastic Net|.963|.873|8.749|gs4|\n",
    "|Gradient Booster |TBD |TBD |TBD|TBD|\n",
    "\n",
    "**Let's bring in our test data to predict the values engagement using gs.predict. Note how the random forest is the first gridsearch; therefore, we will use gs.**"
   ]
  },
  {
   "cell_type": "code",
   "execution_count": null,
   "metadata": {},
   "outputs": [],
   "source": [
    "#bringing in our holdout data\n",
    "holdout = pd.read_csv('./datasets/X_holdout_df.csv').drop(columns = 'Unnamed: 0')\n",
    "holdout.head()"
   ]
  },
  {
   "cell_type": "code",
   "execution_count": null,
   "metadata": {},
   "outputs": [],
   "source": [
    "holdout.shape"
   ]
  },
  {
   "cell_type": "code",
   "execution_count": null,
   "metadata": {},
   "outputs": [],
   "source": [
    "engagement_pred = gs.predict(holdout)"
   ]
  },
  {
   "cell_type": "code",
   "execution_count": null,
   "metadata": {},
   "outputs": [],
   "source": [
    "answer = pd.DataFrame({\n",
    "    'engagements': engagement_pred\n",
    "})"
   ]
  },
  {
   "cell_type": "code",
   "execution_count": null,
   "metadata": {},
   "outputs": [],
   "source": [
    "answer.head()"
   ]
  },
  {
   "cell_type": "code",
   "execution_count": null,
   "metadata": {},
   "outputs": [],
   "source": [
    "answer.shape"
   ]
  },
  {
   "cell_type": "code",
   "execution_count": null,
   "metadata": {},
   "outputs": [],
   "source": [
    "answer.join(holdout).head()"
   ]
  },
  {
   "cell_type": "code",
   "execution_count": null,
   "metadata": {},
   "outputs": [],
   "source": [
    "holdout_set_erinhwang = answer.join(holdout)\n",
    "holdout_set_erinhwang.head()"
   ]
  },
  {
   "cell_type": "code",
   "execution_count": null,
   "metadata": {},
   "outputs": [],
   "source": [
    "holdout_set_erinhwang.shape"
   ]
  },
  {
   "cell_type": "code",
   "execution_count": null,
   "metadata": {},
   "outputs": [],
   "source": [
    "holdout_set_erinhwang.isnull().sum().sum()"
   ]
  },
  {
   "cell_type": "code",
   "execution_count": null,
   "metadata": {},
   "outputs": [],
   "source": [
    "holdout_set_erinhwang.to_csv('./datasets/holdout_set_erinhwang.csv')"
   ]
  },
  {
   "cell_type": "code",
   "execution_count": null,
   "metadata": {},
   "outputs": [],
   "source": []
  },
  {
   "cell_type": "code",
   "execution_count": null,
   "metadata": {},
   "outputs": [],
   "source": []
  }
 ],
 "metadata": {
  "kernelspec": {
   "display_name": "Python 3",
   "language": "python",
   "name": "python3"
  },
  "language_info": {
   "codemirror_mode": {
    "name": "ipython",
    "version": 3
   },
   "file_extension": ".py",
   "mimetype": "text/x-python",
   "name": "python",
   "nbconvert_exporter": "python",
   "pygments_lexer": "ipython3",
   "version": "3.7.3"
  }
 },
 "nbformat": 4,
 "nbformat_minor": 2
}
