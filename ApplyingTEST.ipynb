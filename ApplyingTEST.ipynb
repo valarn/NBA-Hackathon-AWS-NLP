{
 "cells": [
  {
   "cell_type": "code",
   "execution_count": 1,
   "metadata": {},
   "outputs": [],
   "source": [
    "import pandas as pd"
   ]
  },
  {
   "cell_type": "code",
   "execution_count": 2,
   "metadata": {},
   "outputs": [
    {
     "data": {
      "text/html": [
       "<div>\n",
       "<style scoped>\n",
       "    .dataframe tbody tr th:only-of-type {\n",
       "        vertical-align: middle;\n",
       "    }\n",
       "\n",
       "    .dataframe tbody tr th {\n",
       "        vertical-align: top;\n",
       "    }\n",
       "\n",
       "    .dataframe thead th {\n",
       "        text-align: right;\n",
       "    }\n",
       "</style>\n",
       "<table border=\"1\" class=\"dataframe\">\n",
       "  <thead>\n",
       "    <tr style=\"text-align: right;\">\n",
       "      <th></th>\n",
       "      <th>Engagements</th>\n",
       "      <th>Followers at Posting</th>\n",
       "      <th>Created</th>\n",
       "      <th>Type</th>\n",
       "      <th>Description</th>\n",
       "    </tr>\n",
       "  </thead>\n",
       "  <tbody>\n",
       "    <tr>\n",
       "      <th>0</th>\n",
       "      <td>502093</td>\n",
       "      <td>36984682</td>\n",
       "      <td>2019-05-21 23:30:51 EDT</td>\n",
       "      <td>Video</td>\n",
       "      <td>The @raptors bench trio of @sergeibaka @norman...</td>\n",
       "    </tr>\n",
       "    <tr>\n",
       "      <th>1</th>\n",
       "      <td>603380</td>\n",
       "      <td>36984682</td>\n",
       "      <td>2019-05-21 22:53:33 EDT</td>\n",
       "      <td>Video</td>\n",
       "      <td>@kyle_lowry7 pulls from deep for the @raptors ...</td>\n",
       "    </tr>\n",
       "    <tr>\n",
       "      <th>2</th>\n",
       "      <td>603380</td>\n",
       "      <td>36984682</td>\n",
       "      <td>2019-05-21 22:19:58 EDT</td>\n",
       "      <td>Video</td>\n",
       "      <td>@k_mid22 with some english on the @bucks dime!</td>\n",
       "    </tr>\n",
       "    <tr>\n",
       "      <th>3</th>\n",
       "      <td>725100</td>\n",
       "      <td>36984682</td>\n",
       "      <td>2019-05-21 22:02:41 EDT</td>\n",
       "      <td>Video</td>\n",
       "      <td>Kawhi punches it home with the left on TNT!</td>\n",
       "    </tr>\n",
       "    <tr>\n",
       "      <th>4</th>\n",
       "      <td>661446</td>\n",
       "      <td>36984682</td>\n",
       "      <td>2019-05-21 20:47:49 EDT</td>\n",
       "      <td>Video</td>\n",
       "      <td>@giannis_an34 goes baseline early to rock the ...</td>\n",
       "    </tr>\n",
       "  </tbody>\n",
       "</table>\n",
       "</div>"
      ],
      "text/plain": [
       "   Engagements  Followers at Posting                  Created   Type  \\\n",
       "0       502093              36984682  2019-05-21 23:30:51 EDT  Video   \n",
       "1       603380              36984682  2019-05-21 22:53:33 EDT  Video   \n",
       "2       603380              36984682  2019-05-21 22:19:58 EDT  Video   \n",
       "3       725100              36984682  2019-05-21 22:02:41 EDT  Video   \n",
       "4       661446              36984682  2019-05-21 20:47:49 EDT  Video   \n",
       "\n",
       "                                         Description  \n",
       "0  The @raptors bench trio of @sergeibaka @norman...  \n",
       "1  @kyle_lowry7 pulls from deep for the @raptors ...  \n",
       "2     @k_mid22 with some english on the @bucks dime!  \n",
       "3        Kawhi punches it home with the left on TNT!  \n",
       "4  @giannis_an34 goes baseline early to rock the ...  "
      ]
     },
     "execution_count": 2,
     "metadata": {},
     "output_type": "execute_result"
    }
   ],
   "source": [
    "df = pd.read_csv('./datasets/training.csv')\n",
    "df.head()"
   ]
  },
  {
   "cell_type": "code",
   "execution_count": 3,
   "metadata": {},
   "outputs": [
    {
     "data": {
      "text/html": [
       "<div>\n",
       "<style scoped>\n",
       "    .dataframe tbody tr th:only-of-type {\n",
       "        vertical-align: middle;\n",
       "    }\n",
       "\n",
       "    .dataframe tbody tr th {\n",
       "        vertical-align: top;\n",
       "    }\n",
       "\n",
       "    .dataframe thead th {\n",
       "        text-align: right;\n",
       "    }\n",
       "</style>\n",
       "<table border=\"1\" class=\"dataframe\">\n",
       "  <thead>\n",
       "    <tr style=\"text-align: right;\">\n",
       "      <th></th>\n",
       "      <th>Engagements</th>\n",
       "      <th>Followers at Posting</th>\n",
       "      <th>Created</th>\n",
       "      <th>Type</th>\n",
       "      <th>Description</th>\n",
       "    </tr>\n",
       "  </thead>\n",
       "  <tbody>\n",
       "    <tr>\n",
       "      <th>0</th>\n",
       "      <td>NaN</td>\n",
       "      <td>36984682</td>\n",
       "      <td>2019-05-22 00:31:55 EDT</td>\n",
       "      <td>Photo</td>\n",
       "      <td>The @raptors even up the Eastern Conference Fi...</td>\n",
       "    </tr>\n",
       "    <tr>\n",
       "      <th>1</th>\n",
       "      <td>NaN</td>\n",
       "      <td>36984682</td>\n",
       "      <td>2019-05-21 23:20:41 EDT</td>\n",
       "      <td>Photo</td>\n",
       "      <td>The @raptors even the Eastern Conference Final...</td>\n",
       "    </tr>\n",
       "    <tr>\n",
       "      <th>2</th>\n",
       "      <td>NaN</td>\n",
       "      <td>36984682</td>\n",
       "      <td>2019-05-21 21:18:51 EDT</td>\n",
       "      <td>Video</td>\n",
       "      <td>@sergeibaka keeps it alive for the @raptors! (...</td>\n",
       "    </tr>\n",
       "    <tr>\n",
       "      <th>3</th>\n",
       "      <td>NaN</td>\n",
       "      <td>36955156</td>\n",
       "      <td>2019-05-21 18:20:09 EDT</td>\n",
       "      <td>Video</td>\n",
       "      <td>???? The SUPERHUMAN HANDS of Giannis &amp; Kawhi ?...</td>\n",
       "    </tr>\n",
       "    <tr>\n",
       "      <th>4</th>\n",
       "      <td>NaN</td>\n",
       "      <td>36955156</td>\n",
       "      <td>2019-05-21 15:04:31 EDT</td>\n",
       "      <td>Video</td>\n",
       "      <td>?? the @raptors &amp; @bucks in transition! #NBABr...</td>\n",
       "    </tr>\n",
       "  </tbody>\n",
       "</table>\n",
       "</div>"
      ],
      "text/plain": [
       "   Engagements  Followers at Posting                  Created   Type  \\\n",
       "0          NaN              36984682  2019-05-22 00:31:55 EDT  Photo   \n",
       "1          NaN              36984682  2019-05-21 23:20:41 EDT  Photo   \n",
       "2          NaN              36984682  2019-05-21 21:18:51 EDT  Video   \n",
       "3          NaN              36955156  2019-05-21 18:20:09 EDT  Video   \n",
       "4          NaN              36955156  2019-05-21 15:04:31 EDT  Video   \n",
       "\n",
       "                                         Description  \n",
       "0  The @raptors even up the Eastern Conference Fi...  \n",
       "1  The @raptors even the Eastern Conference Final...  \n",
       "2  @sergeibaka keeps it alive for the @raptors! (...  \n",
       "3  ???? The SUPERHUMAN HANDS of Giannis & Kawhi ?...  \n",
       "4  ?? the @raptors & @bucks in transition! #NBABr...  "
      ]
     },
     "execution_count": 3,
     "metadata": {},
     "output_type": "execute_result"
    }
   ],
   "source": [
    "holdout = pd.read_csv('./datasets/holdout.csv')\n",
    "holdout.head()"
   ]
  },
  {
   "cell_type": "code",
   "execution_count": 4,
   "metadata": {},
   "outputs": [
    {
     "data": {
      "text/plain": [
       "Engagements              0\n",
       "Followers at Posting     0\n",
       "Created                  0\n",
       "Type                     0\n",
       "Description             14\n",
       "dtype: int64"
      ]
     },
     "execution_count": 4,
     "metadata": {},
     "output_type": "execute_result"
    }
   ],
   "source": [
    "df.isnull().sum()"
   ]
  },
  {
   "cell_type": "code",
   "execution_count": 5,
   "metadata": {},
   "outputs": [
    {
     "data": {
      "text/plain": [
       "Engagements             1000\n",
       "Followers at Posting       0\n",
       "Created                    0\n",
       "Type                       0\n",
       "Description                0\n",
       "dtype: int64"
      ]
     },
     "execution_count": 5,
     "metadata": {},
     "output_type": "execute_result"
    }
   ],
   "source": [
    "holdout.isnull().sum()"
   ]
  },
  {
   "cell_type": "markdown",
   "metadata": {},
   "source": [
    "## Dropping 14 Instagram Posts with No Description "
   ]
  },
  {
   "cell_type": "code",
   "execution_count": 6,
   "metadata": {},
   "outputs": [],
   "source": [
    "df.dropna(subset= ['Description'], axis = 0, inplace = True)"
   ]
  },
  {
   "cell_type": "code",
   "execution_count": 7,
   "metadata": {},
   "outputs": [
    {
     "data": {
      "text/plain": [
       "(7752, 5)"
      ]
     },
     "execution_count": 7,
     "metadata": {},
     "output_type": "execute_result"
    }
   ],
   "source": [
    "df.shape"
   ]
  },
  {
   "cell_type": "code",
   "execution_count": 8,
   "metadata": {},
   "outputs": [
    {
     "data": {
      "text/plain": [
       "0"
      ]
     },
     "execution_count": 8,
     "metadata": {},
     "output_type": "execute_result"
    }
   ],
   "source": [
    "df.isnull().sum().sum()"
   ]
  },
  {
   "cell_type": "code",
   "execution_count": 9,
   "metadata": {},
   "outputs": [
    {
     "data": {
      "text/plain": [
       "Engagements              int64\n",
       "Followers at Posting     int64\n",
       "Created                 object\n",
       "Type                    object\n",
       "Description             object\n",
       "dtype: object"
      ]
     },
     "execution_count": 9,
     "metadata": {},
     "output_type": "execute_result"
    }
   ],
   "source": [
    "df.dtypes"
   ]
  },
  {
   "cell_type": "code",
   "execution_count": 10,
   "metadata": {},
   "outputs": [
    {
     "data": {
      "text/plain": [
       "Video    5451\n",
       "Photo    1588\n",
       "Album     713\n",
       "Name: Type, dtype: int64"
      ]
     },
     "execution_count": 10,
     "metadata": {},
     "output_type": "execute_result"
    }
   ],
   "source": [
    "df['Type'].value_counts()"
   ]
  },
  {
   "cell_type": "markdown",
   "metadata": {},
   "source": [
    "## Getting Dummy Column"
   ]
  },
  {
   "cell_type": "code",
   "execution_count": 11,
   "metadata": {},
   "outputs": [],
   "source": [
    "dataframe = pd.get_dummies(df, columns = ['Type'], drop_first= True )\n",
    "dataframe_holdout = pd.get_dummies(holdout, columns = ['Type'], drop_first= True )"
   ]
  },
  {
   "cell_type": "code",
   "execution_count": 12,
   "metadata": {},
   "outputs": [
    {
     "data": {
      "text/html": [
       "<div>\n",
       "<style scoped>\n",
       "    .dataframe tbody tr th:only-of-type {\n",
       "        vertical-align: middle;\n",
       "    }\n",
       "\n",
       "    .dataframe tbody tr th {\n",
       "        vertical-align: top;\n",
       "    }\n",
       "\n",
       "    .dataframe thead th {\n",
       "        text-align: right;\n",
       "    }\n",
       "</style>\n",
       "<table border=\"1\" class=\"dataframe\">\n",
       "  <thead>\n",
       "    <tr style=\"text-align: right;\">\n",
       "      <th></th>\n",
       "      <th>Engagements</th>\n",
       "      <th>Followers at Posting</th>\n",
       "      <th>Created</th>\n",
       "      <th>Description</th>\n",
       "      <th>Type_Photo</th>\n",
       "      <th>Type_Video</th>\n",
       "    </tr>\n",
       "  </thead>\n",
       "  <tbody>\n",
       "    <tr>\n",
       "      <th>0</th>\n",
       "      <td>502093</td>\n",
       "      <td>36984682</td>\n",
       "      <td>2019-05-21 23:30:51 EDT</td>\n",
       "      <td>The @raptors bench trio of @sergeibaka @norman...</td>\n",
       "      <td>0</td>\n",
       "      <td>1</td>\n",
       "    </tr>\n",
       "    <tr>\n",
       "      <th>1</th>\n",
       "      <td>603380</td>\n",
       "      <td>36984682</td>\n",
       "      <td>2019-05-21 22:53:33 EDT</td>\n",
       "      <td>@kyle_lowry7 pulls from deep for the @raptors ...</td>\n",
       "      <td>0</td>\n",
       "      <td>1</td>\n",
       "    </tr>\n",
       "    <tr>\n",
       "      <th>2</th>\n",
       "      <td>603380</td>\n",
       "      <td>36984682</td>\n",
       "      <td>2019-05-21 22:19:58 EDT</td>\n",
       "      <td>@k_mid22 with some english on the @bucks dime!</td>\n",
       "      <td>0</td>\n",
       "      <td>1</td>\n",
       "    </tr>\n",
       "    <tr>\n",
       "      <th>3</th>\n",
       "      <td>725100</td>\n",
       "      <td>36984682</td>\n",
       "      <td>2019-05-21 22:02:41 EDT</td>\n",
       "      <td>Kawhi punches it home with the left on TNT!</td>\n",
       "      <td>0</td>\n",
       "      <td>1</td>\n",
       "    </tr>\n",
       "    <tr>\n",
       "      <th>4</th>\n",
       "      <td>661446</td>\n",
       "      <td>36984682</td>\n",
       "      <td>2019-05-21 20:47:49 EDT</td>\n",
       "      <td>@giannis_an34 goes baseline early to rock the ...</td>\n",
       "      <td>0</td>\n",
       "      <td>1</td>\n",
       "    </tr>\n",
       "  </tbody>\n",
       "</table>\n",
       "</div>"
      ],
      "text/plain": [
       "   Engagements  Followers at Posting                  Created  \\\n",
       "0       502093              36984682  2019-05-21 23:30:51 EDT   \n",
       "1       603380              36984682  2019-05-21 22:53:33 EDT   \n",
       "2       603380              36984682  2019-05-21 22:19:58 EDT   \n",
       "3       725100              36984682  2019-05-21 22:02:41 EDT   \n",
       "4       661446              36984682  2019-05-21 20:47:49 EDT   \n",
       "\n",
       "                                         Description  Type_Photo  Type_Video  \n",
       "0  The @raptors bench trio of @sergeibaka @norman...           0           1  \n",
       "1  @kyle_lowry7 pulls from deep for the @raptors ...           0           1  \n",
       "2     @k_mid22 with some english on the @bucks dime!           0           1  \n",
       "3        Kawhi punches it home with the left on TNT!           0           1  \n",
       "4  @giannis_an34 goes baseline early to rock the ...           0           1  "
      ]
     },
     "execution_count": 12,
     "metadata": {},
     "output_type": "execute_result"
    }
   ],
   "source": [
    "dataframe.head()"
   ]
  },
  {
   "cell_type": "code",
   "execution_count": 13,
   "metadata": {},
   "outputs": [
    {
     "data": {
      "text/html": [
       "<div>\n",
       "<style scoped>\n",
       "    .dataframe tbody tr th:only-of-type {\n",
       "        vertical-align: middle;\n",
       "    }\n",
       "\n",
       "    .dataframe tbody tr th {\n",
       "        vertical-align: top;\n",
       "    }\n",
       "\n",
       "    .dataframe thead th {\n",
       "        text-align: right;\n",
       "    }\n",
       "</style>\n",
       "<table border=\"1\" class=\"dataframe\">\n",
       "  <thead>\n",
       "    <tr style=\"text-align: right;\">\n",
       "      <th></th>\n",
       "      <th>Engagements</th>\n",
       "      <th>Followers at Posting</th>\n",
       "      <th>Created</th>\n",
       "      <th>Description</th>\n",
       "      <th>Type_Photo</th>\n",
       "      <th>Type_Video</th>\n",
       "    </tr>\n",
       "  </thead>\n",
       "  <tbody>\n",
       "    <tr>\n",
       "      <th>0</th>\n",
       "      <td>NaN</td>\n",
       "      <td>36984682</td>\n",
       "      <td>2019-05-22 00:31:55 EDT</td>\n",
       "      <td>The @raptors even up the Eastern Conference Fi...</td>\n",
       "      <td>1</td>\n",
       "      <td>0</td>\n",
       "    </tr>\n",
       "    <tr>\n",
       "      <th>1</th>\n",
       "      <td>NaN</td>\n",
       "      <td>36984682</td>\n",
       "      <td>2019-05-21 23:20:41 EDT</td>\n",
       "      <td>The @raptors even the Eastern Conference Final...</td>\n",
       "      <td>1</td>\n",
       "      <td>0</td>\n",
       "    </tr>\n",
       "    <tr>\n",
       "      <th>2</th>\n",
       "      <td>NaN</td>\n",
       "      <td>36984682</td>\n",
       "      <td>2019-05-21 21:18:51 EDT</td>\n",
       "      <td>@sergeibaka keeps it alive for the @raptors! (...</td>\n",
       "      <td>0</td>\n",
       "      <td>1</td>\n",
       "    </tr>\n",
       "    <tr>\n",
       "      <th>3</th>\n",
       "      <td>NaN</td>\n",
       "      <td>36955156</td>\n",
       "      <td>2019-05-21 18:20:09 EDT</td>\n",
       "      <td>???? The SUPERHUMAN HANDS of Giannis &amp; Kawhi ?...</td>\n",
       "      <td>0</td>\n",
       "      <td>1</td>\n",
       "    </tr>\n",
       "    <tr>\n",
       "      <th>4</th>\n",
       "      <td>NaN</td>\n",
       "      <td>36955156</td>\n",
       "      <td>2019-05-21 15:04:31 EDT</td>\n",
       "      <td>?? the @raptors &amp; @bucks in transition! #NBABr...</td>\n",
       "      <td>0</td>\n",
       "      <td>1</td>\n",
       "    </tr>\n",
       "  </tbody>\n",
       "</table>\n",
       "</div>"
      ],
      "text/plain": [
       "   Engagements  Followers at Posting                  Created  \\\n",
       "0          NaN              36984682  2019-05-22 00:31:55 EDT   \n",
       "1          NaN              36984682  2019-05-21 23:20:41 EDT   \n",
       "2          NaN              36984682  2019-05-21 21:18:51 EDT   \n",
       "3          NaN              36955156  2019-05-21 18:20:09 EDT   \n",
       "4          NaN              36955156  2019-05-21 15:04:31 EDT   \n",
       "\n",
       "                                         Description  Type_Photo  Type_Video  \n",
       "0  The @raptors even up the Eastern Conference Fi...           1           0  \n",
       "1  The @raptors even the Eastern Conference Final...           1           0  \n",
       "2  @sergeibaka keeps it alive for the @raptors! (...           0           1  \n",
       "3  ???? The SUPERHUMAN HANDS of Giannis & Kawhi ?...           0           1  \n",
       "4  ?? the @raptors & @bucks in transition! #NBABr...           0           1  "
      ]
     },
     "execution_count": 13,
     "metadata": {},
     "output_type": "execute_result"
    }
   ],
   "source": [
    "dataframe_holdout.head()"
   ]
  },
  {
   "cell_type": "code",
   "execution_count": 14,
   "metadata": {},
   "outputs": [],
   "source": [
    "import seaborn as sns"
   ]
  },
  {
   "cell_type": "code",
   "execution_count": 15,
   "metadata": {},
   "outputs": [],
   "source": [
    "from sklearn.model_selection import train_test_split"
   ]
  },
  {
   "cell_type": "code",
   "execution_count": 16,
   "metadata": {},
   "outputs": [],
   "source": [
    "features = ['Followers at Posting', 'Description', 'Type_Photo', 'Type_Video']\n",
    "X = dataframe[features]\n",
    "y = dataframe['Engagements']"
   ]
  },
  {
   "cell_type": "code",
   "execution_count": 17,
   "metadata": {},
   "outputs": [],
   "source": [
    "X_train, X_test, y_train, y_test = train_test_split(X, y, test_size=0.33, random_state=42)"
   ]
  },
  {
   "cell_type": "code",
   "execution_count": 18,
   "metadata": {},
   "outputs": [],
   "source": [
    "X_train_nlp = X_train[['Description']]\n",
    "X_holdout_nlp = dataframe_holdout[['Description']]"
   ]
  },
  {
   "cell_type": "markdown",
   "metadata": {},
   "source": [
    "## Cleaning Up Train Data"
   ]
  },
  {
   "cell_type": "code",
   "execution_count": 19,
   "metadata": {},
   "outputs": [
    {
     "data": {
      "text/html": [
       "<div>\n",
       "<style scoped>\n",
       "    .dataframe tbody tr th:only-of-type {\n",
       "        vertical-align: middle;\n",
       "    }\n",
       "\n",
       "    .dataframe tbody tr th {\n",
       "        vertical-align: top;\n",
       "    }\n",
       "\n",
       "    .dataframe thead th {\n",
       "        text-align: right;\n",
       "    }\n",
       "</style>\n",
       "<table border=\"1\" class=\"dataframe\">\n",
       "  <thead>\n",
       "    <tr style=\"text-align: right;\">\n",
       "      <th></th>\n",
       "      <th>Description</th>\n",
       "    </tr>\n",
       "  </thead>\n",
       "  <tbody>\n",
       "    <tr>\n",
       "      <th>6709</th>\n",
       "      <td>A new career-high &amp; @pelicansnba franchise-hig...</td>\n",
       "    </tr>\n",
       "    <tr>\n",
       "      <th>1615</th>\n",
       "      <td>Swipe through to recap Wednesday’s seven games!</td>\n",
       "    </tr>\n",
       "    <tr>\n",
       "      <th>980</th>\n",
       "      <td>@dloading breaks out an array of moves!</td>\n",
       "    </tr>\n",
       "    <tr>\n",
       "      <th>3759</th>\n",
       "      <td>No. 2??...@giannis_an34 ELECTRIFIES The Garden...</td>\n",
       "    </tr>\n",
       "    <tr>\n",
       "      <th>6991</th>\n",
       "      <td>@dwighthoward takes it coast to coast for the ...</td>\n",
       "    </tr>\n",
       "  </tbody>\n",
       "</table>\n",
       "</div>"
      ],
      "text/plain": [
       "                                            Description\n",
       "6709  A new career-high & @pelicansnba franchise-hig...\n",
       "1615    Swipe through to recap Wednesday’s seven games!\n",
       "980             @dloading breaks out an array of moves!\n",
       "3759  No. 2??...@giannis_an34 ELECTRIFIES The Garden...\n",
       "6991  @dwighthoward takes it coast to coast for the ..."
      ]
     },
     "execution_count": 19,
     "metadata": {},
     "output_type": "execute_result"
    }
   ],
   "source": [
    "X_train_nlp.head()"
   ]
  },
  {
   "cell_type": "code",
   "execution_count": 20,
   "metadata": {},
   "outputs": [
    {
     "data": {
      "text/html": [
       "<div>\n",
       "<style scoped>\n",
       "    .dataframe tbody tr th:only-of-type {\n",
       "        vertical-align: middle;\n",
       "    }\n",
       "\n",
       "    .dataframe tbody tr th {\n",
       "        vertical-align: top;\n",
       "    }\n",
       "\n",
       "    .dataframe thead th {\n",
       "        text-align: right;\n",
       "    }\n",
       "</style>\n",
       "<table border=\"1\" class=\"dataframe\">\n",
       "  <thead>\n",
       "    <tr style=\"text-align: right;\">\n",
       "      <th></th>\n",
       "      <th>Description</th>\n",
       "    </tr>\n",
       "  </thead>\n",
       "  <tbody>\n",
       "    <tr>\n",
       "      <th>0</th>\n",
       "      <td>The @raptors even up the Eastern Conference Fi...</td>\n",
       "    </tr>\n",
       "    <tr>\n",
       "      <th>1</th>\n",
       "      <td>The @raptors even the Eastern Conference Final...</td>\n",
       "    </tr>\n",
       "    <tr>\n",
       "      <th>2</th>\n",
       "      <td>@sergeibaka keeps it alive for the @raptors! (...</td>\n",
       "    </tr>\n",
       "    <tr>\n",
       "      <th>3</th>\n",
       "      <td>???? The SUPERHUMAN HANDS of Giannis &amp; Kawhi ?...</td>\n",
       "    </tr>\n",
       "    <tr>\n",
       "      <th>4</th>\n",
       "      <td>?? the @raptors &amp; @bucks in transition! #NBABr...</td>\n",
       "    </tr>\n",
       "  </tbody>\n",
       "</table>\n",
       "</div>"
      ],
      "text/plain": [
       "                                         Description\n",
       "0  The @raptors even up the Eastern Conference Fi...\n",
       "1  The @raptors even the Eastern Conference Final...\n",
       "2  @sergeibaka keeps it alive for the @raptors! (...\n",
       "3  ???? The SUPERHUMAN HANDS of Giannis & Kawhi ?...\n",
       "4  ?? the @raptors & @bucks in transition! #NBABr..."
      ]
     },
     "execution_count": 20,
     "metadata": {},
     "output_type": "execute_result"
    }
   ],
   "source": [
    "X_holdout_nlp.head()"
   ]
  },
  {
   "cell_type": "code",
   "execution_count": 21,
   "metadata": {},
   "outputs": [],
   "source": [
    "import string "
   ]
  },
  {
   "cell_type": "markdown",
   "metadata": {},
   "source": [
    "## Removing Punctuations and Numbers"
   ]
  },
  {
   "cell_type": "code",
   "execution_count": 22,
   "metadata": {},
   "outputs": [
    {
     "data": {
      "text/plain": [
       "'!\"#$%&\\'()*+,-./:;<=>?@[\\\\]^_`{|}~'"
      ]
     },
     "execution_count": 22,
     "metadata": {},
     "output_type": "execute_result"
    }
   ],
   "source": [
    "string.punctuation"
   ]
  },
  {
   "cell_type": "code",
   "execution_count": 23,
   "metadata": {},
   "outputs": [],
   "source": [
    "remove = list(string.punctuation)"
   ]
  },
  {
   "cell_type": "code",
   "execution_count": 24,
   "metadata": {},
   "outputs": [],
   "source": [
    "remove.extend(['0','1','2','3','4','5','6','7','8','9'])"
   ]
  },
  {
   "cell_type": "code",
   "execution_count": 25,
   "metadata": {},
   "outputs": [],
   "source": [
    "from string import punctuation\n",
    "def strip_punctuation(s):\n",
    "    return ''.join(c for c in s if c not in remove)"
   ]
  },
  {
   "cell_type": "code",
   "execution_count": 26,
   "metadata": {},
   "outputs": [
    {
     "name": "stderr",
     "output_type": "stream",
     "text": [
      "/Users/erinhwang/anaconda3/lib/python3.7/site-packages/ipykernel_launcher.py:1: SettingWithCopyWarning: \n",
      "A value is trying to be set on a copy of a slice from a DataFrame.\n",
      "Try using .loc[row_indexer,col_indexer] = value instead\n",
      "\n",
      "See the caveats in the documentation: http://pandas.pydata.org/pandas-docs/stable/indexing.html#indexing-view-versus-copy\n",
      "  \"\"\"Entry point for launching an IPython kernel.\n",
      "/Users/erinhwang/anaconda3/lib/python3.7/site-packages/ipykernel_launcher.py:2: SettingWithCopyWarning: \n",
      "A value is trying to be set on a copy of a slice from a DataFrame.\n",
      "Try using .loc[row_indexer,col_indexer] = value instead\n",
      "\n",
      "See the caveats in the documentation: http://pandas.pydata.org/pandas-docs/stable/indexing.html#indexing-view-versus-copy\n",
      "  \n"
     ]
    }
   ],
   "source": [
    "X_train_nlp['no punctuation and numbers'] = X_train_nlp['Description'].apply(strip_punctuation)\n",
    "X_holdout_nlp['no punctuation and numbers'] = X_holdout_nlp['Description'].apply(strip_punctuation)"
   ]
  },
  {
   "cell_type": "code",
   "execution_count": 27,
   "metadata": {},
   "outputs": [
    {
     "data": {
      "text/html": [
       "<div>\n",
       "<style scoped>\n",
       "    .dataframe tbody tr th:only-of-type {\n",
       "        vertical-align: middle;\n",
       "    }\n",
       "\n",
       "    .dataframe tbody tr th {\n",
       "        vertical-align: top;\n",
       "    }\n",
       "\n",
       "    .dataframe thead th {\n",
       "        text-align: right;\n",
       "    }\n",
       "</style>\n",
       "<table border=\"1\" class=\"dataframe\">\n",
       "  <thead>\n",
       "    <tr style=\"text-align: right;\">\n",
       "      <th></th>\n",
       "      <th>Description</th>\n",
       "      <th>no punctuation and numbers</th>\n",
       "    </tr>\n",
       "  </thead>\n",
       "  <tbody>\n",
       "    <tr>\n",
       "      <th>6709</th>\n",
       "      <td>A new career-high &amp; @pelicansnba franchise-hig...</td>\n",
       "      <td>A new careerhigh  pelicansnba franchisehigh  a...</td>\n",
       "    </tr>\n",
       "    <tr>\n",
       "      <th>1615</th>\n",
       "      <td>Swipe through to recap Wednesday’s seven games!</td>\n",
       "      <td>Swipe through to recap Wednesday’s seven games</td>\n",
       "    </tr>\n",
       "    <tr>\n",
       "      <th>980</th>\n",
       "      <td>@dloading breaks out an array of moves!</td>\n",
       "      <td>dloading breaks out an array of moves</td>\n",
       "    </tr>\n",
       "    <tr>\n",
       "      <th>3759</th>\n",
       "      <td>No. 2??...@giannis_an34 ELECTRIFIES The Garden...</td>\n",
       "      <td>No giannisan ELECTRIFIES The Garden  BESTofNBA</td>\n",
       "    </tr>\n",
       "    <tr>\n",
       "      <th>6991</th>\n",
       "      <td>@dwighthoward takes it coast to coast for the ...</td>\n",
       "      <td>dwighthoward takes it coast to coast for the N...</td>\n",
       "    </tr>\n",
       "  </tbody>\n",
       "</table>\n",
       "</div>"
      ],
      "text/plain": [
       "                                            Description  \\\n",
       "6709  A new career-high & @pelicansnba franchise-hig...   \n",
       "1615    Swipe through to recap Wednesday’s seven games!   \n",
       "980             @dloading breaks out an array of moves!   \n",
       "3759  No. 2??...@giannis_an34 ELECTRIFIES The Garden...   \n",
       "6991  @dwighthoward takes it coast to coast for the ...   \n",
       "\n",
       "                             no punctuation and numbers  \n",
       "6709  A new careerhigh  pelicansnba franchisehigh  a...  \n",
       "1615     Swipe through to recap Wednesday’s seven games  \n",
       "980               dloading breaks out an array of moves  \n",
       "3759     No giannisan ELECTRIFIES The Garden  BESTofNBA  \n",
       "6991  dwighthoward takes it coast to coast for the N...  "
      ]
     },
     "execution_count": 27,
     "metadata": {},
     "output_type": "execute_result"
    }
   ],
   "source": [
    "X_train_nlp.head()"
   ]
  },
  {
   "cell_type": "code",
   "execution_count": 28,
   "metadata": {},
   "outputs": [
    {
     "data": {
      "text/html": [
       "<div>\n",
       "<style scoped>\n",
       "    .dataframe tbody tr th:only-of-type {\n",
       "        vertical-align: middle;\n",
       "    }\n",
       "\n",
       "    .dataframe tbody tr th {\n",
       "        vertical-align: top;\n",
       "    }\n",
       "\n",
       "    .dataframe thead th {\n",
       "        text-align: right;\n",
       "    }\n",
       "</style>\n",
       "<table border=\"1\" class=\"dataframe\">\n",
       "  <thead>\n",
       "    <tr style=\"text-align: right;\">\n",
       "      <th></th>\n",
       "      <th>Description</th>\n",
       "      <th>no punctuation and numbers</th>\n",
       "    </tr>\n",
       "  </thead>\n",
       "  <tbody>\n",
       "    <tr>\n",
       "      <th>0</th>\n",
       "      <td>The @raptors even up the Eastern Conference Fi...</td>\n",
       "      <td>The raptors even up the Eastern Conference Fin...</td>\n",
       "    </tr>\n",
       "    <tr>\n",
       "      <th>1</th>\n",
       "      <td>The @raptors even the Eastern Conference Final...</td>\n",
       "      <td>The raptors even the Eastern Conference Finals...</td>\n",
       "    </tr>\n",
       "    <tr>\n",
       "      <th>2</th>\n",
       "      <td>@sergeibaka keeps it alive for the @raptors! (...</td>\n",
       "      <td>sergeibaka keeps it alive for the raptors  nba...</td>\n",
       "    </tr>\n",
       "    <tr>\n",
       "      <th>3</th>\n",
       "      <td>???? The SUPERHUMAN HANDS of Giannis &amp; Kawhi ?...</td>\n",
       "      <td>The SUPERHUMAN HANDS of Giannis  Kawhi \\r\\r b...</td>\n",
       "    </tr>\n",
       "    <tr>\n",
       "      <th>4</th>\n",
       "      <td>?? the @raptors &amp; @bucks in transition! #NBABr...</td>\n",
       "      <td>the raptors  bucks in transition NBABreakdown...</td>\n",
       "    </tr>\n",
       "  </tbody>\n",
       "</table>\n",
       "</div>"
      ],
      "text/plain": [
       "                                         Description  \\\n",
       "0  The @raptors even up the Eastern Conference Fi...   \n",
       "1  The @raptors even the Eastern Conference Final...   \n",
       "2  @sergeibaka keeps it alive for the @raptors! (...   \n",
       "3  ???? The SUPERHUMAN HANDS of Giannis & Kawhi ?...   \n",
       "4  ?? the @raptors & @bucks in transition! #NBABr...   \n",
       "\n",
       "                          no punctuation and numbers  \n",
       "0  The raptors even up the Eastern Conference Fin...  \n",
       "1  The raptors even the Eastern Conference Finals...  \n",
       "2  sergeibaka keeps it alive for the raptors  nba...  \n",
       "3   The SUPERHUMAN HANDS of Giannis  Kawhi \\r\\r b...  \n",
       "4   the raptors  bucks in transition NBABreakdown...  "
      ]
     },
     "execution_count": 28,
     "metadata": {},
     "output_type": "execute_result"
    }
   ],
   "source": [
    "X_holdout_nlp.head()"
   ]
  },
  {
   "cell_type": "markdown",
   "metadata": {},
   "source": [
    "## Adding Vader"
   ]
  },
  {
   "cell_type": "code",
   "execution_count": 29,
   "metadata": {},
   "outputs": [],
   "source": [
    "from vaderSentiment.vaderSentiment import SentimentIntensityAnalyzer\n",
    "analyser = SentimentIntensityAnalyzer()"
   ]
  },
  {
   "cell_type": "code",
   "execution_count": 30,
   "metadata": {},
   "outputs": [
    {
     "name": "stderr",
     "output_type": "stream",
     "text": [
      "/Users/erinhwang/anaconda3/lib/python3.7/site-packages/ipykernel_launcher.py:1: SettingWithCopyWarning: \n",
      "A value is trying to be set on a copy of a slice from a DataFrame.\n",
      "Try using .loc[row_indexer,col_indexer] = value instead\n",
      "\n",
      "See the caveats in the documentation: http://pandas.pydata.org/pandas-docs/stable/indexing.html#indexing-view-versus-copy\n",
      "  \"\"\"Entry point for launching an IPython kernel.\n",
      "/Users/erinhwang/anaconda3/lib/python3.7/site-packages/ipykernel_launcher.py:2: SettingWithCopyWarning: \n",
      "A value is trying to be set on a copy of a slice from a DataFrame.\n",
      "Try using .loc[row_indexer,col_indexer] = value instead\n",
      "\n",
      "See the caveats in the documentation: http://pandas.pydata.org/pandas-docs/stable/indexing.html#indexing-view-versus-copy\n",
      "  \n"
     ]
    }
   ],
   "source": [
    "X_train_nlp['vader'] = [analyser.polarity_scores(text) for text in X_train_nlp['no punctuation and numbers']]\n",
    "X_holdout_nlp['vader'] = [analyser.polarity_scores(text) for text in X_holdout_nlp['no punctuation and numbers']]"
   ]
  },
  {
   "cell_type": "code",
   "execution_count": 31,
   "metadata": {},
   "outputs": [
    {
     "data": {
      "text/html": [
       "<div>\n",
       "<style scoped>\n",
       "    .dataframe tbody tr th:only-of-type {\n",
       "        vertical-align: middle;\n",
       "    }\n",
       "\n",
       "    .dataframe tbody tr th {\n",
       "        vertical-align: top;\n",
       "    }\n",
       "\n",
       "    .dataframe thead th {\n",
       "        text-align: right;\n",
       "    }\n",
       "</style>\n",
       "<table border=\"1\" class=\"dataframe\">\n",
       "  <thead>\n",
       "    <tr style=\"text-align: right;\">\n",
       "      <th></th>\n",
       "      <th>Description</th>\n",
       "      <th>no punctuation and numbers</th>\n",
       "      <th>vader</th>\n",
       "    </tr>\n",
       "  </thead>\n",
       "  <tbody>\n",
       "    <tr>\n",
       "      <th>6709</th>\n",
       "      <td>A new career-high &amp; @pelicansnba franchise-hig...</td>\n",
       "      <td>A new careerhigh  pelicansnba franchisehigh  a...</td>\n",
       "      <td>{'neg': 0.0, 'neu': 1.0, 'pos': 0.0, 'compound...</td>\n",
       "    </tr>\n",
       "    <tr>\n",
       "      <th>1615</th>\n",
       "      <td>Swipe through to recap Wednesday’s seven games!</td>\n",
       "      <td>Swipe through to recap Wednesday’s seven games</td>\n",
       "      <td>{'neg': 0.0, 'neu': 1.0, 'pos': 0.0, 'compound...</td>\n",
       "    </tr>\n",
       "    <tr>\n",
       "      <th>980</th>\n",
       "      <td>@dloading breaks out an array of moves!</td>\n",
       "      <td>dloading breaks out an array of moves</td>\n",
       "      <td>{'neg': 0.0, 'neu': 1.0, 'pos': 0.0, 'compound...</td>\n",
       "    </tr>\n",
       "    <tr>\n",
       "      <th>3759</th>\n",
       "      <td>No. 2??...@giannis_an34 ELECTRIFIES The Garden...</td>\n",
       "      <td>No giannisan ELECTRIFIES The Garden  BESTofNBA</td>\n",
       "      <td>{'neg': 0.306, 'neu': 0.694, 'pos': 0.0, 'comp...</td>\n",
       "    </tr>\n",
       "    <tr>\n",
       "      <th>6991</th>\n",
       "      <td>@dwighthoward takes it coast to coast for the ...</td>\n",
       "      <td>dwighthoward takes it coast to coast for the N...</td>\n",
       "      <td>{'neg': 0.27, 'neu': 0.73, 'pos': 0.0, 'compou...</td>\n",
       "    </tr>\n",
       "  </tbody>\n",
       "</table>\n",
       "</div>"
      ],
      "text/plain": [
       "                                            Description  \\\n",
       "6709  A new career-high & @pelicansnba franchise-hig...   \n",
       "1615    Swipe through to recap Wednesday’s seven games!   \n",
       "980             @dloading breaks out an array of moves!   \n",
       "3759  No. 2??...@giannis_an34 ELECTRIFIES The Garden...   \n",
       "6991  @dwighthoward takes it coast to coast for the ...   \n",
       "\n",
       "                             no punctuation and numbers  \\\n",
       "6709  A new careerhigh  pelicansnba franchisehigh  a...   \n",
       "1615     Swipe through to recap Wednesday’s seven games   \n",
       "980               dloading breaks out an array of moves   \n",
       "3759     No giannisan ELECTRIFIES The Garden  BESTofNBA   \n",
       "6991  dwighthoward takes it coast to coast for the N...   \n",
       "\n",
       "                                                  vader  \n",
       "6709  {'neg': 0.0, 'neu': 1.0, 'pos': 0.0, 'compound...  \n",
       "1615  {'neg': 0.0, 'neu': 1.0, 'pos': 0.0, 'compound...  \n",
       "980   {'neg': 0.0, 'neu': 1.0, 'pos': 0.0, 'compound...  \n",
       "3759  {'neg': 0.306, 'neu': 0.694, 'pos': 0.0, 'comp...  \n",
       "6991  {'neg': 0.27, 'neu': 0.73, 'pos': 0.0, 'compou...  "
      ]
     },
     "execution_count": 31,
     "metadata": {},
     "output_type": "execute_result"
    }
   ],
   "source": [
    "X_train_nlp.head()"
   ]
  },
  {
   "cell_type": "code",
   "execution_count": 32,
   "metadata": {},
   "outputs": [
    {
     "data": {
      "text/html": [
       "<div>\n",
       "<style scoped>\n",
       "    .dataframe tbody tr th:only-of-type {\n",
       "        vertical-align: middle;\n",
       "    }\n",
       "\n",
       "    .dataframe tbody tr th {\n",
       "        vertical-align: top;\n",
       "    }\n",
       "\n",
       "    .dataframe thead th {\n",
       "        text-align: right;\n",
       "    }\n",
       "</style>\n",
       "<table border=\"1\" class=\"dataframe\">\n",
       "  <thead>\n",
       "    <tr style=\"text-align: right;\">\n",
       "      <th></th>\n",
       "      <th>Description</th>\n",
       "      <th>no punctuation and numbers</th>\n",
       "      <th>vader</th>\n",
       "    </tr>\n",
       "  </thead>\n",
       "  <tbody>\n",
       "    <tr>\n",
       "      <th>0</th>\n",
       "      <td>The @raptors even up the Eastern Conference Fi...</td>\n",
       "      <td>The raptors even up the Eastern Conference Fin...</td>\n",
       "      <td>{'neg': 0.0, 'neu': 1.0, 'pos': 0.0, 'compound...</td>\n",
       "    </tr>\n",
       "    <tr>\n",
       "      <th>1</th>\n",
       "      <td>The @raptors even the Eastern Conference Final...</td>\n",
       "      <td>The raptors even the Eastern Conference Finals...</td>\n",
       "      <td>{'neg': 0.0, 'neu': 1.0, 'pos': 0.0, 'compound...</td>\n",
       "    </tr>\n",
       "    <tr>\n",
       "      <th>2</th>\n",
       "      <td>@sergeibaka keeps it alive for the @raptors! (...</td>\n",
       "      <td>sergeibaka keeps it alive for the raptors  nba...</td>\n",
       "      <td>{'neg': 0.0, 'neu': 0.729, 'pos': 0.271, 'comp...</td>\n",
       "    </tr>\n",
       "    <tr>\n",
       "      <th>3</th>\n",
       "      <td>???? The SUPERHUMAN HANDS of Giannis &amp; Kawhi ?...</td>\n",
       "      <td>The SUPERHUMAN HANDS of Giannis  Kawhi \\r\\r b...</td>\n",
       "      <td>{'neg': 0.0, 'neu': 1.0, 'pos': 0.0, 'compound...</td>\n",
       "    </tr>\n",
       "    <tr>\n",
       "      <th>4</th>\n",
       "      <td>?? the @raptors &amp; @bucks in transition! #NBABr...</td>\n",
       "      <td>the raptors  bucks in transition NBABreakdown...</td>\n",
       "      <td>{'neg': 0.0, 'neu': 1.0, 'pos': 0.0, 'compound...</td>\n",
       "    </tr>\n",
       "  </tbody>\n",
       "</table>\n",
       "</div>"
      ],
      "text/plain": [
       "                                         Description  \\\n",
       "0  The @raptors even up the Eastern Conference Fi...   \n",
       "1  The @raptors even the Eastern Conference Final...   \n",
       "2  @sergeibaka keeps it alive for the @raptors! (...   \n",
       "3  ???? The SUPERHUMAN HANDS of Giannis & Kawhi ?...   \n",
       "4  ?? the @raptors & @bucks in transition! #NBABr...   \n",
       "\n",
       "                          no punctuation and numbers  \\\n",
       "0  The raptors even up the Eastern Conference Fin...   \n",
       "1  The raptors even the Eastern Conference Finals...   \n",
       "2  sergeibaka keeps it alive for the raptors  nba...   \n",
       "3   The SUPERHUMAN HANDS of Giannis  Kawhi \\r\\r b...   \n",
       "4   the raptors  bucks in transition NBABreakdown...   \n",
       "\n",
       "                                               vader  \n",
       "0  {'neg': 0.0, 'neu': 1.0, 'pos': 0.0, 'compound...  \n",
       "1  {'neg': 0.0, 'neu': 1.0, 'pos': 0.0, 'compound...  \n",
       "2  {'neg': 0.0, 'neu': 0.729, 'pos': 0.271, 'comp...  \n",
       "3  {'neg': 0.0, 'neu': 1.0, 'pos': 0.0, 'compound...  \n",
       "4  {'neg': 0.0, 'neu': 1.0, 'pos': 0.0, 'compound...  "
      ]
     },
     "execution_count": 32,
     "metadata": {},
     "output_type": "execute_result"
    }
   ],
   "source": [
    "X_holdout_nlp.head()"
   ]
  },
  {
   "cell_type": "markdown",
   "metadata": {},
   "source": [
    "## Pull out all Vader Scores"
   ]
  },
  {
   "cell_type": "code",
   "execution_count": 33,
   "metadata": {},
   "outputs": [],
   "source": [
    "#this code creates new columns of vader scores \n",
    "X_train_nlp['neg'] = X_train_nlp['vader'].apply(lambda x: x.get('neg'))\n",
    "X_train_nlp['neu'] = X_train_nlp['vader'].apply(lambda x: x.get('neu'))\n",
    "X_train_nlp['pos'] = X_train_nlp['vader'].apply(lambda x: x.get('pos'))\n",
    "X_train_nlp['compound'] = X_train_nlp['vader'].apply(lambda x: x.get('compound'))"
   ]
  },
  {
   "cell_type": "code",
   "execution_count": 35,
   "metadata": {},
   "outputs": [
    {
     "name": "stderr",
     "output_type": "stream",
     "text": [
      "/Users/erinhwang/anaconda3/lib/python3.7/site-packages/ipykernel_launcher.py:2: SettingWithCopyWarning: \n",
      "A value is trying to be set on a copy of a slice from a DataFrame.\n",
      "Try using .loc[row_indexer,col_indexer] = value instead\n",
      "\n",
      "See the caveats in the documentation: http://pandas.pydata.org/pandas-docs/stable/indexing.html#indexing-view-versus-copy\n",
      "  \n",
      "/Users/erinhwang/anaconda3/lib/python3.7/site-packages/ipykernel_launcher.py:3: SettingWithCopyWarning: \n",
      "A value is trying to be set on a copy of a slice from a DataFrame.\n",
      "Try using .loc[row_indexer,col_indexer] = value instead\n",
      "\n",
      "See the caveats in the documentation: http://pandas.pydata.org/pandas-docs/stable/indexing.html#indexing-view-versus-copy\n",
      "  This is separate from the ipykernel package so we can avoid doing imports until\n"
     ]
    }
   ],
   "source": [
    "#this code creates new columns of vader scores \n",
    "X_holdout_nlp['neg'] = X_holdout_nlp['vader'].apply(lambda x: x.get('neg'))\n",
    "X_holdout_nlp['neu'] = X_holdout_nlp['vader'].apply(lambda x: x.get('neu'))\n",
    "X_holdout_nlp['pos'] = X_holdout_nlp['vader'].apply(lambda x: x.get('pos'))\n",
    "X_holdout_nlp['compound'] = X_holdout_nlp['vader'].apply(lambda x: x.get('compound'))"
   ]
  },
  {
   "cell_type": "code",
   "execution_count": 36,
   "metadata": {},
   "outputs": [
    {
     "data": {
      "text/html": [
       "<div>\n",
       "<style scoped>\n",
       "    .dataframe tbody tr th:only-of-type {\n",
       "        vertical-align: middle;\n",
       "    }\n",
       "\n",
       "    .dataframe tbody tr th {\n",
       "        vertical-align: top;\n",
       "    }\n",
       "\n",
       "    .dataframe thead th {\n",
       "        text-align: right;\n",
       "    }\n",
       "</style>\n",
       "<table border=\"1\" class=\"dataframe\">\n",
       "  <thead>\n",
       "    <tr style=\"text-align: right;\">\n",
       "      <th></th>\n",
       "      <th>Description</th>\n",
       "      <th>no punctuation and numbers</th>\n",
       "      <th>vader</th>\n",
       "      <th>neg</th>\n",
       "      <th>neu</th>\n",
       "      <th>pos</th>\n",
       "      <th>compound</th>\n",
       "    </tr>\n",
       "  </thead>\n",
       "  <tbody>\n",
       "    <tr>\n",
       "      <th>6709</th>\n",
       "      <td>A new career-high &amp; @pelicansnba franchise-hig...</td>\n",
       "      <td>A new careerhigh  pelicansnba franchisehigh  a...</td>\n",
       "      <td>{'neg': 0.0, 'neu': 1.0, 'pos': 0.0, 'compound...</td>\n",
       "      <td>0.000</td>\n",
       "      <td>1.000</td>\n",
       "      <td>0.0</td>\n",
       "      <td>0.000</td>\n",
       "    </tr>\n",
       "    <tr>\n",
       "      <th>1615</th>\n",
       "      <td>Swipe through to recap Wednesday’s seven games!</td>\n",
       "      <td>Swipe through to recap Wednesday’s seven games</td>\n",
       "      <td>{'neg': 0.0, 'neu': 1.0, 'pos': 0.0, 'compound...</td>\n",
       "      <td>0.000</td>\n",
       "      <td>1.000</td>\n",
       "      <td>0.0</td>\n",
       "      <td>0.000</td>\n",
       "    </tr>\n",
       "    <tr>\n",
       "      <th>980</th>\n",
       "      <td>@dloading breaks out an array of moves!</td>\n",
       "      <td>dloading breaks out an array of moves</td>\n",
       "      <td>{'neg': 0.0, 'neu': 1.0, 'pos': 0.0, 'compound...</td>\n",
       "      <td>0.000</td>\n",
       "      <td>1.000</td>\n",
       "      <td>0.0</td>\n",
       "      <td>0.000</td>\n",
       "    </tr>\n",
       "    <tr>\n",
       "      <th>3759</th>\n",
       "      <td>No. 2??...@giannis_an34 ELECTRIFIES The Garden...</td>\n",
       "      <td>No giannisan ELECTRIFIES The Garden  BESTofNBA</td>\n",
       "      <td>{'neg': 0.306, 'neu': 0.694, 'pos': 0.0, 'comp...</td>\n",
       "      <td>0.306</td>\n",
       "      <td>0.694</td>\n",
       "      <td>0.0</td>\n",
       "      <td>-0.296</td>\n",
       "    </tr>\n",
       "    <tr>\n",
       "      <th>6991</th>\n",
       "      <td>@dwighthoward takes it coast to coast for the ...</td>\n",
       "      <td>dwighthoward takes it coast to coast for the N...</td>\n",
       "      <td>{'neg': 0.27, 'neu': 0.73, 'pos': 0.0, 'compou...</td>\n",
       "      <td>0.270</td>\n",
       "      <td>0.730</td>\n",
       "      <td>0.0</td>\n",
       "      <td>-0.516</td>\n",
       "    </tr>\n",
       "  </tbody>\n",
       "</table>\n",
       "</div>"
      ],
      "text/plain": [
       "                                            Description  \\\n",
       "6709  A new career-high & @pelicansnba franchise-hig...   \n",
       "1615    Swipe through to recap Wednesday’s seven games!   \n",
       "980             @dloading breaks out an array of moves!   \n",
       "3759  No. 2??...@giannis_an34 ELECTRIFIES The Garden...   \n",
       "6991  @dwighthoward takes it coast to coast for the ...   \n",
       "\n",
       "                             no punctuation and numbers  \\\n",
       "6709  A new careerhigh  pelicansnba franchisehigh  a...   \n",
       "1615     Swipe through to recap Wednesday’s seven games   \n",
       "980               dloading breaks out an array of moves   \n",
       "3759     No giannisan ELECTRIFIES The Garden  BESTofNBA   \n",
       "6991  dwighthoward takes it coast to coast for the N...   \n",
       "\n",
       "                                                  vader    neg    neu  pos  \\\n",
       "6709  {'neg': 0.0, 'neu': 1.0, 'pos': 0.0, 'compound...  0.000  1.000  0.0   \n",
       "1615  {'neg': 0.0, 'neu': 1.0, 'pos': 0.0, 'compound...  0.000  1.000  0.0   \n",
       "980   {'neg': 0.0, 'neu': 1.0, 'pos': 0.0, 'compound...  0.000  1.000  0.0   \n",
       "3759  {'neg': 0.306, 'neu': 0.694, 'pos': 0.0, 'comp...  0.306  0.694  0.0   \n",
       "6991  {'neg': 0.27, 'neu': 0.73, 'pos': 0.0, 'compou...  0.270  0.730  0.0   \n",
       "\n",
       "      compound  \n",
       "6709     0.000  \n",
       "1615     0.000  \n",
       "980      0.000  \n",
       "3759    -0.296  \n",
       "6991    -0.516  "
      ]
     },
     "execution_count": 36,
     "metadata": {},
     "output_type": "execute_result"
    }
   ],
   "source": [
    "X_train_nlp.head()"
   ]
  },
  {
   "cell_type": "code",
   "execution_count": 37,
   "metadata": {},
   "outputs": [
    {
     "data": {
      "text/html": [
       "<div>\n",
       "<style scoped>\n",
       "    .dataframe tbody tr th:only-of-type {\n",
       "        vertical-align: middle;\n",
       "    }\n",
       "\n",
       "    .dataframe tbody tr th {\n",
       "        vertical-align: top;\n",
       "    }\n",
       "\n",
       "    .dataframe thead th {\n",
       "        text-align: right;\n",
       "    }\n",
       "</style>\n",
       "<table border=\"1\" class=\"dataframe\">\n",
       "  <thead>\n",
       "    <tr style=\"text-align: right;\">\n",
       "      <th></th>\n",
       "      <th>Description</th>\n",
       "      <th>no punctuation and numbers</th>\n",
       "      <th>vader</th>\n",
       "      <th>neg</th>\n",
       "      <th>neu</th>\n",
       "      <th>pos</th>\n",
       "      <th>compound</th>\n",
       "    </tr>\n",
       "  </thead>\n",
       "  <tbody>\n",
       "    <tr>\n",
       "      <th>0</th>\n",
       "      <td>The @raptors even up the Eastern Conference Fi...</td>\n",
       "      <td>The raptors even up the Eastern Conference Fin...</td>\n",
       "      <td>{'neg': 0.0, 'neu': 1.0, 'pos': 0.0, 'compound...</td>\n",
       "      <td>0.0</td>\n",
       "      <td>1.000</td>\n",
       "      <td>0.000</td>\n",
       "      <td>0.0000</td>\n",
       "    </tr>\n",
       "    <tr>\n",
       "      <th>1</th>\n",
       "      <td>The @raptors even the Eastern Conference Final...</td>\n",
       "      <td>The raptors even the Eastern Conference Finals...</td>\n",
       "      <td>{'neg': 0.0, 'neu': 1.0, 'pos': 0.0, 'compound...</td>\n",
       "      <td>0.0</td>\n",
       "      <td>1.000</td>\n",
       "      <td>0.000</td>\n",
       "      <td>0.0000</td>\n",
       "    </tr>\n",
       "    <tr>\n",
       "      <th>2</th>\n",
       "      <td>@sergeibaka keeps it alive for the @raptors! (...</td>\n",
       "      <td>sergeibaka keeps it alive for the raptors  nba...</td>\n",
       "      <td>{'neg': 0.0, 'neu': 0.729, 'pos': 0.271, 'comp...</td>\n",
       "      <td>0.0</td>\n",
       "      <td>0.729</td>\n",
       "      <td>0.271</td>\n",
       "      <td>0.3818</td>\n",
       "    </tr>\n",
       "    <tr>\n",
       "      <th>3</th>\n",
       "      <td>???? The SUPERHUMAN HANDS of Giannis &amp; Kawhi ?...</td>\n",
       "      <td>The SUPERHUMAN HANDS of Giannis  Kawhi \\r\\r b...</td>\n",
       "      <td>{'neg': 0.0, 'neu': 1.0, 'pos': 0.0, 'compound...</td>\n",
       "      <td>0.0</td>\n",
       "      <td>1.000</td>\n",
       "      <td>0.000</td>\n",
       "      <td>0.0000</td>\n",
       "    </tr>\n",
       "    <tr>\n",
       "      <th>4</th>\n",
       "      <td>?? the @raptors &amp; @bucks in transition! #NBABr...</td>\n",
       "      <td>the raptors  bucks in transition NBABreakdown...</td>\n",
       "      <td>{'neg': 0.0, 'neu': 1.0, 'pos': 0.0, 'compound...</td>\n",
       "      <td>0.0</td>\n",
       "      <td>1.000</td>\n",
       "      <td>0.000</td>\n",
       "      <td>0.0000</td>\n",
       "    </tr>\n",
       "  </tbody>\n",
       "</table>\n",
       "</div>"
      ],
      "text/plain": [
       "                                         Description  \\\n",
       "0  The @raptors even up the Eastern Conference Fi...   \n",
       "1  The @raptors even the Eastern Conference Final...   \n",
       "2  @sergeibaka keeps it alive for the @raptors! (...   \n",
       "3  ???? The SUPERHUMAN HANDS of Giannis & Kawhi ?...   \n",
       "4  ?? the @raptors & @bucks in transition! #NBABr...   \n",
       "\n",
       "                          no punctuation and numbers  \\\n",
       "0  The raptors even up the Eastern Conference Fin...   \n",
       "1  The raptors even the Eastern Conference Finals...   \n",
       "2  sergeibaka keeps it alive for the raptors  nba...   \n",
       "3   The SUPERHUMAN HANDS of Giannis  Kawhi \\r\\r b...   \n",
       "4   the raptors  bucks in transition NBABreakdown...   \n",
       "\n",
       "                                               vader  neg    neu    pos  \\\n",
       "0  {'neg': 0.0, 'neu': 1.0, 'pos': 0.0, 'compound...  0.0  1.000  0.000   \n",
       "1  {'neg': 0.0, 'neu': 1.0, 'pos': 0.0, 'compound...  0.0  1.000  0.000   \n",
       "2  {'neg': 0.0, 'neu': 0.729, 'pos': 0.271, 'comp...  0.0  0.729  0.271   \n",
       "3  {'neg': 0.0, 'neu': 1.0, 'pos': 0.0, 'compound...  0.0  1.000  0.000   \n",
       "4  {'neg': 0.0, 'neu': 1.0, 'pos': 0.0, 'compound...  0.0  1.000  0.000   \n",
       "\n",
       "   compound  \n",
       "0    0.0000  \n",
       "1    0.0000  \n",
       "2    0.3818  \n",
       "3    0.0000  \n",
       "4    0.0000  "
      ]
     },
     "execution_count": 37,
     "metadata": {},
     "output_type": "execute_result"
    }
   ],
   "source": [
    "X_holdout_nlp.head()"
   ]
  },
  {
   "cell_type": "markdown",
   "metadata": {},
   "source": [
    "## Tokenize then Lemmatize "
   ]
  },
  {
   "cell_type": "code",
   "execution_count": 38,
   "metadata": {},
   "outputs": [],
   "source": [
    "import nltk"
   ]
  },
  {
   "cell_type": "code",
   "execution_count": 39,
   "metadata": {},
   "outputs": [],
   "source": [
    "from nltk.tokenize import RegexpTokenizer\n",
    "from nltk.stem import WordNetLemmatizer"
   ]
  },
  {
   "cell_type": "code",
   "execution_count": 40,
   "metadata": {},
   "outputs": [],
   "source": [
    "#instntiate tokenizer\n",
    "tokenizer = RegexpTokenizer(r'\\w+')\n",
    "lem = WordNetLemmatizer()"
   ]
  },
  {
   "cell_type": "code",
   "execution_count": 41,
   "metadata": {},
   "outputs": [],
   "source": [
    "def lemmatize(text):\n",
    "    return [lem.lemmatize(w.lower()) for w in tokenizer.tokenize(text)]  #add .replace(\"'\", \"\")\n",
    "\n"
   ]
  },
  {
   "cell_type": "code",
   "execution_count": 42,
   "metadata": {},
   "outputs": [],
   "source": [
    "X_train_nlp['lemmatized'] = X_train_nlp['no punctuation and numbers'].apply(lemmatize)\n",
    "X_holdout_nlp['lemmatized'] = X_holdout_nlp['no punctuation and numbers'].apply(lemmatize)"
   ]
  },
  {
   "cell_type": "code",
   "execution_count": 43,
   "metadata": {},
   "outputs": [
    {
     "data": {
      "text/html": [
       "<div>\n",
       "<style scoped>\n",
       "    .dataframe tbody tr th:only-of-type {\n",
       "        vertical-align: middle;\n",
       "    }\n",
       "\n",
       "    .dataframe tbody tr th {\n",
       "        vertical-align: top;\n",
       "    }\n",
       "\n",
       "    .dataframe thead th {\n",
       "        text-align: right;\n",
       "    }\n",
       "</style>\n",
       "<table border=\"1\" class=\"dataframe\">\n",
       "  <thead>\n",
       "    <tr style=\"text-align: right;\">\n",
       "      <th></th>\n",
       "      <th>Description</th>\n",
       "      <th>no punctuation and numbers</th>\n",
       "      <th>vader</th>\n",
       "      <th>neg</th>\n",
       "      <th>neu</th>\n",
       "      <th>pos</th>\n",
       "      <th>compound</th>\n",
       "      <th>lemmatized</th>\n",
       "    </tr>\n",
       "  </thead>\n",
       "  <tbody>\n",
       "    <tr>\n",
       "      <th>6709</th>\n",
       "      <td>A new career-high &amp; @pelicansnba franchise-hig...</td>\n",
       "      <td>A new careerhigh  pelicansnba franchisehigh  a...</td>\n",
       "      <td>{'neg': 0.0, 'neu': 1.0, 'pos': 0.0, 'compound...</td>\n",
       "      <td>0.000</td>\n",
       "      <td>1.000</td>\n",
       "      <td>0.0</td>\n",
       "      <td>0.000</td>\n",
       "      <td>[a, new, careerhigh, pelicansnba, franchisehig...</td>\n",
       "    </tr>\n",
       "    <tr>\n",
       "      <th>1615</th>\n",
       "      <td>Swipe through to recap Wednesday’s seven games!</td>\n",
       "      <td>Swipe through to recap Wednesday’s seven games</td>\n",
       "      <td>{'neg': 0.0, 'neu': 1.0, 'pos': 0.0, 'compound...</td>\n",
       "      <td>0.000</td>\n",
       "      <td>1.000</td>\n",
       "      <td>0.0</td>\n",
       "      <td>0.000</td>\n",
       "      <td>[swipe, through, to, recap, wednesday, s, seve...</td>\n",
       "    </tr>\n",
       "    <tr>\n",
       "      <th>980</th>\n",
       "      <td>@dloading breaks out an array of moves!</td>\n",
       "      <td>dloading breaks out an array of moves</td>\n",
       "      <td>{'neg': 0.0, 'neu': 1.0, 'pos': 0.0, 'compound...</td>\n",
       "      <td>0.000</td>\n",
       "      <td>1.000</td>\n",
       "      <td>0.0</td>\n",
       "      <td>0.000</td>\n",
       "      <td>[dloading, break, out, an, array, of, move]</td>\n",
       "    </tr>\n",
       "    <tr>\n",
       "      <th>3759</th>\n",
       "      <td>No. 2??...@giannis_an34 ELECTRIFIES The Garden...</td>\n",
       "      <td>No giannisan ELECTRIFIES The Garden  BESTofNBA</td>\n",
       "      <td>{'neg': 0.306, 'neu': 0.694, 'pos': 0.0, 'comp...</td>\n",
       "      <td>0.306</td>\n",
       "      <td>0.694</td>\n",
       "      <td>0.0</td>\n",
       "      <td>-0.296</td>\n",
       "      <td>[no, giannisan, electrifies, the, garden, best...</td>\n",
       "    </tr>\n",
       "    <tr>\n",
       "      <th>6991</th>\n",
       "      <td>@dwighthoward takes it coast to coast for the ...</td>\n",
       "      <td>dwighthoward takes it coast to coast for the N...</td>\n",
       "      <td>{'neg': 0.27, 'neu': 0.73, 'pos': 0.0, 'compou...</td>\n",
       "      <td>0.270</td>\n",
       "      <td>0.730</td>\n",
       "      <td>0.0</td>\n",
       "      <td>-0.516</td>\n",
       "      <td>[dwighthoward, take, it, coast, to, coast, for...</td>\n",
       "    </tr>\n",
       "  </tbody>\n",
       "</table>\n",
       "</div>"
      ],
      "text/plain": [
       "                                            Description  \\\n",
       "6709  A new career-high & @pelicansnba franchise-hig...   \n",
       "1615    Swipe through to recap Wednesday’s seven games!   \n",
       "980             @dloading breaks out an array of moves!   \n",
       "3759  No. 2??...@giannis_an34 ELECTRIFIES The Garden...   \n",
       "6991  @dwighthoward takes it coast to coast for the ...   \n",
       "\n",
       "                             no punctuation and numbers  \\\n",
       "6709  A new careerhigh  pelicansnba franchisehigh  a...   \n",
       "1615     Swipe through to recap Wednesday’s seven games   \n",
       "980               dloading breaks out an array of moves   \n",
       "3759     No giannisan ELECTRIFIES The Garden  BESTofNBA   \n",
       "6991  dwighthoward takes it coast to coast for the N...   \n",
       "\n",
       "                                                  vader    neg    neu  pos  \\\n",
       "6709  {'neg': 0.0, 'neu': 1.0, 'pos': 0.0, 'compound...  0.000  1.000  0.0   \n",
       "1615  {'neg': 0.0, 'neu': 1.0, 'pos': 0.0, 'compound...  0.000  1.000  0.0   \n",
       "980   {'neg': 0.0, 'neu': 1.0, 'pos': 0.0, 'compound...  0.000  1.000  0.0   \n",
       "3759  {'neg': 0.306, 'neu': 0.694, 'pos': 0.0, 'comp...  0.306  0.694  0.0   \n",
       "6991  {'neg': 0.27, 'neu': 0.73, 'pos': 0.0, 'compou...  0.270  0.730  0.0   \n",
       "\n",
       "      compound                                         lemmatized  \n",
       "6709     0.000  [a, new, careerhigh, pelicansnba, franchisehig...  \n",
       "1615     0.000  [swipe, through, to, recap, wednesday, s, seve...  \n",
       "980      0.000        [dloading, break, out, an, array, of, move]  \n",
       "3759    -0.296  [no, giannisan, electrifies, the, garden, best...  \n",
       "6991    -0.516  [dwighthoward, take, it, coast, to, coast, for...  "
      ]
     },
     "execution_count": 43,
     "metadata": {},
     "output_type": "execute_result"
    }
   ],
   "source": [
    "X_train_nlp.head()"
   ]
  },
  {
   "cell_type": "code",
   "execution_count": 44,
   "metadata": {},
   "outputs": [
    {
     "data": {
      "text/html": [
       "<div>\n",
       "<style scoped>\n",
       "    .dataframe tbody tr th:only-of-type {\n",
       "        vertical-align: middle;\n",
       "    }\n",
       "\n",
       "    .dataframe tbody tr th {\n",
       "        vertical-align: top;\n",
       "    }\n",
       "\n",
       "    .dataframe thead th {\n",
       "        text-align: right;\n",
       "    }\n",
       "</style>\n",
       "<table border=\"1\" class=\"dataframe\">\n",
       "  <thead>\n",
       "    <tr style=\"text-align: right;\">\n",
       "      <th></th>\n",
       "      <th>Description</th>\n",
       "      <th>no punctuation and numbers</th>\n",
       "      <th>vader</th>\n",
       "      <th>neg</th>\n",
       "      <th>neu</th>\n",
       "      <th>pos</th>\n",
       "      <th>compound</th>\n",
       "      <th>lemmatized</th>\n",
       "    </tr>\n",
       "  </thead>\n",
       "  <tbody>\n",
       "    <tr>\n",
       "      <th>0</th>\n",
       "      <td>The @raptors even up the Eastern Conference Fi...</td>\n",
       "      <td>The raptors even up the Eastern Conference Fin...</td>\n",
       "      <td>{'neg': 0.0, 'neu': 1.0, 'pos': 0.0, 'compound...</td>\n",
       "      <td>0.0</td>\n",
       "      <td>1.000</td>\n",
       "      <td>0.000</td>\n",
       "      <td>0.0000</td>\n",
       "      <td>[the, raptor, even, up, the, eastern, conferen...</td>\n",
       "    </tr>\n",
       "    <tr>\n",
       "      <th>1</th>\n",
       "      <td>The @raptors even the Eastern Conference Final...</td>\n",
       "      <td>The raptors even the Eastern Conference Finals...</td>\n",
       "      <td>{'neg': 0.0, 'neu': 1.0, 'pos': 0.0, 'compound...</td>\n",
       "      <td>0.0</td>\n",
       "      <td>1.000</td>\n",
       "      <td>0.000</td>\n",
       "      <td>0.0000</td>\n",
       "      <td>[the, raptor, even, the, eastern, conference, ...</td>\n",
       "    </tr>\n",
       "    <tr>\n",
       "      <th>2</th>\n",
       "      <td>@sergeibaka keeps it alive for the @raptors! (...</td>\n",
       "      <td>sergeibaka keeps it alive for the raptors  nba...</td>\n",
       "      <td>{'neg': 0.0, 'neu': 0.729, 'pos': 0.271, 'comp...</td>\n",
       "      <td>0.0</td>\n",
       "      <td>0.729</td>\n",
       "      <td>0.271</td>\n",
       "      <td>0.3818</td>\n",
       "      <td>[sergeibaka, keep, it, alive, for, the, raptor...</td>\n",
       "    </tr>\n",
       "    <tr>\n",
       "      <th>3</th>\n",
       "      <td>???? The SUPERHUMAN HANDS of Giannis &amp; Kawhi ?...</td>\n",
       "      <td>The SUPERHUMAN HANDS of Giannis  Kawhi \\r\\r b...</td>\n",
       "      <td>{'neg': 0.0, 'neu': 1.0, 'pos': 0.0, 'compound...</td>\n",
       "      <td>0.0</td>\n",
       "      <td>1.000</td>\n",
       "      <td>0.000</td>\n",
       "      <td>0.0000</td>\n",
       "      <td>[the, superhuman, hand, of, giannis, kawhi, bu...</td>\n",
       "    </tr>\n",
       "    <tr>\n",
       "      <th>4</th>\n",
       "      <td>?? the @raptors &amp; @bucks in transition! #NBABr...</td>\n",
       "      <td>the raptors  bucks in transition NBABreakdown...</td>\n",
       "      <td>{'neg': 0.0, 'neu': 1.0, 'pos': 0.0, 'compound...</td>\n",
       "      <td>0.0</td>\n",
       "      <td>1.000</td>\n",
       "      <td>0.000</td>\n",
       "      <td>0.0000</td>\n",
       "      <td>[the, raptor, buck, in, transition, nbabreakdo...</td>\n",
       "    </tr>\n",
       "  </tbody>\n",
       "</table>\n",
       "</div>"
      ],
      "text/plain": [
       "                                         Description  \\\n",
       "0  The @raptors even up the Eastern Conference Fi...   \n",
       "1  The @raptors even the Eastern Conference Final...   \n",
       "2  @sergeibaka keeps it alive for the @raptors! (...   \n",
       "3  ???? The SUPERHUMAN HANDS of Giannis & Kawhi ?...   \n",
       "4  ?? the @raptors & @bucks in transition! #NBABr...   \n",
       "\n",
       "                          no punctuation and numbers  \\\n",
       "0  The raptors even up the Eastern Conference Fin...   \n",
       "1  The raptors even the Eastern Conference Finals...   \n",
       "2  sergeibaka keeps it alive for the raptors  nba...   \n",
       "3   The SUPERHUMAN HANDS of Giannis  Kawhi \\r\\r b...   \n",
       "4   the raptors  bucks in transition NBABreakdown...   \n",
       "\n",
       "                                               vader  neg    neu    pos  \\\n",
       "0  {'neg': 0.0, 'neu': 1.0, 'pos': 0.0, 'compound...  0.0  1.000  0.000   \n",
       "1  {'neg': 0.0, 'neu': 1.0, 'pos': 0.0, 'compound...  0.0  1.000  0.000   \n",
       "2  {'neg': 0.0, 'neu': 0.729, 'pos': 0.271, 'comp...  0.0  0.729  0.271   \n",
       "3  {'neg': 0.0, 'neu': 1.0, 'pos': 0.0, 'compound...  0.0  1.000  0.000   \n",
       "4  {'neg': 0.0, 'neu': 1.0, 'pos': 0.0, 'compound...  0.0  1.000  0.000   \n",
       "\n",
       "   compound                                         lemmatized  \n",
       "0    0.0000  [the, raptor, even, up, the, eastern, conferen...  \n",
       "1    0.0000  [the, raptor, even, the, eastern, conference, ...  \n",
       "2    0.3818  [sergeibaka, keep, it, alive, for, the, raptor...  \n",
       "3    0.0000  [the, superhuman, hand, of, giannis, kawhi, bu...  \n",
       "4    0.0000  [the, raptor, buck, in, transition, nbabreakdo...  "
      ]
     },
     "execution_count": 44,
     "metadata": {},
     "output_type": "execute_result"
    }
   ],
   "source": [
    "X_holdout_nlp.head()"
   ]
  },
  {
   "cell_type": "code",
   "execution_count": 45,
   "metadata": {},
   "outputs": [],
   "source": [
    "X_train_nlp['texty'] = [[' '.join(i)] for i in X_train_nlp['lemmatized']]\n",
    "X_train_nlp['string'] = [str(i) for i in X_train_nlp['texty']]\n",
    "X_train_nlp['stringOG'] = [i.replace('[', '').replace(']', '').replace(\"'\", '') for i in X_train_nlp['string']]\n",
    "\n",
    "X_holdout_nlp['texty'] = [[' '.join(i)] for i in X_holdout_nlp['lemmatized']]\n",
    "X_holdout_nlp['string'] = [str(i) for i in X_holdout_nlp['texty']]\n",
    "X_holdout_nlp['stringOG'] = [i.replace('[', '').replace(']', '').replace(\"'\", '') for i in X_holdout_nlp['string']]\n"
   ]
  },
  {
   "cell_type": "code",
   "execution_count": 46,
   "metadata": {},
   "outputs": [
    {
     "data": {
      "text/html": [
       "<div>\n",
       "<style scoped>\n",
       "    .dataframe tbody tr th:only-of-type {\n",
       "        vertical-align: middle;\n",
       "    }\n",
       "\n",
       "    .dataframe tbody tr th {\n",
       "        vertical-align: top;\n",
       "    }\n",
       "\n",
       "    .dataframe thead th {\n",
       "        text-align: right;\n",
       "    }\n",
       "</style>\n",
       "<table border=\"1\" class=\"dataframe\">\n",
       "  <thead>\n",
       "    <tr style=\"text-align: right;\">\n",
       "      <th></th>\n",
       "      <th>Description</th>\n",
       "      <th>no punctuation and numbers</th>\n",
       "      <th>vader</th>\n",
       "      <th>neg</th>\n",
       "      <th>neu</th>\n",
       "      <th>pos</th>\n",
       "      <th>compound</th>\n",
       "      <th>lemmatized</th>\n",
       "      <th>texty</th>\n",
       "      <th>string</th>\n",
       "      <th>stringOG</th>\n",
       "    </tr>\n",
       "  </thead>\n",
       "  <tbody>\n",
       "    <tr>\n",
       "      <th>6709</th>\n",
       "      <td>A new career-high &amp; @pelicansnba franchise-hig...</td>\n",
       "      <td>A new careerhigh  pelicansnba franchisehigh  a...</td>\n",
       "      <td>{'neg': 0.0, 'neu': 1.0, 'pos': 0.0, 'compound...</td>\n",
       "      <td>0.000</td>\n",
       "      <td>1.000</td>\n",
       "      <td>0.0</td>\n",
       "      <td>0.000</td>\n",
       "      <td>[a, new, careerhigh, pelicansnba, franchisehig...</td>\n",
       "      <td>[a new careerhigh pelicansnba franchisehigh as...</td>\n",
       "      <td>['a new careerhigh pelicansnba franchisehigh a...</td>\n",
       "      <td>a new careerhigh pelicansnba franchisehigh ass...</td>\n",
       "    </tr>\n",
       "    <tr>\n",
       "      <th>1615</th>\n",
       "      <td>Swipe through to recap Wednesday’s seven games!</td>\n",
       "      <td>Swipe through to recap Wednesday’s seven games</td>\n",
       "      <td>{'neg': 0.0, 'neu': 1.0, 'pos': 0.0, 'compound...</td>\n",
       "      <td>0.000</td>\n",
       "      <td>1.000</td>\n",
       "      <td>0.0</td>\n",
       "      <td>0.000</td>\n",
       "      <td>[swipe, through, to, recap, wednesday, s, seve...</td>\n",
       "      <td>[swipe through to recap wednesday s seven game]</td>\n",
       "      <td>['swipe through to recap wednesday s seven game']</td>\n",
       "      <td>swipe through to recap wednesday s seven game</td>\n",
       "    </tr>\n",
       "    <tr>\n",
       "      <th>980</th>\n",
       "      <td>@dloading breaks out an array of moves!</td>\n",
       "      <td>dloading breaks out an array of moves</td>\n",
       "      <td>{'neg': 0.0, 'neu': 1.0, 'pos': 0.0, 'compound...</td>\n",
       "      <td>0.000</td>\n",
       "      <td>1.000</td>\n",
       "      <td>0.0</td>\n",
       "      <td>0.000</td>\n",
       "      <td>[dloading, break, out, an, array, of, move]</td>\n",
       "      <td>[dloading break out an array of move]</td>\n",
       "      <td>['dloading break out an array of move']</td>\n",
       "      <td>dloading break out an array of move</td>\n",
       "    </tr>\n",
       "    <tr>\n",
       "      <th>3759</th>\n",
       "      <td>No. 2??...@giannis_an34 ELECTRIFIES The Garden...</td>\n",
       "      <td>No giannisan ELECTRIFIES The Garden  BESTofNBA</td>\n",
       "      <td>{'neg': 0.306, 'neu': 0.694, 'pos': 0.0, 'comp...</td>\n",
       "      <td>0.306</td>\n",
       "      <td>0.694</td>\n",
       "      <td>0.0</td>\n",
       "      <td>-0.296</td>\n",
       "      <td>[no, giannisan, electrifies, the, garden, best...</td>\n",
       "      <td>[no giannisan electrifies the garden bestofnba]</td>\n",
       "      <td>['no giannisan electrifies the garden bestofnba']</td>\n",
       "      <td>no giannisan electrifies the garden bestofnba</td>\n",
       "    </tr>\n",
       "    <tr>\n",
       "      <th>6991</th>\n",
       "      <td>@dwighthoward takes it coast to coast for the ...</td>\n",
       "      <td>dwighthoward takes it coast to coast for the N...</td>\n",
       "      <td>{'neg': 0.27, 'neu': 0.73, 'pos': 0.0, 'compou...</td>\n",
       "      <td>0.270</td>\n",
       "      <td>0.730</td>\n",
       "      <td>0.0</td>\n",
       "      <td>-0.516</td>\n",
       "      <td>[dwighthoward, take, it, coast, to, coast, for...</td>\n",
       "      <td>[dwighthoward take it coast to coast for the n...</td>\n",
       "      <td>['dwighthoward take it coast to coast for the ...</td>\n",
       "      <td>dwighthoward take it coast to coast for the nb...</td>\n",
       "    </tr>\n",
       "  </tbody>\n",
       "</table>\n",
       "</div>"
      ],
      "text/plain": [
       "                                            Description  \\\n",
       "6709  A new career-high & @pelicansnba franchise-hig...   \n",
       "1615    Swipe through to recap Wednesday’s seven games!   \n",
       "980             @dloading breaks out an array of moves!   \n",
       "3759  No. 2??...@giannis_an34 ELECTRIFIES The Garden...   \n",
       "6991  @dwighthoward takes it coast to coast for the ...   \n",
       "\n",
       "                             no punctuation and numbers  \\\n",
       "6709  A new careerhigh  pelicansnba franchisehigh  a...   \n",
       "1615     Swipe through to recap Wednesday’s seven games   \n",
       "980               dloading breaks out an array of moves   \n",
       "3759     No giannisan ELECTRIFIES The Garden  BESTofNBA   \n",
       "6991  dwighthoward takes it coast to coast for the N...   \n",
       "\n",
       "                                                  vader    neg    neu  pos  \\\n",
       "6709  {'neg': 0.0, 'neu': 1.0, 'pos': 0.0, 'compound...  0.000  1.000  0.0   \n",
       "1615  {'neg': 0.0, 'neu': 1.0, 'pos': 0.0, 'compound...  0.000  1.000  0.0   \n",
       "980   {'neg': 0.0, 'neu': 1.0, 'pos': 0.0, 'compound...  0.000  1.000  0.0   \n",
       "3759  {'neg': 0.306, 'neu': 0.694, 'pos': 0.0, 'comp...  0.306  0.694  0.0   \n",
       "6991  {'neg': 0.27, 'neu': 0.73, 'pos': 0.0, 'compou...  0.270  0.730  0.0   \n",
       "\n",
       "      compound                                         lemmatized  \\\n",
       "6709     0.000  [a, new, careerhigh, pelicansnba, franchisehig...   \n",
       "1615     0.000  [swipe, through, to, recap, wednesday, s, seve...   \n",
       "980      0.000        [dloading, break, out, an, array, of, move]   \n",
       "3759    -0.296  [no, giannisan, electrifies, the, garden, best...   \n",
       "6991    -0.516  [dwighthoward, take, it, coast, to, coast, for...   \n",
       "\n",
       "                                                  texty  \\\n",
       "6709  [a new careerhigh pelicansnba franchisehigh as...   \n",
       "1615    [swipe through to recap wednesday s seven game]   \n",
       "980               [dloading break out an array of move]   \n",
       "3759    [no giannisan electrifies the garden bestofnba]   \n",
       "6991  [dwighthoward take it coast to coast for the n...   \n",
       "\n",
       "                                                 string  \\\n",
       "6709  ['a new careerhigh pelicansnba franchisehigh a...   \n",
       "1615  ['swipe through to recap wednesday s seven game']   \n",
       "980             ['dloading break out an array of move']   \n",
       "3759  ['no giannisan electrifies the garden bestofnba']   \n",
       "6991  ['dwighthoward take it coast to coast for the ...   \n",
       "\n",
       "                                               stringOG  \n",
       "6709  a new careerhigh pelicansnba franchisehigh ass...  \n",
       "1615      swipe through to recap wednesday s seven game  \n",
       "980                 dloading break out an array of move  \n",
       "3759      no giannisan electrifies the garden bestofnba  \n",
       "6991  dwighthoward take it coast to coast for the nb...  "
      ]
     },
     "execution_count": 46,
     "metadata": {},
     "output_type": "execute_result"
    }
   ],
   "source": [
    "X_train_nlp.head()"
   ]
  },
  {
   "cell_type": "code",
   "execution_count": 48,
   "metadata": {},
   "outputs": [
    {
     "data": {
      "text/html": [
       "<div>\n",
       "<style scoped>\n",
       "    .dataframe tbody tr th:only-of-type {\n",
       "        vertical-align: middle;\n",
       "    }\n",
       "\n",
       "    .dataframe tbody tr th {\n",
       "        vertical-align: top;\n",
       "    }\n",
       "\n",
       "    .dataframe thead th {\n",
       "        text-align: right;\n",
       "    }\n",
       "</style>\n",
       "<table border=\"1\" class=\"dataframe\">\n",
       "  <thead>\n",
       "    <tr style=\"text-align: right;\">\n",
       "      <th></th>\n",
       "      <th>Description</th>\n",
       "      <th>no punctuation and numbers</th>\n",
       "      <th>vader</th>\n",
       "      <th>neg</th>\n",
       "      <th>neu</th>\n",
       "      <th>pos</th>\n",
       "      <th>compound</th>\n",
       "      <th>lemmatized</th>\n",
       "      <th>texty</th>\n",
       "      <th>string</th>\n",
       "      <th>stringOG</th>\n",
       "    </tr>\n",
       "  </thead>\n",
       "  <tbody>\n",
       "    <tr>\n",
       "      <th>0</th>\n",
       "      <td>The @raptors even up the Eastern Conference Fi...</td>\n",
       "      <td>The raptors even up the Eastern Conference Fin...</td>\n",
       "      <td>{'neg': 0.0, 'neu': 1.0, 'pos': 0.0, 'compound...</td>\n",
       "      <td>0.0</td>\n",
       "      <td>1.000</td>\n",
       "      <td>0.000</td>\n",
       "      <td>0.0000</td>\n",
       "      <td>[the, raptor, even, up, the, eastern, conferen...</td>\n",
       "      <td>[the raptor even up the eastern conference final]</td>\n",
       "      <td>['the raptor even up the eastern conference fi...</td>\n",
       "      <td>the raptor even up the eastern conference final</td>\n",
       "    </tr>\n",
       "    <tr>\n",
       "      <th>1</th>\n",
       "      <td>The @raptors even the Eastern Conference Final...</td>\n",
       "      <td>The raptors even the Eastern Conference Finals...</td>\n",
       "      <td>{'neg': 0.0, 'neu': 1.0, 'pos': 0.0, 'compound...</td>\n",
       "      <td>0.0</td>\n",
       "      <td>1.000</td>\n",
       "      <td>0.000</td>\n",
       "      <td>0.0000</td>\n",
       "      <td>[the, raptor, even, the, eastern, conference, ...</td>\n",
       "      <td>[the raptor even the eastern conference final ...</td>\n",
       "      <td>['the raptor even the eastern conference final...</td>\n",
       "      <td>the raptor even the eastern conference final w...</td>\n",
       "    </tr>\n",
       "    <tr>\n",
       "      <th>2</th>\n",
       "      <td>@sergeibaka keeps it alive for the @raptors! (...</td>\n",
       "      <td>sergeibaka keeps it alive for the raptors  nba...</td>\n",
       "      <td>{'neg': 0.0, 'neu': 0.729, 'pos': 0.271, 'comp...</td>\n",
       "      <td>0.0</td>\n",
       "      <td>0.729</td>\n",
       "      <td>0.271</td>\n",
       "      <td>0.3818</td>\n",
       "      <td>[sergeibaka, keep, it, alive, for, the, raptor...</td>\n",
       "      <td>[sergeibaka keep it alive for the raptor nbaon...</td>\n",
       "      <td>['sergeibaka keep it alive for the raptor nbao...</td>\n",
       "      <td>sergeibaka keep it alive for the raptor nbaontnt</td>\n",
       "    </tr>\n",
       "    <tr>\n",
       "      <th>3</th>\n",
       "      <td>???? The SUPERHUMAN HANDS of Giannis &amp; Kawhi ?...</td>\n",
       "      <td>The SUPERHUMAN HANDS of Giannis  Kawhi \\r\\r b...</td>\n",
       "      <td>{'neg': 0.0, 'neu': 1.0, 'pos': 0.0, 'compound...</td>\n",
       "      <td>0.0</td>\n",
       "      <td>1.000</td>\n",
       "      <td>0.000</td>\n",
       "      <td>0.0000</td>\n",
       "      <td>[the, superhuman, hand, of, giannis, kawhi, bu...</td>\n",
       "      <td>[the superhuman hand of giannis kawhi buck x r...</td>\n",
       "      <td>['the superhuman hand of giannis kawhi buck x ...</td>\n",
       "      <td>the superhuman hand of giannis kawhi buck x ra...</td>\n",
       "    </tr>\n",
       "    <tr>\n",
       "      <th>4</th>\n",
       "      <td>?? the @raptors &amp; @bucks in transition! #NBABr...</td>\n",
       "      <td>the raptors  bucks in transition NBABreakdown...</td>\n",
       "      <td>{'neg': 0.0, 'neu': 1.0, 'pos': 0.0, 'compound...</td>\n",
       "      <td>0.0</td>\n",
       "      <td>1.000</td>\n",
       "      <td>0.000</td>\n",
       "      <td>0.0000</td>\n",
       "      <td>[the, raptor, buck, in, transition, nbabreakdo...</td>\n",
       "      <td>[the raptor buck in transition nbabreakdown ea...</td>\n",
       "      <td>['the raptor buck in transition nbabreakdown e...</td>\n",
       "      <td>the raptor buck in transition nbabreakdown eas...</td>\n",
       "    </tr>\n",
       "  </tbody>\n",
       "</table>\n",
       "</div>"
      ],
      "text/plain": [
       "                                         Description  \\\n",
       "0  The @raptors even up the Eastern Conference Fi...   \n",
       "1  The @raptors even the Eastern Conference Final...   \n",
       "2  @sergeibaka keeps it alive for the @raptors! (...   \n",
       "3  ???? The SUPERHUMAN HANDS of Giannis & Kawhi ?...   \n",
       "4  ?? the @raptors & @bucks in transition! #NBABr...   \n",
       "\n",
       "                          no punctuation and numbers  \\\n",
       "0  The raptors even up the Eastern Conference Fin...   \n",
       "1  The raptors even the Eastern Conference Finals...   \n",
       "2  sergeibaka keeps it alive for the raptors  nba...   \n",
       "3   The SUPERHUMAN HANDS of Giannis  Kawhi \\r\\r b...   \n",
       "4   the raptors  bucks in transition NBABreakdown...   \n",
       "\n",
       "                                               vader  neg    neu    pos  \\\n",
       "0  {'neg': 0.0, 'neu': 1.0, 'pos': 0.0, 'compound...  0.0  1.000  0.000   \n",
       "1  {'neg': 0.0, 'neu': 1.0, 'pos': 0.0, 'compound...  0.0  1.000  0.000   \n",
       "2  {'neg': 0.0, 'neu': 0.729, 'pos': 0.271, 'comp...  0.0  0.729  0.271   \n",
       "3  {'neg': 0.0, 'neu': 1.0, 'pos': 0.0, 'compound...  0.0  1.000  0.000   \n",
       "4  {'neg': 0.0, 'neu': 1.0, 'pos': 0.0, 'compound...  0.0  1.000  0.000   \n",
       "\n",
       "   compound                                         lemmatized  \\\n",
       "0    0.0000  [the, raptor, even, up, the, eastern, conferen...   \n",
       "1    0.0000  [the, raptor, even, the, eastern, conference, ...   \n",
       "2    0.3818  [sergeibaka, keep, it, alive, for, the, raptor...   \n",
       "3    0.0000  [the, superhuman, hand, of, giannis, kawhi, bu...   \n",
       "4    0.0000  [the, raptor, buck, in, transition, nbabreakdo...   \n",
       "\n",
       "                                               texty  \\\n",
       "0  [the raptor even up the eastern conference final]   \n",
       "1  [the raptor even the eastern conference final ...   \n",
       "2  [sergeibaka keep it alive for the raptor nbaon...   \n",
       "3  [the superhuman hand of giannis kawhi buck x r...   \n",
       "4  [the raptor buck in transition nbabreakdown ea...   \n",
       "\n",
       "                                              string  \\\n",
       "0  ['the raptor even up the eastern conference fi...   \n",
       "1  ['the raptor even the eastern conference final...   \n",
       "2  ['sergeibaka keep it alive for the raptor nbao...   \n",
       "3  ['the superhuman hand of giannis kawhi buck x ...   \n",
       "4  ['the raptor buck in transition nbabreakdown e...   \n",
       "\n",
       "                                            stringOG  \n",
       "0    the raptor even up the eastern conference final  \n",
       "1  the raptor even the eastern conference final w...  \n",
       "2   sergeibaka keep it alive for the raptor nbaontnt  \n",
       "3  the superhuman hand of giannis kawhi buck x ra...  \n",
       "4  the raptor buck in transition nbabreakdown eas...  "
      ]
     },
     "execution_count": 48,
     "metadata": {},
     "output_type": "execute_result"
    }
   ],
   "source": [
    "X_holdout_nlp.head()"
   ]
  },
  {
   "cell_type": "markdown",
   "metadata": {},
   "source": [
    "## Vectorizer Time "
   ]
  },
  {
   "cell_type": "code",
   "execution_count": 49,
   "metadata": {},
   "outputs": [],
   "source": [
    "X_train_vec = X_train_nlp['stringOG']\n",
    "X_holdout_vec = X_holdout_nlp['stringOG']"
   ]
  },
  {
   "cell_type": "code",
   "execution_count": 50,
   "metadata": {},
   "outputs": [],
   "source": [
    "from sklearn.feature_extraction.text import TfidfVectorizer"
   ]
  },
  {
   "cell_type": "code",
   "execution_count": 51,
   "metadata": {},
   "outputs": [
    {
     "data": {
      "text/plain": [
       "TfidfVectorizer(analyzer='word', binary=False, decode_error='strict',\n",
       "        dtype=<class 'numpy.float64'>, encoding='utf-8', input='content',\n",
       "        lowercase=True, max_df=1.0, max_features=None, min_df=1,\n",
       "        ngram_range=(1, 1), norm='l2', preprocessor=None, smooth_idf=True,\n",
       "        stop_words='english', strip_accents=None, sublinear_tf=False,\n",
       "        token_pattern='(?u)\\\\b\\\\w\\\\w+\\\\b', tokenizer=None, use_idf=True,\n",
       "        vocabulary=None)"
      ]
     },
     "execution_count": 51,
     "metadata": {},
     "output_type": "execute_result"
    }
   ],
   "source": [
    "tfidf = TfidfVectorizer(stop_words= 'english')\n",
    "tfidf.fit(X_train_vec)"
   ]
  },
  {
   "cell_type": "code",
   "execution_count": 52,
   "metadata": {},
   "outputs": [],
   "source": [
    "# transofrming \n",
    "train_transform = tfidf.transform(X_train_vec)\n",
    "holdout_transform = tfidf.transform(X_holdout_vec)"
   ]
  },
  {
   "cell_type": "code",
   "execution_count": 53,
   "metadata": {},
   "outputs": [],
   "source": [
    "#creating df of transformed data\n",
    "train_transform_df = pd.DataFrame(train_transform.toarray(),\n",
    "                   columns= tfidf.get_feature_names())\n",
    "\n",
    "holdout_transform_df = pd.DataFrame(holdout_transform.toarray(),\n",
    "                   columns= tfidf.get_feature_names())"
   ]
  },
  {
   "cell_type": "code",
   "execution_count": 54,
   "metadata": {},
   "outputs": [
    {
     "data": {
      "text/plain": [
       "(5193, 3400)"
      ]
     },
     "execution_count": 54,
     "metadata": {},
     "output_type": "execute_result"
    }
   ],
   "source": [
    "train_transform_df.shape"
   ]
  },
  {
   "cell_type": "code",
   "execution_count": 55,
   "metadata": {},
   "outputs": [
    {
     "data": {
      "text/plain": [
       "(1000, 3400)"
      ]
     },
     "execution_count": 55,
     "metadata": {},
     "output_type": "execute_result"
    }
   ],
   "source": [
    "holdout_transform_df.shape"
   ]
  },
  {
   "cell_type": "markdown",
   "metadata": {},
   "source": [
    "## We finally made our train and test!"
   ]
  },
  {
   "cell_type": "code",
   "execution_count": 56,
   "metadata": {},
   "outputs": [],
   "source": [
    "vader = ['neg', 'neu', 'pos', 'compound']\n",
    "X_train_df = pd.concat(objs = [train_transform_df,\n",
    "                       X_train_nlp.reset_index()[vader],\n",
    "                       X_train.reset_index()[['Followers at Posting', 'Type_Photo', 'Type_Video']]], \n",
    "                       axis = 1)"
   ]
  },
  {
   "cell_type": "code",
   "execution_count": 57,
   "metadata": {},
   "outputs": [
    {
     "data": {
      "text/plain": [
       "0"
      ]
     },
     "execution_count": 57,
     "metadata": {},
     "output_type": "execute_result"
    }
   ],
   "source": [
    "X_train_df.isnull().sum().sum()"
   ]
  },
  {
   "cell_type": "code",
   "execution_count": 58,
   "metadata": {},
   "outputs": [],
   "source": [
    "vader = ['neg', 'neu', 'pos', 'compound']\n",
    "X_holdout_df = pd.concat(objs = [holdout_transform_df,\n",
    "                       X_holdout_nlp.reset_index()[vader],\n",
    "                       dataframe_holdout.reset_index()[['Followers at Posting', 'Type_Photo', 'Type_Video']]], \n",
    "                       axis = 1)"
   ]
  },
  {
   "cell_type": "code",
   "execution_count": 59,
   "metadata": {},
   "outputs": [
    {
     "data": {
      "text/plain": [
       "0"
      ]
     },
     "execution_count": 59,
     "metadata": {},
     "output_type": "execute_result"
    }
   ],
   "source": [
    "X_holdout_df.isnull().sum().sum()"
   ]
  },
  {
   "cell_type": "code",
   "execution_count": 60,
   "metadata": {},
   "outputs": [
    {
     "data": {
      "text/plain": [
       "(5193, 3407)"
      ]
     },
     "execution_count": 60,
     "metadata": {},
     "output_type": "execute_result"
    }
   ],
   "source": [
    "X_train_df.shape"
   ]
  },
  {
   "cell_type": "code",
   "execution_count": 61,
   "metadata": {},
   "outputs": [
    {
     "data": {
      "text/plain": [
       "(1000, 3407)"
      ]
     },
     "execution_count": 61,
     "metadata": {},
     "output_type": "execute_result"
    }
   ],
   "source": [
    "X_holdout_df.shape"
   ]
  },
  {
   "cell_type": "code",
   "execution_count": 62,
   "metadata": {},
   "outputs": [
    {
     "data": {
      "text/html": [
       "<div>\n",
       "<style scoped>\n",
       "    .dataframe tbody tr th:only-of-type {\n",
       "        vertical-align: middle;\n",
       "    }\n",
       "\n",
       "    .dataframe tbody tr th {\n",
       "        vertical-align: top;\n",
       "    }\n",
       "\n",
       "    .dataframe thead th {\n",
       "        text-align: right;\n",
       "    }\n",
       "</style>\n",
       "<table border=\"1\" class=\"dataframe\">\n",
       "  <thead>\n",
       "    <tr style=\"text-align: right;\">\n",
       "      <th></th>\n",
       "      <th>aarontaosunitedmasters</th>\n",
       "      <th>abc</th>\n",
       "      <th>abcespn</th>\n",
       "      <th>ability</th>\n",
       "      <th>able</th>\n",
       "      <th>academy</th>\n",
       "      <th>acfresh</th>\n",
       "      <th>achievement</th>\n",
       "      <th>acknowledges</th>\n",
       "      <th>acl</th>\n",
       "      <th>...</th>\n",
       "      <th>zhuri</th>\n",
       "      <th>zmane</th>\n",
       "      <th>zo</th>\n",
       "      <th>neg</th>\n",
       "      <th>neu</th>\n",
       "      <th>pos</th>\n",
       "      <th>compound</th>\n",
       "      <th>Followers at Posting</th>\n",
       "      <th>Type_Photo</th>\n",
       "      <th>Type_Video</th>\n",
       "    </tr>\n",
       "  </thead>\n",
       "  <tbody>\n",
       "    <tr>\n",
       "      <th>0</th>\n",
       "      <td>0.0</td>\n",
       "      <td>0.0</td>\n",
       "      <td>0.0</td>\n",
       "      <td>0.0</td>\n",
       "      <td>0.0</td>\n",
       "      <td>0.0</td>\n",
       "      <td>0.0</td>\n",
       "      <td>0.0</td>\n",
       "      <td>0.0</td>\n",
       "      <td>0.0</td>\n",
       "      <td>...</td>\n",
       "      <td>0.0</td>\n",
       "      <td>0.0</td>\n",
       "      <td>0.0</td>\n",
       "      <td>0.0</td>\n",
       "      <td>1.000</td>\n",
       "      <td>0.000</td>\n",
       "      <td>0.0000</td>\n",
       "      <td>36984682</td>\n",
       "      <td>1</td>\n",
       "      <td>0</td>\n",
       "    </tr>\n",
       "    <tr>\n",
       "      <th>1</th>\n",
       "      <td>0.0</td>\n",
       "      <td>0.0</td>\n",
       "      <td>0.0</td>\n",
       "      <td>0.0</td>\n",
       "      <td>0.0</td>\n",
       "      <td>0.0</td>\n",
       "      <td>0.0</td>\n",
       "      <td>0.0</td>\n",
       "      <td>0.0</td>\n",
       "      <td>0.0</td>\n",
       "      <td>...</td>\n",
       "      <td>0.0</td>\n",
       "      <td>0.0</td>\n",
       "      <td>0.0</td>\n",
       "      <td>0.0</td>\n",
       "      <td>1.000</td>\n",
       "      <td>0.000</td>\n",
       "      <td>0.0000</td>\n",
       "      <td>36984682</td>\n",
       "      <td>1</td>\n",
       "      <td>0</td>\n",
       "    </tr>\n",
       "    <tr>\n",
       "      <th>2</th>\n",
       "      <td>0.0</td>\n",
       "      <td>0.0</td>\n",
       "      <td>0.0</td>\n",
       "      <td>0.0</td>\n",
       "      <td>0.0</td>\n",
       "      <td>0.0</td>\n",
       "      <td>0.0</td>\n",
       "      <td>0.0</td>\n",
       "      <td>0.0</td>\n",
       "      <td>0.0</td>\n",
       "      <td>...</td>\n",
       "      <td>0.0</td>\n",
       "      <td>0.0</td>\n",
       "      <td>0.0</td>\n",
       "      <td>0.0</td>\n",
       "      <td>0.729</td>\n",
       "      <td>0.271</td>\n",
       "      <td>0.3818</td>\n",
       "      <td>36984682</td>\n",
       "      <td>0</td>\n",
       "      <td>1</td>\n",
       "    </tr>\n",
       "    <tr>\n",
       "      <th>3</th>\n",
       "      <td>0.0</td>\n",
       "      <td>0.0</td>\n",
       "      <td>0.0</td>\n",
       "      <td>0.0</td>\n",
       "      <td>0.0</td>\n",
       "      <td>0.0</td>\n",
       "      <td>0.0</td>\n",
       "      <td>0.0</td>\n",
       "      <td>0.0</td>\n",
       "      <td>0.0</td>\n",
       "      <td>...</td>\n",
       "      <td>0.0</td>\n",
       "      <td>0.0</td>\n",
       "      <td>0.0</td>\n",
       "      <td>0.0</td>\n",
       "      <td>1.000</td>\n",
       "      <td>0.000</td>\n",
       "      <td>0.0000</td>\n",
       "      <td>36955156</td>\n",
       "      <td>0</td>\n",
       "      <td>1</td>\n",
       "    </tr>\n",
       "    <tr>\n",
       "      <th>4</th>\n",
       "      <td>0.0</td>\n",
       "      <td>0.0</td>\n",
       "      <td>0.0</td>\n",
       "      <td>0.0</td>\n",
       "      <td>0.0</td>\n",
       "      <td>0.0</td>\n",
       "      <td>0.0</td>\n",
       "      <td>0.0</td>\n",
       "      <td>0.0</td>\n",
       "      <td>0.0</td>\n",
       "      <td>...</td>\n",
       "      <td>0.0</td>\n",
       "      <td>0.0</td>\n",
       "      <td>0.0</td>\n",
       "      <td>0.0</td>\n",
       "      <td>1.000</td>\n",
       "      <td>0.000</td>\n",
       "      <td>0.0000</td>\n",
       "      <td>36955156</td>\n",
       "      <td>0</td>\n",
       "      <td>1</td>\n",
       "    </tr>\n",
       "  </tbody>\n",
       "</table>\n",
       "<p>5 rows × 3407 columns</p>\n",
       "</div>"
      ],
      "text/plain": [
       "   aarontaosunitedmasters  abc  abcespn  ability  able  academy  acfresh  \\\n",
       "0                     0.0  0.0      0.0      0.0   0.0      0.0      0.0   \n",
       "1                     0.0  0.0      0.0      0.0   0.0      0.0      0.0   \n",
       "2                     0.0  0.0      0.0      0.0   0.0      0.0      0.0   \n",
       "3                     0.0  0.0      0.0      0.0   0.0      0.0      0.0   \n",
       "4                     0.0  0.0      0.0      0.0   0.0      0.0      0.0   \n",
       "\n",
       "   achievement  acknowledges  acl     ...      zhuri  zmane   zo  neg    neu  \\\n",
       "0          0.0           0.0  0.0     ...        0.0    0.0  0.0  0.0  1.000   \n",
       "1          0.0           0.0  0.0     ...        0.0    0.0  0.0  0.0  1.000   \n",
       "2          0.0           0.0  0.0     ...        0.0    0.0  0.0  0.0  0.729   \n",
       "3          0.0           0.0  0.0     ...        0.0    0.0  0.0  0.0  1.000   \n",
       "4          0.0           0.0  0.0     ...        0.0    0.0  0.0  0.0  1.000   \n",
       "\n",
       "     pos  compound  Followers at Posting  Type_Photo  Type_Video  \n",
       "0  0.000    0.0000              36984682           1           0  \n",
       "1  0.000    0.0000              36984682           1           0  \n",
       "2  0.271    0.3818              36984682           0           1  \n",
       "3  0.000    0.0000              36955156           0           1  \n",
       "4  0.000    0.0000              36955156           0           1  \n",
       "\n",
       "[5 rows x 3407 columns]"
      ]
     },
     "execution_count": 62,
     "metadata": {},
     "output_type": "execute_result"
    }
   ],
   "source": [
    "X_holdout_df.head()"
   ]
  },
  {
   "cell_type": "code",
   "execution_count": 63,
   "metadata": {},
   "outputs": [],
   "source": [
    "X_holdout_df.to_csv('./datasets/X_holdout_df.csv')"
   ]
  }
 ],
 "metadata": {
  "kernelspec": {
   "display_name": "Python 3",
   "language": "python",
   "name": "python3"
  },
  "language_info": {
   "codemirror_mode": {
    "name": "ipython",
    "version": 3
   },
   "file_extension": ".py",
   "mimetype": "text/x-python",
   "name": "python",
   "nbconvert_exporter": "python",
   "pygments_lexer": "ipython3",
   "version": "3.7.1"
  }
 },
 "nbformat": 4,
 "nbformat_minor": 2
}
